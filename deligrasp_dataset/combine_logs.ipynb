{
 "cells": [
  {
   "cell_type": "code",
   "execution_count": 1,
   "metadata": {},
   "outputs": [],
   "source": [
    "import os\n",
    "import sys\n",
    "import json\n",
    "import codecs\n",
    "import importlib\n",
    "import sys\n",
    "sys.path.append(\"../\")\n",
    "import poses\n",
    "import numpy as np\n",
    "import pandas as pd\n",
    "from PIL import Image"
   ]
  },
  {
   "cell_type": "code",
   "execution_count": 4,
   "metadata": {},
   "outputs": [],
   "source": [
    "def log_to_df(path=\"robot_logs/\", grasp_only=False, timestamp=0, obj=\"\"):\n",
    "    '''\n",
    "    combine 3 logs:\n",
    "    1. move (csv)\n",
    "    2. grasp_log (json)\n",
    "    3. home (csv)\n",
    "    '''\n",
    "    global IMAGE\n",
    "    # required format\n",
    "    # observation: 6x joint velocities, gripper velocity, gripper force\n",
    "    # camera: 640x480x3 RGB image\n",
    "    # alternative: depth image too?\n",
    "\n",
    "    # list of dictionaries to tfds\n",
    "    # https://stackoverflow.com/questions/68567630/converting-a-list-of-dictionaries-to-a-tf-dataset\n",
    "\n",
    "    # parse out object from path\n",
    "    obj = path.split('_id-')[0].split('_')[1:]\n",
    "    obj = ' '.join(obj)\n",
    "\n",
    "    # parse out timestamp from path\n",
    "    if timestamp == 0:\n",
    "        timestamp = path.split('_')[0].split('/')[-1]\n",
    "    \n",
    "    if \"FAIL\" in path:\n",
    "        fail_reason = path.split('-')[-1]\n",
    "\n",
    "    # load csv to pd df\n",
    "    home = pd.read_csv(f\"{path}/home.csv\")\n",
    "    move = pd.read_csv(f\"{path}/move.csv\")\n",
    "    \n",
    "    # extract 6d poses, x, y, z, rx, ry, rz from actual_TCP_pose_0 to actual_TCP_pose_5\n",
    "    home_tcp = home[['actual_TCP_pose_0', 'actual_TCP_pose_1', 'actual_TCP_pose_2', 'actual_TCP_pose_3', 'actual_TCP_pose_4', 'actual_TCP_pose_5']]\n",
    "    move_tcp = move[['actual_TCP_pose_0', 'actual_TCP_pose_1', 'actual_TCP_pose_2', 'actual_TCP_pose_3', 'actual_TCP_pose_4', 'actual_TCP_pose_5']]\n",
    "    # calculate delta TCP pose from 'target_TCP_pose_0' to 'target_TCP_pose_5' vs 'actual_TCP_pose_0' to 'actual_TCP_pose_5'\n",
    "    home_tcp_target = home[['target_TCP_pose_0', 'target_TCP_pose_1', 'target_TCP_pose_2', 'target_TCP_pose_3', 'target_TCP_pose_4', 'target_TCP_pose_5']]\n",
    "    move_tcp_target = move[['target_TCP_pose_0', 'target_TCP_pose_1', 'target_TCP_pose_2', 'target_TCP_pose_3', 'target_TCP_pose_4', 'target_TCP_pose_5']]\n",
    "    \n",
    "    def axis_angle_to_quat(pose):\n",
    "        # convert 6d pose to matrix\n",
    "        tmat = poses.pose_vec_to_mtrx(pose)\n",
    "        # convert rot to roll, pitch, yaw\n",
    "        quat = poses.rotMatx_2_quat(tmat[:3, :3])\n",
    "        quat = np.array([quat.scalar, quat.vector[0], quat.vector[1], quat.vector[2]])\n",
    "        p = np.concatenate((pose[:3], quat))\n",
    "        return p\n",
    "    \n",
    "    # very annoyed. bridge uses rpy/delta rpy\n",
    "    # autolab uses quat for state, delta rpy for action. freaks!\n",
    "    def axis_angle_to_rpy(pose):\n",
    "        # convert 6d pose to matrix\n",
    "        tmat = poses.pose_vec_to_mtrx(pose)\n",
    "        # convert rot to roll, pitch, yaw\n",
    "        rpy = poses.rotation_mtrx_to_rpy(tmat[:3, :3])\n",
    "        # combine with translation, the first 3 elements of pose\n",
    "        rpy = np.concatenate((pose[:3], rpy))\n",
    "        return rpy\n",
    "\n",
    "    # convert 6d axis-angle pose to 6d rpy pose for home_tcp and move_tcp\n",
    "    home_tcp = home_tcp.apply(axis_angle_to_rpy, axis=1)\n",
    "    move_tcp = move_tcp.apply(axis_angle_to_rpy, axis=1)\n",
    "    home_tcp_target = home_tcp_target.apply(axis_angle_to_rpy, axis=1)\n",
    "    move_tcp_target = move_tcp_target.apply(axis_angle_to_rpy, axis=1)\n",
    "\n",
    "    home_tcp_delta = home_tcp_target - home_tcp\n",
    "    move_tcp_delta = move_tcp_target - move_tcp\n",
    "\n",
    "    # extract timestamp columns and actual_qd columns from actual_q_0 to actual_q_5\n",
    "    home = home[['timestamp', 'actual_q_0', 'actual_q_1', 'actual_q_2', 'actual_q_3', 'actual_q_4', 'actual_q_5']]\n",
    "    move = move[['timestamp', 'actual_q_0', 'actual_q_1', 'actual_q_2', 'actual_q_3', 'actual_q_4', 'actual_q_5']]\n",
    "    # rename actual_q_0 to actual_q_5 to q0 to q5\n",
    "    home.rename(columns={'actual_q_0': 'q0', 'actual_q_1': 'q1', 'actual_q_2': 'q2', 'actual_q_3': 'q3', 'actual_q_4': 'q4', 'actual_q_5': 'q5'}, inplace=True)\n",
    "    move.rename(columns={'actual_q_0': 'q0', 'actual_q_1': 'q1', 'actual_q_2': 'q2', 'actual_q_3': 'q3', 'actual_q_4': 'q4', 'actual_q_5': 'q5'}, inplace=True)\n",
    "    # home = home[['timestamp']]\n",
    "    # move = move[['timestamp']]\n",
    "\n",
    "    \n",
    "    # assign to home and move dfs\n",
    "    # home tcp has become a single column df, each cell containing a 6-element list, need to split back into 'actual_TCP_pose_0', 'actual_TCP_pose_1', 'actual_TCP_pose_2', 'actual_TCP_pose_3', 'actual_TCP_pose_4', 'actual_TCP_pose_5'\n",
    "    home_tcp = pd.DataFrame(home_tcp.tolist(), columns=['x', 'y', 'z', 'rx', 'ry', 'rz'])\n",
    "    move_tcp = pd.DataFrame(move_tcp.tolist(), columns=['x', 'y', 'z', 'rx', 'ry', 'rz'])\n",
    "    home_tcp_delta = pd.DataFrame(home_tcp_delta.tolist(), columns=['dx', 'dy', 'dz', 'drx', 'dry', 'drz'])\n",
    "    move_tcp_delta = pd.DataFrame(move_tcp_delta.tolist(), columns=['dx', 'dy', 'dz', 'drx', 'dry', 'drz'])\n",
    "\n",
    "    home[['x', 'y', 'z', 'rx', 'ry', 'rz']] = home_tcp\n",
    "    move[['x', 'y', 'z', 'rx', 'ry', 'rz']] = move_tcp\n",
    "    home[['dx', 'dy', 'dz', 'drx', 'dry', 'drz']] = home_tcp_delta\n",
    "    move[['dx', 'dy', 'dz', 'drx', 'dry', 'drz']] = move_tcp_delta\n",
    "\n",
    "    # load json\n",
    "    grasp_pth = f\"{path}/grasp.json\"\n",
    "    obj_text = codecs.open(grasp_pth, 'r', encoding='utf-8').read()\n",
    "    gl = np.array(json.loads(obj_text))\n",
    "    grasp_log = pd.DataFrame(gl.tolist()) # convert to pd df\n",
    "    # keep only timestamp, aperture, gripper_vel, and contact_force cols, add actual_qd columns from actual_qd_0 to actual_qd_6 from the last row of move to grasp_log\n",
    "\n",
    "    gl_copy = grasp_log.copy()\n",
    "    grasp_log = grasp_log[['timestamp', 'aperture', 'applied_force', 'contact_force']]\n",
    "    # set the ceiling of applied_force to be 32.4N\n",
    "    grasp_log['applied_force'] = grasp_log['applied_force'].clip(0.0, 32.4)\n",
    "    # look one row ahead to get the n+1 aperture and applied_force, subtract current aperture and applied force, and set to d_aperture, d_applied_force\n",
    "    grasp_log['d_aperture'] = grasp_log['aperture'].diff().shift(-1)\n",
    "    grasp_log['d_applied_force'] = grasp_log['applied_force'].diff().shift(-1)\n",
    "    # set the last row's d_aperture and d_applied_force to 0\n",
    "    grasp_log.iloc[-1, -2:] = 0.0\n",
    "    grasp_log[['q0', 'q1', 'q2', 'q3', 'q4', 'q5', 'x', 'y', 'z', 'rx', 'ry', 'rz']] = move.iloc[-1][['q0', 'q1', 'q2', 'q3', 'q4', 'q5', 'x', 'y', 'z', 'rx', 'ry', 'rz']]\n",
    "    grasp_log[['dx', 'dy', 'dz', 'drx', 'dry', 'drz']] = 0.0\n",
    "    # reorder columns so that it is: timestamp, x, y, z, qx, qy, qz, qw, dx, dy, dz, dqx, dqy, dqz, dqw, aperture, d_aperture, applied_force, d_applied_force\n",
    "    grasp_log = grasp_log[['timestamp', 'q0', 'q1', 'q2', 'q3', 'q4', 'q5', 'x', 'y', 'z', 'rx', 'ry', 'rz', 'dx', 'dy', 'dz', 'drx', 'dry', 'drz', 'aperture', 'd_aperture', 'applied_force', 'd_applied_force', 'contact_force']]\n",
    "    # grasp_log.fillna(0.0, inplace=True)\n",
    "    # df = grasp_log\n",
    "    # print(grasp_log[['applied_force', 'd_applied_force', 'aperture', 'd_aperture']])\n",
    "\n",
    "    # add columns to move and home dfs\n",
    "    move['aperture'] = 100.0 # set to 100.0mm\n",
    "    move['d_aperture'] = 0.0\n",
    "    move['applied_force'] = 0.0\n",
    "    move['d_applied_force'] = 0.0\n",
    "    move['contact_force'] = 0.0\n",
    "    \n",
    "    home['aperture'] = grasp_log['aperture'].iloc[-1]\n",
    "    home['d_aperture'] = 0.0\n",
    "    home['applied_force'] = grasp_log['applied_force'].iloc[-1]\n",
    "    home['d_applied_force'] = 0.0\n",
    "    home['contact_force'] = grasp_log['contact_force'].iloc[-1]\n",
    "\n",
    "    # make last 'd_applied_force' of move be 0 + first 'applied_force' of grasp_log\n",
    "    move['d_applied_force'].iloc[-1] = grasp_log['applied_force'].iloc[0]\n",
    "    # make last 'd_aperture' of move be  first 'aperture' of grasp_log - 100mm\n",
    "    move['d_aperture'].iloc[-1] = grasp_log['aperture'].iloc[0] - 100\n",
    "\n",
    "    # add task column to move, grasp_log, and home\n",
    "    move_task = f\"move to grasp {obj}\"\n",
    "    grasp_task = f\"grasp {obj}\"\n",
    "    home_task = f\"move back to original position with {obj}\"\n",
    "    task = f\"grasp {obj} and return to original position\"\n",
    "    if grasp_only:\n",
    "        task = grasp_task\n",
    "    move['subtask'] = move_task\n",
    "    move['task'] = task\n",
    "    grasp_log['subtask'] = grasp_task\n",
    "    grasp_log['task'] = task\n",
    "    home['subtask'] = home_task\n",
    "    home['task'] = task\n",
    "\n",
    "    # make last subtask of move be grasp_task\n",
    "    move['subtask'].iloc[-1] = grasp_task\n",
    "\n",
    "    def extract_timestamp(filename):\n",
    "        # extracting the float\n",
    "        img = filename.split('_')[1].split('.')[:2]\n",
    "        return float(f\"{img[0]}.{img[1]}\")\n",
    "\n",
    "    # # get initial values, iteratively subtract 0.1s from last_move and last_home and assign to to move and home timestamps, from last to first\n",
    "    move_workspace_img = sorted([extract_timestamp(f) for f in os.listdir(f\"{path}/workspace_img\") if f.startswith(\"0_\")])\n",
    "    move_wrist_img = sorted([extract_timestamp(f) for f in os.listdir(f\"{path}/wrist_img\") if f.startswith(\"0_\")])\n",
    "    last_move_workspace_img = move_workspace_img[-1]\n",
    "    last_move_wrist_img = move_wrist_img[-1]\n",
    "    last_move = max(last_move_workspace_img, last_move_wrist_img)\n",
    "\n",
    "    home_workspace_img = sorted([extract_timestamp(f) for f in os.listdir(f\"{path}/workspace_img\") if f.startswith(\"2_\")])\n",
    "    home_wrist_img = sorted([extract_timestamp(f) for f in os.listdir(f\"{path}/wrist_img\") if f.startswith(\"2_\")])\n",
    "    last_home_workspace_img = home_workspace_img[-1]\n",
    "    last_home_wrist_img = home_wrist_img[-1]\n",
    "    last_home = max(last_home_workspace_img, last_home_wrist_img)\n",
    "\n",
    "    for i in np.arange(len(move)-1, -1, -1):\n",
    "        # iterate backwards through move timestamps\n",
    "        move.loc[i, 'timestamp'] = last_move\n",
    "        last_move -= 0.096\n",
    "    \n",
    "    for i in np.arange(len(home)-1, -1, -1):\n",
    "        # iterate backwards through home timestamps\n",
    "        home.loc[i, 'timestamp'] = last_home\n",
    "        last_home -= 0.096\n",
    "\n",
    "    grasp_workspace_img = sorted([extract_timestamp(f) for f in os.listdir(f\"{path}/workspace_img\") if f.startswith(\"1_\")])\n",
    "    grasp_wrist_img = sorted([extract_timestamp(f) for f in os.listdir(f\"{path}/wrist_img\") if f.startswith(\"1_\")])\n",
    "    \n",
    "    def timestamp_to_filename(timestamp, index):\n",
    "        # converting the float to a string\n",
    "        return f\"{index}_{str(timestamp)}.jpeg\"\n",
    "\n",
    "    move_workspace_interpolated = []\n",
    "    grasp_workspace_interpolated = []\n",
    "    home_workspace_interpolated = []\n",
    "    move_wrist_interpolated = []\n",
    "    grasp_wrist_interpolated = []\n",
    "    home_wrist_interpolated = []\n",
    "    # go thropugh each timestamp in move, grasp, and home\n",
    "    # find the closest img timestamp and append to move_interpolated, grasp_interpolated, and home_interpolated\n",
    "    for m in move['timestamp']:\n",
    "        move_workspace_interpolated.append(timestamp_to_filename(min(move_workspace_img, key=lambda x:abs(x-m)), 0))\n",
    "        move_wrist_interpolated.append(timestamp_to_filename(min(move_wrist_img, key=lambda x:abs(x-m)), 0))\n",
    "    for g in grasp_log['timestamp']:\n",
    "        grasp_workspace_interpolated.append(timestamp_to_filename(min(grasp_workspace_img, key=lambda x:abs(x-g)), 1))\n",
    "        grasp_wrist_interpolated.append(timestamp_to_filename(min(grasp_wrist_img, key=lambda x:abs(x-g)), 1))\n",
    "    for h in home['timestamp']:\n",
    "        home_workspace_interpolated.append(timestamp_to_filename(min(home_workspace_img, key=lambda x:abs(x-h)), 2))\n",
    "        home_wrist_interpolated.append(timestamp_to_filename(min(home_wrist_img, key=lambda x:abs(x-h)), 2))\n",
    "\n",
    "    # make new columns in dataframes\n",
    "    move['img'] = move_workspace_interpolated\n",
    "    move['wrist_img'] = move_wrist_interpolated\n",
    "    grasp_log['img'] = grasp_workspace_interpolated\n",
    "    grasp_log['wrist_img'] = grasp_wrist_interpolated\n",
    "    home['img'] = home_workspace_interpolated\n",
    "    home['wrist_img'] = home_wrist_interpolated\n",
    "\n",
    "    # write move, grasp_log, and home to csv files\n",
    "    move.to_csv(f\"{path}/0.csv\", index=False)\n",
    "    grasp_log.to_csv(f\"{path}/1.csv\", index=False)\n",
    "    home.to_csv(f\"{path}/2.csv\", index=False)\n",
    "\n",
    "    # load actual image, not just the filename, cast from jpeg to numpy array\n",
    "    move['img'] = [np.array(Image.open(f\"{path}/workspace_img/{i}\")) for i in move['img']]\n",
    "    move['wrist_img'] = [np.array(Image.open(f\"{path}/wrist_img/{i}\")) for i in move['wrist_img']]\n",
    "    grasp_log['img'] = [np.array(Image.open(f\"{path}/workspace_img/{i}\")) for i in grasp_log['img']]\n",
    "    grasp_log['wrist_img'] = [np.array(Image.open(f\"{path}/wrist_img/{i}\")) for i in grasp_log['wrist_img']]\n",
    "    home['img'] = [np.array(Image.open(f\"{path}/workspace_img/{i}\")) for i in home['img']]\n",
    "    home['wrist_img'] = [np.array(Image.open(f\"{path}/wrist_img/{i}\")) for i in home['wrist_img']]\n",
    "    \n",
    "    # write move, grasp_log, and home to csv files\n",
    "    # move.to_csv(f\"{path}/0.csv\", index=False)\n",
    "    # grasp_log.to_csv(f\"{path}/1.csv\", index=False)\n",
    "    # home.to_csv(f\"{path}/2.csv\", index=False)\n",
    "\n",
    "    # # combine dataframes vertically\n",
    "    df = pd.concat([move, grasp_log, home], axis=0)\n",
    "    # # round all float columns to 6 decimal places\n",
    "    df = df.round(6)\n",
    "    # # save df to csv\n",
    "    # df.to_csv(f\"{path}/trajectory.csv\", index=False)\n",
    "\n",
    "    # now we normalize aperture, d_aperture, applied_force, d_applied force, and contact_force\n",
    "    # aperture: 0 - 100mm\n",
    "    # force: 0 - 16.2N\n",
    "    # scale aperture and d_aperture\n",
    "    df['aperture'] = df['aperture']/100.0 # mm to dm\n",
    "    df['d_aperture'] = df['d_aperture']/100.0 # mm to dm\n",
    "    # scale force and d_force\n",
    "    df['applied_force'] = df['applied_force']/100.0 #N to daN\n",
    "    df['contact_force'] = df['contact_force']/100.0 #N to daN\n",
    "    df['d_applied_force'] = df['d_applied_force']/100.0 #N to daN\n",
    "\n",
    "    # print if any of d_aperture or d_applied_force > 1.0 or < -1.0\n",
    "    print(df[(df['d_aperture'] > 1.0) | (df['d_aperture'] < -1.0)])\n",
    "    print(df[(df['d_applied_force'] > 1.0) | (df['d_applied_force'] < -1.0)])\n",
    "    columns = ['timestamp', 'q0', 'q1', 'q2', 'q3', 'q4', 'q5', 'x', 'y', 'z', 'rx', 'ry', 'rz', 'dx', 'dy', 'dz', 'drx', 'dry', 'drz', 'aperture', 'd_aperture', 'applied_force', 'd_applied_force', 'contact_force', 'subtask', 'task', 'img', 'wrist_img']\n",
    "    # make sure columns are in the right order\n",
    "    df = df[columns]\n",
    "    # df['applied_force']   = (df['applied_force']/ 16.2).clip(0.0, 1.0)\n",
    "    # df['d_applied_force'] = (df['d_applied_force']/ 16.2).clip(0.0, 1.0)\n",
    "    # df['contact_force'] = (df['contact_force']/16.2).clip(0.0, 1.0)\n",
    "    # print(df[['applied_force', 'd_applied_force', 'aperture', 'd_aperture']])\n",
    "\n",
    "    # get rows where subtask is grasp_task\n",
    "    grasp_df = df[df['subtask'] == grasp_task]\n",
    "    if grasp_only: df = grasp_df\n",
    "\n",
    "    # return df as pickled np array\n",
    "    df_pkl = df.to_numpy()\n",
    "    # np.save(f\"{path}/episode_{obj}_{timestamp}.npy\", df_pkl)\n",
    "    np.save(f\"data/train/episode_{obj}_{timestamp}.npy\", df_pkl)\n",
    "    # np.save(f\"data/fails/episode_{obj}_{timestamp}_FAIL-{fail_reason}.npy\", df_pkl)\n",
    "\n",
    "    return move, grasp_log, home"
   ]
  },
  {
   "cell_type": "code",
   "execution_count": 3,
   "metadata": {},
   "outputs": [],
   "source": [
    "def grasp_debug(path=\"robot_logs/\", timestamp=0, obj=\"\"):\n",
    "    grasp_pth = f\"{path}/grasp.json\"\n",
    "    obj_text = codecs.open(grasp_pth, 'r', encoding='utf-8').read()\n",
    "    gl = np.array(json.loads(obj_text))\n",
    "    grasp_log = pd.DataFrame(gl.tolist()) # convert to pd df\n",
    "\n",
    "    grasp_log = grasp_log[['timestamp', 'aperture', 'applied_force', 'contact_force']]\n",
    "    # look one row ahead to get the n+1 aperture and applied_force, subtract current aperture and applied force, and set to d_aperture, d_applied_force\n",
    "    grasp_log['d_aperture'] = grasp_log['aperture'].diff().shift(-1)\n",
    "    grasp_log['d_applied_force'] = grasp_log['applied_force'].diff().shift(-1)\n",
    "    grasp_log.iloc[-1, -2:] = 0.0\n",
    "    # set NaN to 0\n",
    "    # grasp_log.fillna(0.0, inplace=True)\n",
    "    df = grasp_log\n",
    "    print(df[['applied_force', 'd_applied_force', 'aperture', 'd_aperture']])\n",
    "\n"
   ]
  },
  {
   "cell_type": "code",
   "execution_count": 38,
   "metadata": {},
   "outputs": [],
   "source": [
    "# log_to_df(path=f\"trajectories/1727459089.0012171_bottle_cap_id-0\")"
   ]
  },
  {
   "cell_type": "code",
   "execution_count": 5,
   "metadata": {},
   "outputs": [
    {
     "name": "stdout",
     "output_type": "stream",
     "text": [
      "trajectories/1726689405.2236292_red_button_id-0\n"
     ]
    },
    {
     "name": "stderr",
     "output_type": "stream",
     "text": [
      "C:\\Users\\willi\\AppData\\Local\\Temp\\ipykernel_10196\\592521529.py:147: SettingWithCopyWarning: \n",
      "A value is trying to be set on a copy of a slice from a DataFrame\n",
      "\n",
      "See the caveats in the documentation: https://pandas.pydata.org/pandas-docs/stable/user_guide/indexing.html#returning-a-view-versus-a-copy\n",
      "  move['subtask'].iloc[-1] = grasp_task\n"
     ]
    },
    {
     "name": "stdout",
     "output_type": "stream",
     "text": [
      "Empty DataFrame\n",
      "Columns: [timestamp, q0, q1, q2, q3, q4, q5, x, y, z, rx, ry, rz, dx, dy, dz, drx, dry, drz, aperture, d_aperture, applied_force, d_applied_force, contact_force, subtask, task, img, wrist_img]\n",
      "Index: []\n",
      "\n",
      "[0 rows x 28 columns]\n",
      "Empty DataFrame\n",
      "Columns: [timestamp, q0, q1, q2, q3, q4, q5, x, y, z, rx, ry, rz, dx, dy, dz, drx, dry, drz, aperture, d_aperture, applied_force, d_applied_force, contact_force, subtask, task, img, wrist_img]\n",
      "Index: []\n",
      "\n",
      "[0 rows x 28 columns]\n",
      "trajectories/1726689855.8823204_yellow_block_id-0\n"
     ]
    },
    {
     "name": "stderr",
     "output_type": "stream",
     "text": [
      "C:\\Users\\willi\\AppData\\Local\\Temp\\ipykernel_10196\\592521529.py:147: SettingWithCopyWarning: \n",
      "A value is trying to be set on a copy of a slice from a DataFrame\n",
      "\n",
      "See the caveats in the documentation: https://pandas.pydata.org/pandas-docs/stable/user_guide/indexing.html#returning-a-view-versus-a-copy\n",
      "  move['subtask'].iloc[-1] = grasp_task\n"
     ]
    },
    {
     "name": "stdout",
     "output_type": "stream",
     "text": [
      "Empty DataFrame\n",
      "Columns: [timestamp, q0, q1, q2, q3, q4, q5, x, y, z, rx, ry, rz, dx, dy, dz, drx, dry, drz, aperture, d_aperture, applied_force, d_applied_force, contact_force, subtask, task, img, wrist_img]\n",
      "Index: []\n",
      "\n",
      "[0 rows x 28 columns]\n",
      "Empty DataFrame\n",
      "Columns: [timestamp, q0, q1, q2, q3, q4, q5, x, y, z, rx, ry, rz, dx, dy, dz, drx, dry, drz, aperture, d_aperture, applied_force, d_applied_force, contact_force, subtask, task, img, wrist_img]\n",
      "Index: []\n",
      "\n",
      "[0 rows x 28 columns]\n",
      "trajectories/1726691753.9317017_cardboard_box_id-0\n"
     ]
    },
    {
     "name": "stderr",
     "output_type": "stream",
     "text": [
      "C:\\Users\\willi\\AppData\\Local\\Temp\\ipykernel_10196\\592521529.py:147: SettingWithCopyWarning: \n",
      "A value is trying to be set on a copy of a slice from a DataFrame\n",
      "\n",
      "See the caveats in the documentation: https://pandas.pydata.org/pandas-docs/stable/user_guide/indexing.html#returning-a-view-versus-a-copy\n",
      "  move['subtask'].iloc[-1] = grasp_task\n"
     ]
    },
    {
     "name": "stdout",
     "output_type": "stream",
     "text": [
      "Empty DataFrame\n",
      "Columns: [timestamp, q0, q1, q2, q3, q4, q5, x, y, z, rx, ry, rz, dx, dy, dz, drx, dry, drz, aperture, d_aperture, applied_force, d_applied_force, contact_force, subtask, task, img, wrist_img]\n",
      "Index: []\n",
      "\n",
      "[0 rows x 28 columns]\n",
      "Empty DataFrame\n",
      "Columns: [timestamp, q0, q1, q2, q3, q4, q5, x, y, z, rx, ry, rz, dx, dy, dz, drx, dry, drz, aperture, d_aperture, applied_force, d_applied_force, contact_force, subtask, task, img, wrist_img]\n",
      "Index: []\n",
      "\n",
      "[0 rows x 28 columns]\n",
      "trajectories/1726692950.3229165_yellow_ducky_id-0\n"
     ]
    },
    {
     "name": "stderr",
     "output_type": "stream",
     "text": [
      "C:\\Users\\willi\\AppData\\Local\\Temp\\ipykernel_10196\\592521529.py:147: SettingWithCopyWarning: \n",
      "A value is trying to be set on a copy of a slice from a DataFrame\n",
      "\n",
      "See the caveats in the documentation: https://pandas.pydata.org/pandas-docs/stable/user_guide/indexing.html#returning-a-view-versus-a-copy\n",
      "  move['subtask'].iloc[-1] = grasp_task\n"
     ]
    },
    {
     "name": "stdout",
     "output_type": "stream",
     "text": [
      "Empty DataFrame\n",
      "Columns: [timestamp, q0, q1, q2, q3, q4, q5, x, y, z, rx, ry, rz, dx, dy, dz, drx, dry, drz, aperture, d_aperture, applied_force, d_applied_force, contact_force, subtask, task, img, wrist_img]\n",
      "Index: []\n",
      "\n",
      "[0 rows x 28 columns]\n",
      "Empty DataFrame\n",
      "Columns: [timestamp, q0, q1, q2, q3, q4, q5, x, y, z, rx, ry, rz, dx, dy, dz, drx, dry, drz, aperture, d_aperture, applied_force, d_applied_force, contact_force, subtask, task, img, wrist_img]\n",
      "Index: []\n",
      "\n",
      "[0 rows x 28 columns]\n",
      "trajectories/1726693198.0179923_water_bottle_id-0\n"
     ]
    },
    {
     "name": "stderr",
     "output_type": "stream",
     "text": [
      "C:\\Users\\willi\\AppData\\Local\\Temp\\ipykernel_10196\\592521529.py:147: SettingWithCopyWarning: \n",
      "A value is trying to be set on a copy of a slice from a DataFrame\n",
      "\n",
      "See the caveats in the documentation: https://pandas.pydata.org/pandas-docs/stable/user_guide/indexing.html#returning-a-view-versus-a-copy\n",
      "  move['subtask'].iloc[-1] = grasp_task\n"
     ]
    },
    {
     "name": "stdout",
     "output_type": "stream",
     "text": [
      "Empty DataFrame\n",
      "Columns: [timestamp, q0, q1, q2, q3, q4, q5, x, y, z, rx, ry, rz, dx, dy, dz, drx, dry, drz, aperture, d_aperture, applied_force, d_applied_force, contact_force, subtask, task, img, wrist_img]\n",
      "Index: []\n",
      "\n",
      "[0 rows x 28 columns]\n",
      "Empty DataFrame\n",
      "Columns: [timestamp, q0, q1, q2, q3, q4, q5, x, y, z, rx, ry, rz, dx, dy, dz, drx, dry, drz, aperture, d_aperture, applied_force, d_applied_force, contact_force, subtask, task, img, wrist_img]\n",
      "Index: []\n",
      "\n",
      "[0 rows x 28 columns]\n",
      "trajectories/1726693429.294954_empty_paper_cup_id-0\n"
     ]
    },
    {
     "name": "stderr",
     "output_type": "stream",
     "text": [
      "C:\\Users\\willi\\AppData\\Local\\Temp\\ipykernel_10196\\592521529.py:147: SettingWithCopyWarning: \n",
      "A value is trying to be set on a copy of a slice from a DataFrame\n",
      "\n",
      "See the caveats in the documentation: https://pandas.pydata.org/pandas-docs/stable/user_guide/indexing.html#returning-a-view-versus-a-copy\n",
      "  move['subtask'].iloc[-1] = grasp_task\n"
     ]
    },
    {
     "name": "stdout",
     "output_type": "stream",
     "text": [
      "Empty DataFrame\n",
      "Columns: [timestamp, q0, q1, q2, q3, q4, q5, x, y, z, rx, ry, rz, dx, dy, dz, drx, dry, drz, aperture, d_aperture, applied_force, d_applied_force, contact_force, subtask, task, img, wrist_img]\n",
      "Index: []\n",
      "\n",
      "[0 rows x 28 columns]\n",
      "Empty DataFrame\n",
      "Columns: [timestamp, q0, q1, q2, q3, q4, q5, x, y, z, rx, ry, rz, dx, dy, dz, drx, dry, drz, aperture, d_aperture, applied_force, d_applied_force, contact_force, subtask, task, img, wrist_img]\n",
      "Index: []\n",
      "\n",
      "[0 rows x 28 columns]\n",
      "trajectories/1726693681.0091567_light_green_chip_id-0\n"
     ]
    },
    {
     "name": "stderr",
     "output_type": "stream",
     "text": [
      "C:\\Users\\willi\\AppData\\Local\\Temp\\ipykernel_10196\\592521529.py:147: SettingWithCopyWarning: \n",
      "A value is trying to be set on a copy of a slice from a DataFrame\n",
      "\n",
      "See the caveats in the documentation: https://pandas.pydata.org/pandas-docs/stable/user_guide/indexing.html#returning-a-view-versus-a-copy\n",
      "  move['subtask'].iloc[-1] = grasp_task\n"
     ]
    },
    {
     "name": "stdout",
     "output_type": "stream",
     "text": [
      "Empty DataFrame\n",
      "Columns: [timestamp, q0, q1, q2, q3, q4, q5, x, y, z, rx, ry, rz, dx, dy, dz, drx, dry, drz, aperture, d_aperture, applied_force, d_applied_force, contact_force, subtask, task, img, wrist_img]\n",
      "Index: []\n",
      "\n",
      "[0 rows x 28 columns]\n",
      "Empty DataFrame\n",
      "Columns: [timestamp, q0, q1, q2, q3, q4, q5, x, y, z, rx, ry, rz, dx, dy, dz, drx, dry, drz, aperture, d_aperture, applied_force, d_applied_force, contact_force, subtask, task, img, wrist_img]\n",
      "Index: []\n",
      "\n",
      "[0 rows x 28 columns]\n",
      "trajectories/1726694078.771984_paper_airplane_id-0\n"
     ]
    },
    {
     "name": "stderr",
     "output_type": "stream",
     "text": [
      "C:\\Users\\willi\\AppData\\Local\\Temp\\ipykernel_10196\\592521529.py:147: SettingWithCopyWarning: \n",
      "A value is trying to be set on a copy of a slice from a DataFrame\n",
      "\n",
      "See the caveats in the documentation: https://pandas.pydata.org/pandas-docs/stable/user_guide/indexing.html#returning-a-view-versus-a-copy\n",
      "  move['subtask'].iloc[-1] = grasp_task\n"
     ]
    },
    {
     "name": "stdout",
     "output_type": "stream",
     "text": [
      "Empty DataFrame\n",
      "Columns: [timestamp, q0, q1, q2, q3, q4, q5, x, y, z, rx, ry, rz, dx, dy, dz, drx, dry, drz, aperture, d_aperture, applied_force, d_applied_force, contact_force, subtask, task, img, wrist_img]\n",
      "Index: []\n",
      "\n",
      "[0 rows x 28 columns]\n",
      "Empty DataFrame\n",
      "Columns: [timestamp, q0, q1, q2, q3, q4, q5, x, y, z, rx, ry, rz, dx, dy, dz, drx, dry, drz, aperture, d_aperture, applied_force, d_applied_force, contact_force, subtask, task, img, wrist_img]\n",
      "Index: []\n",
      "\n",
      "[0 rows x 28 columns]\n",
      "trajectories/1726695141.1641197_circuit_board_id-0\n"
     ]
    },
    {
     "name": "stderr",
     "output_type": "stream",
     "text": [
      "C:\\Users\\willi\\AppData\\Local\\Temp\\ipykernel_10196\\592521529.py:147: SettingWithCopyWarning: \n",
      "A value is trying to be set on a copy of a slice from a DataFrame\n",
      "\n",
      "See the caveats in the documentation: https://pandas.pydata.org/pandas-docs/stable/user_guide/indexing.html#returning-a-view-versus-a-copy\n",
      "  move['subtask'].iloc[-1] = grasp_task\n"
     ]
    },
    {
     "name": "stdout",
     "output_type": "stream",
     "text": [
      "Empty DataFrame\n",
      "Columns: [timestamp, q0, q1, q2, q3, q4, q5, x, y, z, rx, ry, rz, dx, dy, dz, drx, dry, drz, aperture, d_aperture, applied_force, d_applied_force, contact_force, subtask, task, img, wrist_img]\n",
      "Index: []\n",
      "\n",
      "[0 rows x 28 columns]\n",
      "Empty DataFrame\n",
      "Columns: [timestamp, q0, q1, q2, q3, q4, q5, x, y, z, rx, ry, rz, dx, dy, dz, drx, dry, drz, aperture, d_aperture, applied_force, d_applied_force, contact_force, subtask, task, img, wrist_img]\n",
      "Index: []\n",
      "\n",
      "[0 rows x 28 columns]\n",
      "trajectories/1726695290.9792943_red_screwdriver_handle_id-0\n"
     ]
    },
    {
     "name": "stderr",
     "output_type": "stream",
     "text": [
      "C:\\Users\\willi\\AppData\\Local\\Temp\\ipykernel_10196\\592521529.py:147: SettingWithCopyWarning: \n",
      "A value is trying to be set on a copy of a slice from a DataFrame\n",
      "\n",
      "See the caveats in the documentation: https://pandas.pydata.org/pandas-docs/stable/user_guide/indexing.html#returning-a-view-versus-a-copy\n",
      "  move['subtask'].iloc[-1] = grasp_task\n"
     ]
    },
    {
     "name": "stdout",
     "output_type": "stream",
     "text": [
      "Empty DataFrame\n",
      "Columns: [timestamp, q0, q1, q2, q3, q4, q5, x, y, z, rx, ry, rz, dx, dy, dz, drx, dry, drz, aperture, d_aperture, applied_force, d_applied_force, contact_force, subtask, task, img, wrist_img]\n",
      "Index: []\n",
      "\n",
      "[0 rows x 28 columns]\n",
      "Empty DataFrame\n",
      "Columns: [timestamp, q0, q1, q2, q3, q4, q5, x, y, z, rx, ry, rz, dx, dy, dz, drx, dry, drz, aperture, d_aperture, applied_force, d_applied_force, contact_force, subtask, task, img, wrist_img]\n",
      "Index: []\n",
      "\n",
      "[0 rows x 28 columns]\n",
      "trajectories/1726695919.725871_paper_airplane_id-0\n"
     ]
    },
    {
     "name": "stderr",
     "output_type": "stream",
     "text": [
      "C:\\Users\\willi\\AppData\\Local\\Temp\\ipykernel_10196\\592521529.py:147: SettingWithCopyWarning: \n",
      "A value is trying to be set on a copy of a slice from a DataFrame\n",
      "\n",
      "See the caveats in the documentation: https://pandas.pydata.org/pandas-docs/stable/user_guide/indexing.html#returning-a-view-versus-a-copy\n",
      "  move['subtask'].iloc[-1] = grasp_task\n"
     ]
    },
    {
     "name": "stdout",
     "output_type": "stream",
     "text": [
      "Empty DataFrame\n",
      "Columns: [timestamp, q0, q1, q2, q3, q4, q5, x, y, z, rx, ry, rz, dx, dy, dz, drx, dry, drz, aperture, d_aperture, applied_force, d_applied_force, contact_force, subtask, task, img, wrist_img]\n",
      "Index: []\n",
      "\n",
      "[0 rows x 28 columns]\n",
      "Empty DataFrame\n",
      "Columns: [timestamp, q0, q1, q2, q3, q4, q5, x, y, z, rx, ry, rz, dx, dy, dz, drx, dry, drz, aperture, d_aperture, applied_force, d_applied_force, contact_force, subtask, task, img, wrist_img]\n",
      "Index: []\n",
      "\n",
      "[0 rows x 28 columns]\n",
      "trajectories/1727217333.407051_stuffed_animal_id-0\n"
     ]
    },
    {
     "name": "stderr",
     "output_type": "stream",
     "text": [
      "C:\\Users\\willi\\AppData\\Local\\Temp\\ipykernel_10196\\592521529.py:147: SettingWithCopyWarning: \n",
      "A value is trying to be set on a copy of a slice from a DataFrame\n",
      "\n",
      "See the caveats in the documentation: https://pandas.pydata.org/pandas-docs/stable/user_guide/indexing.html#returning-a-view-versus-a-copy\n",
      "  move['subtask'].iloc[-1] = grasp_task\n"
     ]
    },
    {
     "name": "stdout",
     "output_type": "stream",
     "text": [
      "Empty DataFrame\n",
      "Columns: [timestamp, q0, q1, q2, q3, q4, q5, x, y, z, rx, ry, rz, dx, dy, dz, drx, dry, drz, aperture, d_aperture, applied_force, d_applied_force, contact_force, subtask, task, img, wrist_img]\n",
      "Index: []\n",
      "\n",
      "[0 rows x 28 columns]\n",
      "Empty DataFrame\n",
      "Columns: [timestamp, q0, q1, q2, q3, q4, q5, x, y, z, rx, ry, rz, dx, dy, dz, drx, dry, drz, aperture, d_aperture, applied_force, d_applied_force, contact_force, subtask, task, img, wrist_img]\n",
      "Index: []\n",
      "\n",
      "[0 rows x 28 columns]\n",
      "trajectories/1727217397.7734184_stuffed_animal_id-1\n"
     ]
    },
    {
     "name": "stderr",
     "output_type": "stream",
     "text": [
      "C:\\Users\\willi\\AppData\\Local\\Temp\\ipykernel_10196\\592521529.py:147: SettingWithCopyWarning: \n",
      "A value is trying to be set on a copy of a slice from a DataFrame\n",
      "\n",
      "See the caveats in the documentation: https://pandas.pydata.org/pandas-docs/stable/user_guide/indexing.html#returning-a-view-versus-a-copy\n",
      "  move['subtask'].iloc[-1] = grasp_task\n"
     ]
    },
    {
     "name": "stdout",
     "output_type": "stream",
     "text": [
      "Empty DataFrame\n",
      "Columns: [timestamp, q0, q1, q2, q3, q4, q5, x, y, z, rx, ry, rz, dx, dy, dz, drx, dry, drz, aperture, d_aperture, applied_force, d_applied_force, contact_force, subtask, task, img, wrist_img]\n",
      "Index: []\n",
      "\n",
      "[0 rows x 28 columns]\n",
      "Empty DataFrame\n",
      "Columns: [timestamp, q0, q1, q2, q3, q4, q5, x, y, z, rx, ry, rz, dx, dy, dz, drx, dry, drz, aperture, d_aperture, applied_force, d_applied_force, contact_force, subtask, task, img, wrist_img]\n",
      "Index: []\n",
      "\n",
      "[0 rows x 28 columns]\n",
      "trajectories/1727217473.6346142_stuffed_animal_id-2\n"
     ]
    },
    {
     "name": "stderr",
     "output_type": "stream",
     "text": [
      "C:\\Users\\willi\\AppData\\Local\\Temp\\ipykernel_10196\\592521529.py:147: SettingWithCopyWarning: \n",
      "A value is trying to be set on a copy of a slice from a DataFrame\n",
      "\n",
      "See the caveats in the documentation: https://pandas.pydata.org/pandas-docs/stable/user_guide/indexing.html#returning-a-view-versus-a-copy\n",
      "  move['subtask'].iloc[-1] = grasp_task\n"
     ]
    },
    {
     "name": "stdout",
     "output_type": "stream",
     "text": [
      "Empty DataFrame\n",
      "Columns: [timestamp, q0, q1, q2, q3, q4, q5, x, y, z, rx, ry, rz, dx, dy, dz, drx, dry, drz, aperture, d_aperture, applied_force, d_applied_force, contact_force, subtask, task, img, wrist_img]\n",
      "Index: []\n",
      "\n",
      "[0 rows x 28 columns]\n",
      "Empty DataFrame\n",
      "Columns: [timestamp, q0, q1, q2, q3, q4, q5, x, y, z, rx, ry, rz, dx, dy, dz, drx, dry, drz, aperture, d_aperture, applied_force, d_applied_force, contact_force, subtask, task, img, wrist_img]\n",
      "Index: []\n",
      "\n",
      "[0 rows x 28 columns]\n",
      "trajectories/1727217574.457136_tomato_id-3\n"
     ]
    },
    {
     "name": "stderr",
     "output_type": "stream",
     "text": [
      "C:\\Users\\willi\\AppData\\Local\\Temp\\ipykernel_10196\\592521529.py:147: SettingWithCopyWarning: \n",
      "A value is trying to be set on a copy of a slice from a DataFrame\n",
      "\n",
      "See the caveats in the documentation: https://pandas.pydata.org/pandas-docs/stable/user_guide/indexing.html#returning-a-view-versus-a-copy\n",
      "  move['subtask'].iloc[-1] = grasp_task\n"
     ]
    },
    {
     "name": "stdout",
     "output_type": "stream",
     "text": [
      "Empty DataFrame\n",
      "Columns: [timestamp, q0, q1, q2, q3, q4, q5, x, y, z, rx, ry, rz, dx, dy, dz, drx, dry, drz, aperture, d_aperture, applied_force, d_applied_force, contact_force, subtask, task, img, wrist_img]\n",
      "Index: []\n",
      "\n",
      "[0 rows x 28 columns]\n",
      "Empty DataFrame\n",
      "Columns: [timestamp, q0, q1, q2, q3, q4, q5, x, y, z, rx, ry, rz, dx, dy, dz, drx, dry, drz, aperture, d_aperture, applied_force, d_applied_force, contact_force, subtask, task, img, wrist_img]\n",
      "Index: []\n",
      "\n",
      "[0 rows x 28 columns]\n",
      "trajectories/1727218341.148662_tomato_id-4\n"
     ]
    },
    {
     "name": "stderr",
     "output_type": "stream",
     "text": [
      "C:\\Users\\willi\\AppData\\Local\\Temp\\ipykernel_10196\\592521529.py:147: SettingWithCopyWarning: \n",
      "A value is trying to be set on a copy of a slice from a DataFrame\n",
      "\n",
      "See the caveats in the documentation: https://pandas.pydata.org/pandas-docs/stable/user_guide/indexing.html#returning-a-view-versus-a-copy\n",
      "  move['subtask'].iloc[-1] = grasp_task\n"
     ]
    },
    {
     "name": "stdout",
     "output_type": "stream",
     "text": [
      "Empty DataFrame\n",
      "Columns: [timestamp, q0, q1, q2, q3, q4, q5, x, y, z, rx, ry, rz, dx, dy, dz, drx, dry, drz, aperture, d_aperture, applied_force, d_applied_force, contact_force, subtask, task, img, wrist_img]\n",
      "Index: []\n",
      "\n",
      "[0 rows x 28 columns]\n",
      "Empty DataFrame\n",
      "Columns: [timestamp, q0, q1, q2, q3, q4, q5, x, y, z, rx, ry, rz, dx, dy, dz, drx, dry, drz, aperture, d_aperture, applied_force, d_applied_force, contact_force, subtask, task, img, wrist_img]\n",
      "Index: []\n",
      "\n",
      "[0 rows x 28 columns]\n",
      "trajectories/1727218424.5428917_tomato_id-4\n"
     ]
    },
    {
     "name": "stderr",
     "output_type": "stream",
     "text": [
      "C:\\Users\\willi\\AppData\\Local\\Temp\\ipykernel_10196\\592521529.py:147: SettingWithCopyWarning: \n",
      "A value is trying to be set on a copy of a slice from a DataFrame\n",
      "\n",
      "See the caveats in the documentation: https://pandas.pydata.org/pandas-docs/stable/user_guide/indexing.html#returning-a-view-versus-a-copy\n",
      "  move['subtask'].iloc[-1] = grasp_task\n"
     ]
    },
    {
     "name": "stdout",
     "output_type": "stream",
     "text": [
      "Empty DataFrame\n",
      "Columns: [timestamp, q0, q1, q2, q3, q4, q5, x, y, z, rx, ry, rz, dx, dy, dz, drx, dry, drz, aperture, d_aperture, applied_force, d_applied_force, contact_force, subtask, task, img, wrist_img]\n",
      "Index: []\n",
      "\n",
      "[0 rows x 28 columns]\n",
      "Empty DataFrame\n",
      "Columns: [timestamp, q0, q1, q2, q3, q4, q5, x, y, z, rx, ry, rz, dx, dy, dz, drx, dry, drz, aperture, d_aperture, applied_force, d_applied_force, contact_force, subtask, task, img, wrist_img]\n",
      "Index: []\n",
      "\n",
      "[0 rows x 28 columns]\n",
      "trajectories/1727218516.792549_tomato_id-5\n"
     ]
    },
    {
     "name": "stderr",
     "output_type": "stream",
     "text": [
      "C:\\Users\\willi\\AppData\\Local\\Temp\\ipykernel_10196\\592521529.py:147: SettingWithCopyWarning: \n",
      "A value is trying to be set on a copy of a slice from a DataFrame\n",
      "\n",
      "See the caveats in the documentation: https://pandas.pydata.org/pandas-docs/stable/user_guide/indexing.html#returning-a-view-versus-a-copy\n",
      "  move['subtask'].iloc[-1] = grasp_task\n"
     ]
    },
    {
     "name": "stdout",
     "output_type": "stream",
     "text": [
      "Empty DataFrame\n",
      "Columns: [timestamp, q0, q1, q2, q3, q4, q5, x, y, z, rx, ry, rz, dx, dy, dz, drx, dry, drz, aperture, d_aperture, applied_force, d_applied_force, contact_force, subtask, task, img, wrist_img]\n",
      "Index: []\n",
      "\n",
      "[0 rows x 28 columns]\n",
      "Empty DataFrame\n",
      "Columns: [timestamp, q0, q1, q2, q3, q4, q5, x, y, z, rx, ry, rz, dx, dy, dz, drx, dry, drz, aperture, d_aperture, applied_force, d_applied_force, contact_force, subtask, task, img, wrist_img]\n",
      "Index: []\n",
      "\n",
      "[0 rows x 28 columns]\n",
      "trajectories/1727218733.2584436_tomato_id-6\n"
     ]
    },
    {
     "name": "stderr",
     "output_type": "stream",
     "text": [
      "C:\\Users\\willi\\AppData\\Local\\Temp\\ipykernel_10196\\592521529.py:147: SettingWithCopyWarning: \n",
      "A value is trying to be set on a copy of a slice from a DataFrame\n",
      "\n",
      "See the caveats in the documentation: https://pandas.pydata.org/pandas-docs/stable/user_guide/indexing.html#returning-a-view-versus-a-copy\n",
      "  move['subtask'].iloc[-1] = grasp_task\n"
     ]
    },
    {
     "name": "stdout",
     "output_type": "stream",
     "text": [
      "Empty DataFrame\n",
      "Columns: [timestamp, q0, q1, q2, q3, q4, q5, x, y, z, rx, ry, rz, dx, dy, dz, drx, dry, drz, aperture, d_aperture, applied_force, d_applied_force, contact_force, subtask, task, img, wrist_img]\n",
      "Index: []\n",
      "\n",
      "[0 rows x 28 columns]\n",
      "Empty DataFrame\n",
      "Columns: [timestamp, q0, q1, q2, q3, q4, q5, x, y, z, rx, ry, rz, dx, dy, dz, drx, dry, drz, aperture, d_aperture, applied_force, d_applied_force, contact_force, subtask, task, img, wrist_img]\n",
      "Index: []\n",
      "\n",
      "[0 rows x 28 columns]\n",
      "trajectories/1727219223.8712187_empty_paper_cup_id-7\n",
      "Empty DataFrame\n",
      "Columns: [timestamp, q0, q1, q2, q3, q4, q5, x, y, z, rx, ry, rz, dx, dy, dz, drx, dry, drz, aperture, d_aperture, applied_force, d_applied_force, contact_force, subtask, task, img, wrist_img]\n",
      "Index: []\n",
      "\n",
      "[0 rows x 28 columns]\n",
      "Empty DataFrame\n",
      "Columns: [timestamp, q0, q1, q2, q3, q4, q5, x, y, z, rx, ry, rz, dx, dy, dz, drx, dry, drz, aperture, d_aperture, applied_force, d_applied_force, contact_force, subtask, task, img, wrist_img]\n",
      "Index: []\n",
      "\n",
      "[0 rows x 28 columns]\n",
      "trajectories/1727219598.9202588_small_black_motor_id-8\n"
     ]
    },
    {
     "name": "stderr",
     "output_type": "stream",
     "text": [
      "C:\\Users\\willi\\AppData\\Local\\Temp\\ipykernel_10196\\592521529.py:147: SettingWithCopyWarning: \n",
      "A value is trying to be set on a copy of a slice from a DataFrame\n",
      "\n",
      "See the caveats in the documentation: https://pandas.pydata.org/pandas-docs/stable/user_guide/indexing.html#returning-a-view-versus-a-copy\n",
      "  move['subtask'].iloc[-1] = grasp_task\n",
      "C:\\Users\\willi\\AppData\\Local\\Temp\\ipykernel_10196\\592521529.py:147: SettingWithCopyWarning: \n",
      "A value is trying to be set on a copy of a slice from a DataFrame\n",
      "\n",
      "See the caveats in the documentation: https://pandas.pydata.org/pandas-docs/stable/user_guide/indexing.html#returning-a-view-versus-a-copy\n",
      "  move['subtask'].iloc[-1] = grasp_task\n"
     ]
    },
    {
     "name": "stdout",
     "output_type": "stream",
     "text": [
      "Empty DataFrame\n",
      "Columns: [timestamp, q0, q1, q2, q3, q4, q5, x, y, z, rx, ry, rz, dx, dy, dz, drx, dry, drz, aperture, d_aperture, applied_force, d_applied_force, contact_force, subtask, task, img, wrist_img]\n",
      "Index: []\n",
      "\n",
      "[0 rows x 28 columns]\n",
      "Empty DataFrame\n",
      "Columns: [timestamp, q0, q1, q2, q3, q4, q5, x, y, z, rx, ry, rz, dx, dy, dz, drx, dry, drz, aperture, d_aperture, applied_force, d_applied_force, contact_force, subtask, task, img, wrist_img]\n",
      "Index: []\n",
      "\n",
      "[0 rows x 28 columns]\n",
      "trajectories/1727219900.2754176_small_black_motor\n"
     ]
    },
    {
     "name": "stderr",
     "output_type": "stream",
     "text": [
      "C:\\Users\\willi\\AppData\\Local\\Temp\\ipykernel_10196\\592521529.py:147: SettingWithCopyWarning: \n",
      "A value is trying to be set on a copy of a slice from a DataFrame\n",
      "\n",
      "See the caveats in the documentation: https://pandas.pydata.org/pandas-docs/stable/user_guide/indexing.html#returning-a-view-versus-a-copy\n",
      "  move['subtask'].iloc[-1] = grasp_task\n"
     ]
    },
    {
     "name": "stdout",
     "output_type": "stream",
     "text": [
      "Empty DataFrame\n",
      "Columns: [timestamp, q0, q1, q2, q3, q4, q5, x, y, z, rx, ry, rz, dx, dy, dz, drx, dry, drz, aperture, d_aperture, applied_force, d_applied_force, contact_force, subtask, task, img, wrist_img]\n",
      "Index: []\n",
      "\n",
      "[0 rows x 28 columns]\n",
      "Empty DataFrame\n",
      "Columns: [timestamp, q0, q1, q2, q3, q4, q5, x, y, z, rx, ry, rz, dx, dy, dz, drx, dry, drz, aperture, d_aperture, applied_force, d_applied_force, contact_force, subtask, task, img, wrist_img]\n",
      "Index: []\n",
      "\n",
      "[0 rows x 28 columns]\n",
      "trajectories/1727220091.3672044_small_suction_cup_id-10\n"
     ]
    },
    {
     "name": "stderr",
     "output_type": "stream",
     "text": [
      "C:\\Users\\willi\\AppData\\Local\\Temp\\ipykernel_10196\\592521529.py:147: SettingWithCopyWarning: \n",
      "A value is trying to be set on a copy of a slice from a DataFrame\n",
      "\n",
      "See the caveats in the documentation: https://pandas.pydata.org/pandas-docs/stable/user_guide/indexing.html#returning-a-view-versus-a-copy\n",
      "  move['subtask'].iloc[-1] = grasp_task\n"
     ]
    },
    {
     "name": "stdout",
     "output_type": "stream",
     "text": [
      "Empty DataFrame\n",
      "Columns: [timestamp, q0, q1, q2, q3, q4, q5, x, y, z, rx, ry, rz, dx, dy, dz, drx, dry, drz, aperture, d_aperture, applied_force, d_applied_force, contact_force, subtask, task, img, wrist_img]\n",
      "Index: []\n",
      "\n",
      "[0 rows x 28 columns]\n",
      "Empty DataFrame\n",
      "Columns: [timestamp, q0, q1, q2, q3, q4, q5, x, y, z, rx, ry, rz, dx, dy, dz, drx, dry, drz, aperture, d_aperture, applied_force, d_applied_force, contact_force, subtask, task, img, wrist_img]\n",
      "Index: []\n",
      "\n",
      "[0 rows x 28 columns]\n",
      "trajectories/1727220140.3985322_small_suction_cup_id-11\n"
     ]
    },
    {
     "name": "stderr",
     "output_type": "stream",
     "text": [
      "C:\\Users\\willi\\AppData\\Local\\Temp\\ipykernel_10196\\592521529.py:147: SettingWithCopyWarning: \n",
      "A value is trying to be set on a copy of a slice from a DataFrame\n",
      "\n",
      "See the caveats in the documentation: https://pandas.pydata.org/pandas-docs/stable/user_guide/indexing.html#returning-a-view-versus-a-copy\n",
      "  move['subtask'].iloc[-1] = grasp_task\n"
     ]
    },
    {
     "name": "stdout",
     "output_type": "stream",
     "text": [
      "Empty DataFrame\n",
      "Columns: [timestamp, q0, q1, q2, q3, q4, q5, x, y, z, rx, ry, rz, dx, dy, dz, drx, dry, drz, aperture, d_aperture, applied_force, d_applied_force, contact_force, subtask, task, img, wrist_img]\n",
      "Index: []\n",
      "\n",
      "[0 rows x 28 columns]\n",
      "Empty DataFrame\n",
      "Columns: [timestamp, q0, q1, q2, q3, q4, q5, x, y, z, rx, ry, rz, dx, dy, dz, drx, dry, drz, aperture, d_aperture, applied_force, d_applied_force, contact_force, subtask, task, img, wrist_img]\n",
      "Index: []\n",
      "\n",
      "[0 rows x 28 columns]\n",
      "trajectories/1727220193.7849164_small_suction_cup_id-12\n",
      "Empty DataFrame\n",
      "Columns: [timestamp, q0, q1, q2, q3, q4, q5, x, y, z, rx, ry, rz, dx, dy, dz, drx, dry, drz, aperture, d_aperture, applied_force, d_applied_force, contact_force, subtask, task, img, wrist_img]\n",
      "Index: []\n",
      "\n",
      "[0 rows x 28 columns]\n",
      "Empty DataFrame\n",
      "Columns: [timestamp, q0, q1, q2, q3, q4, q5, x, y, z, rx, ry, rz, dx, dy, dz, drx, dry, drz, aperture, d_aperture, applied_force, d_applied_force, contact_force, subtask, task, img, wrist_img]\n",
      "Index: []\n",
      "\n",
      "[0 rows x 28 columns]\n"
     ]
    },
    {
     "name": "stderr",
     "output_type": "stream",
     "text": [
      "C:\\Users\\willi\\AppData\\Local\\Temp\\ipykernel_10196\\592521529.py:147: SettingWithCopyWarning: \n",
      "A value is trying to be set on a copy of a slice from a DataFrame\n",
      "\n",
      "See the caveats in the documentation: https://pandas.pydata.org/pandas-docs/stable/user_guide/indexing.html#returning-a-view-versus-a-copy\n",
      "  move['subtask'].iloc[-1] = grasp_task\n"
     ]
    },
    {
     "name": "stdout",
     "output_type": "stream",
     "text": [
      "trajectories/1727286888.3103876_paper_airplane_id-0\n"
     ]
    },
    {
     "name": "stderr",
     "output_type": "stream",
     "text": [
      "C:\\Users\\willi\\AppData\\Local\\Temp\\ipykernel_10196\\592521529.py:147: SettingWithCopyWarning: \n",
      "A value is trying to be set on a copy of a slice from a DataFrame\n",
      "\n",
      "See the caveats in the documentation: https://pandas.pydata.org/pandas-docs/stable/user_guide/indexing.html#returning-a-view-versus-a-copy\n",
      "  move['subtask'].iloc[-1] = grasp_task\n"
     ]
    },
    {
     "name": "stdout",
     "output_type": "stream",
     "text": [
      "Empty DataFrame\n",
      "Columns: [timestamp, q0, q1, q2, q3, q4, q5, x, y, z, rx, ry, rz, dx, dy, dz, drx, dry, drz, aperture, d_aperture, applied_force, d_applied_force, contact_force, subtask, task, img, wrist_img]\n",
      "Index: []\n",
      "\n",
      "[0 rows x 28 columns]\n",
      "Empty DataFrame\n",
      "Columns: [timestamp, q0, q1, q2, q3, q4, q5, x, y, z, rx, ry, rz, dx, dy, dz, drx, dry, drz, aperture, d_aperture, applied_force, d_applied_force, contact_force, subtask, task, img, wrist_img]\n",
      "Index: []\n",
      "\n",
      "[0 rows x 28 columns]\n",
      "trajectories/1727287094.7537258_paper_airplane_id-1\n"
     ]
    },
    {
     "name": "stderr",
     "output_type": "stream",
     "text": [
      "C:\\Users\\willi\\AppData\\Local\\Temp\\ipykernel_10196\\592521529.py:147: SettingWithCopyWarning: \n",
      "A value is trying to be set on a copy of a slice from a DataFrame\n",
      "\n",
      "See the caveats in the documentation: https://pandas.pydata.org/pandas-docs/stable/user_guide/indexing.html#returning-a-view-versus-a-copy\n",
      "  move['subtask'].iloc[-1] = grasp_task\n"
     ]
    },
    {
     "name": "stdout",
     "output_type": "stream",
     "text": [
      "Empty DataFrame\n",
      "Columns: [timestamp, q0, q1, q2, q3, q4, q5, x, y, z, rx, ry, rz, dx, dy, dz, drx, dry, drz, aperture, d_aperture, applied_force, d_applied_force, contact_force, subtask, task, img, wrist_img]\n",
      "Index: []\n",
      "\n",
      "[0 rows x 28 columns]\n",
      "Empty DataFrame\n",
      "Columns: [timestamp, q0, q1, q2, q3, q4, q5, x, y, z, rx, ry, rz, dx, dy, dz, drx, dry, drz, aperture, d_aperture, applied_force, d_applied_force, contact_force, subtask, task, img, wrist_img]\n",
      "Index: []\n",
      "\n",
      "[0 rows x 28 columns]\n",
      "trajectories/1727287137.1227021_paper_airplane_id-2\n"
     ]
    },
    {
     "name": "stderr",
     "output_type": "stream",
     "text": [
      "C:\\Users\\willi\\AppData\\Local\\Temp\\ipykernel_10196\\592521529.py:147: SettingWithCopyWarning: \n",
      "A value is trying to be set on a copy of a slice from a DataFrame\n",
      "\n",
      "See the caveats in the documentation: https://pandas.pydata.org/pandas-docs/stable/user_guide/indexing.html#returning-a-view-versus-a-copy\n",
      "  move['subtask'].iloc[-1] = grasp_task\n"
     ]
    },
    {
     "name": "stdout",
     "output_type": "stream",
     "text": [
      "Empty DataFrame\n",
      "Columns: [timestamp, q0, q1, q2, q3, q4, q5, x, y, z, rx, ry, rz, dx, dy, dz, drx, dry, drz, aperture, d_aperture, applied_force, d_applied_force, contact_force, subtask, task, img, wrist_img]\n",
      "Index: []\n",
      "\n",
      "[0 rows x 28 columns]\n",
      "Empty DataFrame\n",
      "Columns: [timestamp, q0, q1, q2, q3, q4, q5, x, y, z, rx, ry, rz, dx, dy, dz, drx, dry, drz, aperture, d_aperture, applied_force, d_applied_force, contact_force, subtask, task, img, wrist_img]\n",
      "Index: []\n",
      "\n",
      "[0 rows x 28 columns]\n",
      "trajectories/1727287356.5211716_paper_airplane_id-3\n"
     ]
    },
    {
     "name": "stderr",
     "output_type": "stream",
     "text": [
      "C:\\Users\\willi\\AppData\\Local\\Temp\\ipykernel_10196\\592521529.py:147: SettingWithCopyWarning: \n",
      "A value is trying to be set on a copy of a slice from a DataFrame\n",
      "\n",
      "See the caveats in the documentation: https://pandas.pydata.org/pandas-docs/stable/user_guide/indexing.html#returning-a-view-versus-a-copy\n",
      "  move['subtask'].iloc[-1] = grasp_task\n"
     ]
    },
    {
     "name": "stdout",
     "output_type": "stream",
     "text": [
      "Empty DataFrame\n",
      "Columns: [timestamp, q0, q1, q2, q3, q4, q5, x, y, z, rx, ry, rz, dx, dy, dz, drx, dry, drz, aperture, d_aperture, applied_force, d_applied_force, contact_force, subtask, task, img, wrist_img]\n",
      "Index: []\n",
      "\n",
      "[0 rows x 28 columns]\n",
      "Empty DataFrame\n",
      "Columns: [timestamp, q0, q1, q2, q3, q4, q5, x, y, z, rx, ry, rz, dx, dy, dz, drx, dry, drz, aperture, d_aperture, applied_force, d_applied_force, contact_force, subtask, task, img, wrist_img]\n",
      "Index: []\n",
      "\n",
      "[0 rows x 28 columns]\n",
      "trajectories/1727292843.6723018_paper_airplane_id-0\n",
      "Empty DataFrame\n",
      "Columns: [timestamp, q0, q1, q2, q3, q4, q5, x, y, z, rx, ry, rz, dx, dy, dz, drx, dry, drz, aperture, d_aperture, applied_force, d_applied_force, contact_force, subtask, task, img, wrist_img]\n",
      "Index: []\n",
      "\n",
      "[0 rows x 28 columns]\n",
      "Empty DataFrame\n",
      "Columns: [timestamp, q0, q1, q2, q3, q4, q5, x, y, z, rx, ry, rz, dx, dy, dz, drx, dry, drz, aperture, d_aperture, applied_force, d_applied_force, contact_force, subtask, task, img, wrist_img]\n",
      "Index: []\n",
      "\n",
      "[0 rows x 28 columns]\n"
     ]
    },
    {
     "name": "stderr",
     "output_type": "stream",
     "text": [
      "C:\\Users\\willi\\AppData\\Local\\Temp\\ipykernel_10196\\592521529.py:147: SettingWithCopyWarning: \n",
      "A value is trying to be set on a copy of a slice from a DataFrame\n",
      "\n",
      "See the caveats in the documentation: https://pandas.pydata.org/pandas-docs/stable/user_guide/indexing.html#returning-a-view-versus-a-copy\n",
      "  move['subtask'].iloc[-1] = grasp_task\n"
     ]
    },
    {
     "name": "stdout",
     "output_type": "stream",
     "text": [
      "trajectories/1727293125.6816049_tomato_id-1\n"
     ]
    },
    {
     "name": "stderr",
     "output_type": "stream",
     "text": [
      "C:\\Users\\willi\\AppData\\Local\\Temp\\ipykernel_10196\\592521529.py:147: SettingWithCopyWarning: \n",
      "A value is trying to be set on a copy of a slice from a DataFrame\n",
      "\n",
      "See the caveats in the documentation: https://pandas.pydata.org/pandas-docs/stable/user_guide/indexing.html#returning-a-view-versus-a-copy\n",
      "  move['subtask'].iloc[-1] = grasp_task\n"
     ]
    },
    {
     "name": "stdout",
     "output_type": "stream",
     "text": [
      "Empty DataFrame\n",
      "Columns: [timestamp, q0, q1, q2, q3, q4, q5, x, y, z, rx, ry, rz, dx, dy, dz, drx, dry, drz, aperture, d_aperture, applied_force, d_applied_force, contact_force, subtask, task, img, wrist_img]\n",
      "Index: []\n",
      "\n",
      "[0 rows x 28 columns]\n",
      "Empty DataFrame\n",
      "Columns: [timestamp, q0, q1, q2, q3, q4, q5, x, y, z, rx, ry, rz, dx, dy, dz, drx, dry, drz, aperture, d_aperture, applied_force, d_applied_force, contact_force, subtask, task, img, wrist_img]\n",
      "Index: []\n",
      "\n",
      "[0 rows x 28 columns]\n",
      "trajectories/1727293195.7579973_tomato_id-2\n"
     ]
    },
    {
     "name": "stderr",
     "output_type": "stream",
     "text": [
      "C:\\Users\\willi\\AppData\\Local\\Temp\\ipykernel_10196\\592521529.py:147: SettingWithCopyWarning: \n",
      "A value is trying to be set on a copy of a slice from a DataFrame\n",
      "\n",
      "See the caveats in the documentation: https://pandas.pydata.org/pandas-docs/stable/user_guide/indexing.html#returning-a-view-versus-a-copy\n",
      "  move['subtask'].iloc[-1] = grasp_task\n"
     ]
    },
    {
     "name": "stdout",
     "output_type": "stream",
     "text": [
      "Empty DataFrame\n",
      "Columns: [timestamp, q0, q1, q2, q3, q4, q5, x, y, z, rx, ry, rz, dx, dy, dz, drx, dry, drz, aperture, d_aperture, applied_force, d_applied_force, contact_force, subtask, task, img, wrist_img]\n",
      "Index: []\n",
      "\n",
      "[0 rows x 28 columns]\n",
      "Empty DataFrame\n",
      "Columns: [timestamp, q0, q1, q2, q3, q4, q5, x, y, z, rx, ry, rz, dx, dy, dz, drx, dry, drz, aperture, d_aperture, applied_force, d_applied_force, contact_force, subtask, task, img, wrist_img]\n",
      "Index: []\n",
      "\n",
      "[0 rows x 28 columns]\n",
      "trajectories/1727293454.9604213_yellow_ducky_head_id-0\n"
     ]
    },
    {
     "name": "stderr",
     "output_type": "stream",
     "text": [
      "C:\\Users\\willi\\AppData\\Local\\Temp\\ipykernel_10196\\592521529.py:147: SettingWithCopyWarning: \n",
      "A value is trying to be set on a copy of a slice from a DataFrame\n",
      "\n",
      "See the caveats in the documentation: https://pandas.pydata.org/pandas-docs/stable/user_guide/indexing.html#returning-a-view-versus-a-copy\n",
      "  move['subtask'].iloc[-1] = grasp_task\n"
     ]
    },
    {
     "name": "stdout",
     "output_type": "stream",
     "text": [
      "Empty DataFrame\n",
      "Columns: [timestamp, q0, q1, q2, q3, q4, q5, x, y, z, rx, ry, rz, dx, dy, dz, drx, dry, drz, aperture, d_aperture, applied_force, d_applied_force, contact_force, subtask, task, img, wrist_img]\n",
      "Index: []\n",
      "\n",
      "[0 rows x 28 columns]\n",
      "Empty DataFrame\n",
      "Columns: [timestamp, q0, q1, q2, q3, q4, q5, x, y, z, rx, ry, rz, dx, dy, dz, drx, dry, drz, aperture, d_aperture, applied_force, d_applied_force, contact_force, subtask, task, img, wrist_img]\n",
      "Index: []\n",
      "\n",
      "[0 rows x 28 columns]\n",
      "trajectories/1727293563.7095094_yellow_ducky_head_id-1\n"
     ]
    },
    {
     "name": "stderr",
     "output_type": "stream",
     "text": [
      "C:\\Users\\willi\\AppData\\Local\\Temp\\ipykernel_10196\\592521529.py:147: SettingWithCopyWarning: \n",
      "A value is trying to be set on a copy of a slice from a DataFrame\n",
      "\n",
      "See the caveats in the documentation: https://pandas.pydata.org/pandas-docs/stable/user_guide/indexing.html#returning-a-view-versus-a-copy\n",
      "  move['subtask'].iloc[-1] = grasp_task\n"
     ]
    },
    {
     "name": "stdout",
     "output_type": "stream",
     "text": [
      "Empty DataFrame\n",
      "Columns: [timestamp, q0, q1, q2, q3, q4, q5, x, y, z, rx, ry, rz, dx, dy, dz, drx, dry, drz, aperture, d_aperture, applied_force, d_applied_force, contact_force, subtask, task, img, wrist_img]\n",
      "Index: []\n",
      "\n",
      "[0 rows x 28 columns]\n",
      "Empty DataFrame\n",
      "Columns: [timestamp, q0, q1, q2, q3, q4, q5, x, y, z, rx, ry, rz, dx, dy, dz, drx, dry, drz, aperture, d_aperture, applied_force, d_applied_force, contact_force, subtask, task, img, wrist_img]\n",
      "Index: []\n",
      "\n",
      "[0 rows x 28 columns]\n",
      "trajectories/1727293611.6105325_yellow_ducky_head_id-1\n"
     ]
    },
    {
     "name": "stderr",
     "output_type": "stream",
     "text": [
      "C:\\Users\\willi\\AppData\\Local\\Temp\\ipykernel_10196\\592521529.py:147: SettingWithCopyWarning: \n",
      "A value is trying to be set on a copy of a slice from a DataFrame\n",
      "\n",
      "See the caveats in the documentation: https://pandas.pydata.org/pandas-docs/stable/user_guide/indexing.html#returning-a-view-versus-a-copy\n",
      "  move['subtask'].iloc[-1] = grasp_task\n"
     ]
    },
    {
     "name": "stdout",
     "output_type": "stream",
     "text": [
      "Empty DataFrame\n",
      "Columns: [timestamp, q0, q1, q2, q3, q4, q5, x, y, z, rx, ry, rz, dx, dy, dz, drx, dry, drz, aperture, d_aperture, applied_force, d_applied_force, contact_force, subtask, task, img, wrist_img]\n",
      "Index: []\n",
      "\n",
      "[0 rows x 28 columns]\n",
      "Empty DataFrame\n",
      "Columns: [timestamp, q0, q1, q2, q3, q4, q5, x, y, z, rx, ry, rz, dx, dy, dz, drx, dry, drz, aperture, d_aperture, applied_force, d_applied_force, contact_force, subtask, task, img, wrist_img]\n",
      "Index: []\n",
      "\n",
      "[0 rows x 28 columns]\n",
      "trajectories/1727294449.9548342_green_circuit_board_id-0\n"
     ]
    },
    {
     "name": "stderr",
     "output_type": "stream",
     "text": [
      "C:\\Users\\willi\\AppData\\Local\\Temp\\ipykernel_10196\\592521529.py:147: SettingWithCopyWarning: \n",
      "A value is trying to be set on a copy of a slice from a DataFrame\n",
      "\n",
      "See the caveats in the documentation: https://pandas.pydata.org/pandas-docs/stable/user_guide/indexing.html#returning-a-view-versus-a-copy\n",
      "  move['subtask'].iloc[-1] = grasp_task\n"
     ]
    },
    {
     "name": "stdout",
     "output_type": "stream",
     "text": [
      "Empty DataFrame\n",
      "Columns: [timestamp, q0, q1, q2, q3, q4, q5, x, y, z, rx, ry, rz, dx, dy, dz, drx, dry, drz, aperture, d_aperture, applied_force, d_applied_force, contact_force, subtask, task, img, wrist_img]\n",
      "Index: []\n",
      "\n",
      "[0 rows x 28 columns]\n",
      "Empty DataFrame\n",
      "Columns: [timestamp, q0, q1, q2, q3, q4, q5, x, y, z, rx, ry, rz, dx, dy, dz, drx, dry, drz, aperture, d_aperture, applied_force, d_applied_force, contact_force, subtask, task, img, wrist_img]\n",
      "Index: []\n",
      "\n",
      "[0 rows x 28 columns]\n",
      "trajectories/1727294627.603244_green_circuit_board\n"
     ]
    },
    {
     "name": "stderr",
     "output_type": "stream",
     "text": [
      "C:\\Users\\willi\\AppData\\Local\\Temp\\ipykernel_10196\\592521529.py:147: SettingWithCopyWarning: \n",
      "A value is trying to be set on a copy of a slice from a DataFrame\n",
      "\n",
      "See the caveats in the documentation: https://pandas.pydata.org/pandas-docs/stable/user_guide/indexing.html#returning-a-view-versus-a-copy\n",
      "  move['subtask'].iloc[-1] = grasp_task\n"
     ]
    },
    {
     "name": "stdout",
     "output_type": "stream",
     "text": [
      "Empty DataFrame\n",
      "Columns: [timestamp, q0, q1, q2, q3, q4, q5, x, y, z, rx, ry, rz, dx, dy, dz, drx, dry, drz, aperture, d_aperture, applied_force, d_applied_force, contact_force, subtask, task, img, wrist_img]\n",
      "Index: []\n",
      "\n",
      "[0 rows x 28 columns]\n",
      "Empty DataFrame\n",
      "Columns: [timestamp, q0, q1, q2, q3, q4, q5, x, y, z, rx, ry, rz, dx, dy, dz, drx, dry, drz, aperture, d_aperture, applied_force, d_applied_force, contact_force, subtask, task, img, wrist_img]\n",
      "Index: []\n",
      "\n",
      "[0 rows x 28 columns]\n",
      "trajectories/1727295039.1989536_green_circuit_board\n"
     ]
    },
    {
     "name": "stderr",
     "output_type": "stream",
     "text": [
      "C:\\Users\\willi\\AppData\\Local\\Temp\\ipykernel_10196\\592521529.py:147: SettingWithCopyWarning: \n",
      "A value is trying to be set on a copy of a slice from a DataFrame\n",
      "\n",
      "See the caveats in the documentation: https://pandas.pydata.org/pandas-docs/stable/user_guide/indexing.html#returning-a-view-versus-a-copy\n",
      "  move['subtask'].iloc[-1] = grasp_task\n"
     ]
    },
    {
     "name": "stdout",
     "output_type": "stream",
     "text": [
      "Empty DataFrame\n",
      "Columns: [timestamp, q0, q1, q2, q3, q4, q5, x, y, z, rx, ry, rz, dx, dy, dz, drx, dry, drz, aperture, d_aperture, applied_force, d_applied_force, contact_force, subtask, task, img, wrist_img]\n",
      "Index: []\n",
      "\n",
      "[0 rows x 28 columns]\n",
      "Empty DataFrame\n",
      "Columns: [timestamp, q0, q1, q2, q3, q4, q5, x, y, z, rx, ry, rz, dx, dy, dz, drx, dry, drz, aperture, d_aperture, applied_force, d_applied_force, contact_force, subtask, task, img, wrist_img]\n",
      "Index: []\n",
      "\n",
      "[0 rows x 28 columns]\n",
      "trajectories/1727295713.4785168_metal_lock_id-0\n"
     ]
    },
    {
     "name": "stderr",
     "output_type": "stream",
     "text": [
      "C:\\Users\\willi\\AppData\\Local\\Temp\\ipykernel_10196\\592521529.py:147: SettingWithCopyWarning: \n",
      "A value is trying to be set on a copy of a slice from a DataFrame\n",
      "\n",
      "See the caveats in the documentation: https://pandas.pydata.org/pandas-docs/stable/user_guide/indexing.html#returning-a-view-versus-a-copy\n",
      "  move['subtask'].iloc[-1] = grasp_task\n"
     ]
    },
    {
     "name": "stdout",
     "output_type": "stream",
     "text": [
      "Empty DataFrame\n",
      "Columns: [timestamp, q0, q1, q2, q3, q4, q5, x, y, z, rx, ry, rz, dx, dy, dz, drx, dry, drz, aperture, d_aperture, applied_force, d_applied_force, contact_force, subtask, task, img, wrist_img]\n",
      "Index: []\n",
      "\n",
      "[0 rows x 28 columns]\n",
      "Empty DataFrame\n",
      "Columns: [timestamp, q0, q1, q2, q3, q4, q5, x, y, z, rx, ry, rz, dx, dy, dz, drx, dry, drz, aperture, d_aperture, applied_force, d_applied_force, contact_force, subtask, task, img, wrist_img]\n",
      "Index: []\n",
      "\n",
      "[0 rows x 28 columns]\n",
      "trajectories/1727296021.976325_ziptie_bag\n"
     ]
    },
    {
     "name": "stderr",
     "output_type": "stream",
     "text": [
      "C:\\Users\\willi\\AppData\\Local\\Temp\\ipykernel_10196\\592521529.py:147: SettingWithCopyWarning: \n",
      "A value is trying to be set on a copy of a slice from a DataFrame\n",
      "\n",
      "See the caveats in the documentation: https://pandas.pydata.org/pandas-docs/stable/user_guide/indexing.html#returning-a-view-versus-a-copy\n",
      "  move['subtask'].iloc[-1] = grasp_task\n"
     ]
    },
    {
     "name": "stdout",
     "output_type": "stream",
     "text": [
      "Empty DataFrame\n",
      "Columns: [timestamp, q0, q1, q2, q3, q4, q5, x, y, z, rx, ry, rz, dx, dy, dz, drx, dry, drz, aperture, d_aperture, applied_force, d_applied_force, contact_force, subtask, task, img, wrist_img]\n",
      "Index: []\n",
      "\n",
      "[0 rows x 28 columns]\n",
      "Empty DataFrame\n",
      "Columns: [timestamp, q0, q1, q2, q3, q4, q5, x, y, z, rx, ry, rz, dx, dy, dz, drx, dry, drz, aperture, d_aperture, applied_force, d_applied_force, contact_force, subtask, task, img, wrist_img]\n",
      "Index: []\n",
      "\n",
      "[0 rows x 28 columns]\n",
      "trajectories/1727296138.8576224_ziptie_bag\n"
     ]
    },
    {
     "name": "stderr",
     "output_type": "stream",
     "text": [
      "C:\\Users\\willi\\AppData\\Local\\Temp\\ipykernel_10196\\592521529.py:147: SettingWithCopyWarning: \n",
      "A value is trying to be set on a copy of a slice from a DataFrame\n",
      "\n",
      "See the caveats in the documentation: https://pandas.pydata.org/pandas-docs/stable/user_guide/indexing.html#returning-a-view-versus-a-copy\n",
      "  move['subtask'].iloc[-1] = grasp_task\n"
     ]
    },
    {
     "name": "stdout",
     "output_type": "stream",
     "text": [
      "Empty DataFrame\n",
      "Columns: [timestamp, q0, q1, q2, q3, q4, q5, x, y, z, rx, ry, rz, dx, dy, dz, drx, dry, drz, aperture, d_aperture, applied_force, d_applied_force, contact_force, subtask, task, img, wrist_img]\n",
      "Index: []\n",
      "\n",
      "[0 rows x 28 columns]\n",
      "Empty DataFrame\n",
      "Columns: [timestamp, q0, q1, q2, q3, q4, q5, x, y, z, rx, ry, rz, dx, dy, dz, drx, dry, drz, aperture, d_aperture, applied_force, d_applied_force, contact_force, subtask, task, img, wrist_img]\n",
      "Index: []\n",
      "\n",
      "[0 rows x 28 columns]\n",
      "trajectories/1727296892.3003094_ziptie_bag\n",
      "Empty DataFrame\n",
      "Columns: [timestamp, q0, q1, q2, q3, q4, q5, x, y, z, rx, ry, rz, dx, dy, dz, drx, dry, drz, aperture, d_aperture, applied_force, d_applied_force, contact_force, subtask, task, img, wrist_img]\n",
      "Index: []\n",
      "\n",
      "[0 rows x 28 columns]\n",
      "Empty DataFrame\n",
      "Columns: [timestamp, q0, q1, q2, q3, q4, q5, x, y, z, rx, ry, rz, dx, dy, dz, drx, dry, drz, aperture, d_aperture, applied_force, d_applied_force, contact_force, subtask, task, img, wrist_img]\n",
      "Index: []\n",
      "\n",
      "[0 rows x 28 columns]\n"
     ]
    },
    {
     "name": "stderr",
     "output_type": "stream",
     "text": [
      "C:\\Users\\willi\\AppData\\Local\\Temp\\ipykernel_10196\\592521529.py:147: SettingWithCopyWarning: \n",
      "A value is trying to be set on a copy of a slice from a DataFrame\n",
      "\n",
      "See the caveats in the documentation: https://pandas.pydata.org/pandas-docs/stable/user_guide/indexing.html#returning-a-view-versus-a-copy\n",
      "  move['subtask'].iloc[-1] = grasp_task\n",
      "C:\\Users\\willi\\AppData\\Local\\Temp\\ipykernel_10196\\592521529.py:147: SettingWithCopyWarning: \n",
      "A value is trying to be set on a copy of a slice from a DataFrame\n",
      "\n",
      "See the caveats in the documentation: https://pandas.pydata.org/pandas-docs/stable/user_guide/indexing.html#returning-a-view-versus-a-copy\n",
      "  move['subtask'].iloc[-1] = grasp_task\n"
     ]
    },
    {
     "name": "stdout",
     "output_type": "stream",
     "text": [
      "trajectories/1727296973.3304667_ziptie_bag\n",
      "Empty DataFrame\n",
      "Columns: [timestamp, q0, q1, q2, q3, q4, q5, x, y, z, rx, ry, rz, dx, dy, dz, drx, dry, drz, aperture, d_aperture, applied_force, d_applied_force, contact_force, subtask, task, img, wrist_img]\n",
      "Index: []\n",
      "\n",
      "[0 rows x 28 columns]\n",
      "Empty DataFrame\n",
      "Columns: [timestamp, q0, q1, q2, q3, q4, q5, x, y, z, rx, ry, rz, dx, dy, dz, drx, dry, drz, aperture, d_aperture, applied_force, d_applied_force, contact_force, subtask, task, img, wrist_img]\n",
      "Index: []\n",
      "\n",
      "[0 rows x 28 columns]\n",
      "trajectories/1727297171.3327286_orange_bottle_id-0\n"
     ]
    },
    {
     "name": "stderr",
     "output_type": "stream",
     "text": [
      "C:\\Users\\willi\\AppData\\Local\\Temp\\ipykernel_10196\\592521529.py:147: SettingWithCopyWarning: \n",
      "A value is trying to be set on a copy of a slice from a DataFrame\n",
      "\n",
      "See the caveats in the documentation: https://pandas.pydata.org/pandas-docs/stable/user_guide/indexing.html#returning-a-view-versus-a-copy\n",
      "  move['subtask'].iloc[-1] = grasp_task\n",
      "C:\\Users\\willi\\AppData\\Local\\Temp\\ipykernel_10196\\592521529.py:147: SettingWithCopyWarning: \n",
      "A value is trying to be set on a copy of a slice from a DataFrame\n",
      "\n",
      "See the caveats in the documentation: https://pandas.pydata.org/pandas-docs/stable/user_guide/indexing.html#returning-a-view-versus-a-copy\n",
      "  move['subtask'].iloc[-1] = grasp_task\n"
     ]
    },
    {
     "name": "stdout",
     "output_type": "stream",
     "text": [
      "Empty DataFrame\n",
      "Columns: [timestamp, q0, q1, q2, q3, q4, q5, x, y, z, rx, ry, rz, dx, dy, dz, drx, dry, drz, aperture, d_aperture, applied_force, d_applied_force, contact_force, subtask, task, img, wrist_img]\n",
      "Index: []\n",
      "\n",
      "[0 rows x 28 columns]\n",
      "Empty DataFrame\n",
      "Columns: [timestamp, q0, q1, q2, q3, q4, q5, x, y, z, rx, ry, rz, dx, dy, dz, drx, dry, drz, aperture, d_aperture, applied_force, d_applied_force, contact_force, subtask, task, img, wrist_img]\n",
      "Index: []\n",
      "\n",
      "[0 rows x 28 columns]\n",
      "trajectories/1727297331.8334222_orange_bottle_id-0\n",
      "Empty DataFrame\n",
      "Columns: [timestamp, q0, q1, q2, q3, q4, q5, x, y, z, rx, ry, rz, dx, dy, dz, drx, dry, drz, aperture, d_aperture, applied_force, d_applied_force, contact_force, subtask, task, img, wrist_img]\n",
      "Index: []\n",
      "\n",
      "[0 rows x 28 columns]\n",
      "Empty DataFrame\n",
      "Columns: [timestamp, q0, q1, q2, q3, q4, q5, x, y, z, rx, ry, rz, dx, dy, dz, drx, dry, drz, aperture, d_aperture, applied_force, d_applied_force, contact_force, subtask, task, img, wrist_img]\n",
      "Index: []\n",
      "\n",
      "[0 rows x 28 columns]\n",
      "trajectories/1727297375.2843275_orange_bottle_id-0\n"
     ]
    },
    {
     "name": "stderr",
     "output_type": "stream",
     "text": [
      "C:\\Users\\willi\\AppData\\Local\\Temp\\ipykernel_10196\\592521529.py:147: SettingWithCopyWarning: \n",
      "A value is trying to be set on a copy of a slice from a DataFrame\n",
      "\n",
      "See the caveats in the documentation: https://pandas.pydata.org/pandas-docs/stable/user_guide/indexing.html#returning-a-view-versus-a-copy\n",
      "  move['subtask'].iloc[-1] = grasp_task\n",
      "C:\\Users\\willi\\AppData\\Local\\Temp\\ipykernel_10196\\592521529.py:147: SettingWithCopyWarning: \n",
      "A value is trying to be set on a copy of a slice from a DataFrame\n",
      "\n",
      "See the caveats in the documentation: https://pandas.pydata.org/pandas-docs/stable/user_guide/indexing.html#returning-a-view-versus-a-copy\n",
      "  move['subtask'].iloc[-1] = grasp_task\n"
     ]
    },
    {
     "name": "stdout",
     "output_type": "stream",
     "text": [
      "Empty DataFrame\n",
      "Columns: [timestamp, q0, q1, q2, q3, q4, q5, x, y, z, rx, ry, rz, dx, dy, dz, drx, dry, drz, aperture, d_aperture, applied_force, d_applied_force, contact_force, subtask, task, img, wrist_img]\n",
      "Index: []\n",
      "\n",
      "[0 rows x 28 columns]\n",
      "Empty DataFrame\n",
      "Columns: [timestamp, q0, q1, q2, q3, q4, q5, x, y, z, rx, ry, rz, dx, dy, dz, drx, dry, drz, aperture, d_aperture, applied_force, d_applied_force, contact_force, subtask, task, img, wrist_img]\n",
      "Index: []\n",
      "\n",
      "[0 rows x 28 columns]\n",
      "trajectories/1727297472.9804783_orange_bottle_id-0\n",
      "Empty DataFrame\n",
      "Columns: [timestamp, q0, q1, q2, q3, q4, q5, x, y, z, rx, ry, rz, dx, dy, dz, drx, dry, drz, aperture, d_aperture, applied_force, d_applied_force, contact_force, subtask, task, img, wrist_img]\n",
      "Index: []\n",
      "\n",
      "[0 rows x 28 columns]\n",
      "Empty DataFrame\n",
      "Columns: [timestamp, q0, q1, q2, q3, q4, q5, x, y, z, rx, ry, rz, dx, dy, dz, drx, dry, drz, aperture, d_aperture, applied_force, d_applied_force, contact_force, subtask, task, img, wrist_img]\n",
      "Index: []\n",
      "\n",
      "[0 rows x 28 columns]\n",
      "trajectories/1727297605.5713522_orange_bottle_id-0\n"
     ]
    },
    {
     "name": "stderr",
     "output_type": "stream",
     "text": [
      "C:\\Users\\willi\\AppData\\Local\\Temp\\ipykernel_10196\\592521529.py:147: SettingWithCopyWarning: \n",
      "A value is trying to be set on a copy of a slice from a DataFrame\n",
      "\n",
      "See the caveats in the documentation: https://pandas.pydata.org/pandas-docs/stable/user_guide/indexing.html#returning-a-view-versus-a-copy\n",
      "  move['subtask'].iloc[-1] = grasp_task\n",
      "C:\\Users\\willi\\AppData\\Local\\Temp\\ipykernel_10196\\592521529.py:147: SettingWithCopyWarning: \n",
      "A value is trying to be set on a copy of a slice from a DataFrame\n",
      "\n",
      "See the caveats in the documentation: https://pandas.pydata.org/pandas-docs/stable/user_guide/indexing.html#returning-a-view-versus-a-copy\n",
      "  move['subtask'].iloc[-1] = grasp_task\n"
     ]
    },
    {
     "name": "stdout",
     "output_type": "stream",
     "text": [
      "Empty DataFrame\n",
      "Columns: [timestamp, q0, q1, q2, q3, q4, q5, x, y, z, rx, ry, rz, dx, dy, dz, drx, dry, drz, aperture, d_aperture, applied_force, d_applied_force, contact_force, subtask, task, img, wrist_img]\n",
      "Index: []\n",
      "\n",
      "[0 rows x 28 columns]\n",
      "Empty DataFrame\n",
      "Columns: [timestamp, q0, q1, q2, q3, q4, q5, x, y, z, rx, ry, rz, dx, dy, dz, drx, dry, drz, aperture, d_aperture, applied_force, d_applied_force, contact_force, subtask, task, img, wrist_img]\n",
      "Index: []\n",
      "\n",
      "[0 rows x 28 columns]\n",
      "trajectories/1727387972.319309_orange_noodle_bag_id-0_GRASP\n",
      "Empty DataFrame\n",
      "Columns: [timestamp, q0, q1, q2, q3, q4, q5, x, y, z, rx, ry, rz, dx, dy, dz, drx, dry, drz, aperture, d_aperture, applied_force, d_applied_force, contact_force, subtask, task, img, wrist_img]\n",
      "Index: []\n",
      "\n",
      "[0 rows x 28 columns]\n",
      "Empty DataFrame\n",
      "Columns: [timestamp, q0, q1, q2, q3, q4, q5, x, y, z, rx, ry, rz, dx, dy, dz, drx, dry, drz, aperture, d_aperture, applied_force, d_applied_force, contact_force, subtask, task, img, wrist_img]\n",
      "Index: []\n",
      "\n",
      "[0 rows x 28 columns]\n",
      "trajectories/1727388103.488486_orange_noodle_bag_id-0_GRASP\n",
      "Empty DataFrame\n",
      "Columns: [timestamp, q0, q1, q2, q3, q4, q5, x, y, z, rx, ry, rz, dx, dy, dz, drx, dry, drz, aperture, d_aperture, applied_force, d_applied_force, contact_force, subtask, task, img, wrist_img]\n",
      "Index: []\n",
      "\n",
      "[0 rows x 28 columns]\n",
      "Empty DataFrame\n",
      "Columns: [timestamp, q0, q1, q2, q3, q4, q5, x, y, z, rx, ry, rz, dx, dy, dz, drx, dry, drz, aperture, d_aperture, applied_force, d_applied_force, contact_force, subtask, task, img, wrist_img]\n",
      "Index: []\n",
      "\n",
      "[0 rows x 28 columns]\n",
      "trajectories/1727388202.9507446_orange_noodle_bag_id-0_GRASP\n"
     ]
    },
    {
     "name": "stderr",
     "output_type": "stream",
     "text": [
      "C:\\Users\\willi\\AppData\\Local\\Temp\\ipykernel_10196\\592521529.py:147: SettingWithCopyWarning: \n",
      "A value is trying to be set on a copy of a slice from a DataFrame\n",
      "\n",
      "See the caveats in the documentation: https://pandas.pydata.org/pandas-docs/stable/user_guide/indexing.html#returning-a-view-versus-a-copy\n",
      "  move['subtask'].iloc[-1] = grasp_task\n",
      "C:\\Users\\willi\\AppData\\Local\\Temp\\ipykernel_10196\\592521529.py:147: SettingWithCopyWarning: \n",
      "A value is trying to be set on a copy of a slice from a DataFrame\n",
      "\n",
      "See the caveats in the documentation: https://pandas.pydata.org/pandas-docs/stable/user_guide/indexing.html#returning-a-view-versus-a-copy\n",
      "  move['subtask'].iloc[-1] = grasp_task\n"
     ]
    },
    {
     "name": "stdout",
     "output_type": "stream",
     "text": [
      "Empty DataFrame\n",
      "Columns: [timestamp, q0, q1, q2, q3, q4, q5, x, y, z, rx, ry, rz, dx, dy, dz, drx, dry, drz, aperture, d_aperture, applied_force, d_applied_force, contact_force, subtask, task, img, wrist_img]\n",
      "Index: []\n",
      "\n",
      "[0 rows x 28 columns]\n",
      "Empty DataFrame\n",
      "Columns: [timestamp, q0, q1, q2, q3, q4, q5, x, y, z, rx, ry, rz, dx, dy, dz, drx, dry, drz, aperture, d_aperture, applied_force, d_applied_force, contact_force, subtask, task, img, wrist_img]\n",
      "Index: []\n",
      "\n",
      "[0 rows x 28 columns]\n",
      "trajectories/1727389170.4701355_small_avocado\n"
     ]
    },
    {
     "name": "stderr",
     "output_type": "stream",
     "text": [
      "C:\\Users\\willi\\AppData\\Local\\Temp\\ipykernel_10196\\592521529.py:147: SettingWithCopyWarning: \n",
      "A value is trying to be set on a copy of a slice from a DataFrame\n",
      "\n",
      "See the caveats in the documentation: https://pandas.pydata.org/pandas-docs/stable/user_guide/indexing.html#returning-a-view-versus-a-copy\n",
      "  move['subtask'].iloc[-1] = grasp_task\n"
     ]
    },
    {
     "name": "stdout",
     "output_type": "stream",
     "text": [
      "Empty DataFrame\n",
      "Columns: [timestamp, q0, q1, q2, q3, q4, q5, x, y, z, rx, ry, rz, dx, dy, dz, drx, dry, drz, aperture, d_aperture, applied_force, d_applied_force, contact_force, subtask, task, img, wrist_img]\n",
      "Index: []\n",
      "\n",
      "[0 rows x 28 columns]\n",
      "Empty DataFrame\n",
      "Columns: [timestamp, q0, q1, q2, q3, q4, q5, x, y, z, rx, ry, rz, dx, dy, dz, drx, dry, drz, aperture, d_aperture, applied_force, d_applied_force, contact_force, subtask, task, img, wrist_img]\n",
      "Index: []\n",
      "\n",
      "[0 rows x 28 columns]\n",
      "trajectories/1727389254.8427918_small_avocado_id-0\n"
     ]
    },
    {
     "name": "stderr",
     "output_type": "stream",
     "text": [
      "C:\\Users\\willi\\AppData\\Local\\Temp\\ipykernel_10196\\592521529.py:147: SettingWithCopyWarning: \n",
      "A value is trying to be set on a copy of a slice from a DataFrame\n",
      "\n",
      "See the caveats in the documentation: https://pandas.pydata.org/pandas-docs/stable/user_guide/indexing.html#returning-a-view-versus-a-copy\n",
      "  move['subtask'].iloc[-1] = grasp_task\n"
     ]
    },
    {
     "name": "stdout",
     "output_type": "stream",
     "text": [
      "Empty DataFrame\n",
      "Columns: [timestamp, q0, q1, q2, q3, q4, q5, x, y, z, rx, ry, rz, dx, dy, dz, drx, dry, drz, aperture, d_aperture, applied_force, d_applied_force, contact_force, subtask, task, img, wrist_img]\n",
      "Index: []\n",
      "\n",
      "[0 rows x 28 columns]\n",
      "Empty DataFrame\n",
      "Columns: [timestamp, q0, q1, q2, q3, q4, q5, x, y, z, rx, ry, rz, dx, dy, dz, drx, dry, drz, aperture, d_aperture, applied_force, d_applied_force, contact_force, subtask, task, img, wrist_img]\n",
      "Index: []\n",
      "\n",
      "[0 rows x 28 columns]\n",
      "trajectories/1727390236.1054754_small_avocado_id-0\n"
     ]
    },
    {
     "name": "stderr",
     "output_type": "stream",
     "text": [
      "C:\\Users\\willi\\AppData\\Local\\Temp\\ipykernel_10196\\592521529.py:147: SettingWithCopyWarning: \n",
      "A value is trying to be set on a copy of a slice from a DataFrame\n",
      "\n",
      "See the caveats in the documentation: https://pandas.pydata.org/pandas-docs/stable/user_guide/indexing.html#returning-a-view-versus-a-copy\n",
      "  move['subtask'].iloc[-1] = grasp_task\n"
     ]
    },
    {
     "name": "stdout",
     "output_type": "stream",
     "text": [
      "Empty DataFrame\n",
      "Columns: [timestamp, q0, q1, q2, q3, q4, q5, x, y, z, rx, ry, rz, dx, dy, dz, drx, dry, drz, aperture, d_aperture, applied_force, d_applied_force, contact_force, subtask, task, img, wrist_img]\n",
      "Index: []\n",
      "\n",
      "[0 rows x 28 columns]\n",
      "Empty DataFrame\n",
      "Columns: [timestamp, q0, q1, q2, q3, q4, q5, x, y, z, rx, ry, rz, dx, dy, dz, drx, dry, drz, aperture, d_aperture, applied_force, d_applied_force, contact_force, subtask, task, img, wrist_img]\n",
      "Index: []\n",
      "\n",
      "[0 rows x 28 columns]\n",
      "trajectories/1727390775.749006_small_avocado_id-0\n"
     ]
    },
    {
     "name": "stderr",
     "output_type": "stream",
     "text": [
      "C:\\Users\\willi\\AppData\\Local\\Temp\\ipykernel_10196\\592521529.py:147: SettingWithCopyWarning: \n",
      "A value is trying to be set on a copy of a slice from a DataFrame\n",
      "\n",
      "See the caveats in the documentation: https://pandas.pydata.org/pandas-docs/stable/user_guide/indexing.html#returning-a-view-versus-a-copy\n",
      "  move['subtask'].iloc[-1] = grasp_task\n"
     ]
    },
    {
     "name": "stdout",
     "output_type": "stream",
     "text": [
      "Empty DataFrame\n",
      "Columns: [timestamp, q0, q1, q2, q3, q4, q5, x, y, z, rx, ry, rz, dx, dy, dz, drx, dry, drz, aperture, d_aperture, applied_force, d_applied_force, contact_force, subtask, task, img, wrist_img]\n",
      "Index: []\n",
      "\n",
      "[0 rows x 28 columns]\n",
      "Empty DataFrame\n",
      "Columns: [timestamp, q0, q1, q2, q3, q4, q5, x, y, z, rx, ry, rz, dx, dy, dz, drx, dry, drz, aperture, d_aperture, applied_force, d_applied_force, contact_force, subtask, task, img, wrist_img]\n",
      "Index: []\n",
      "\n",
      "[0 rows x 28 columns]\n",
      "trajectories/1727390861.853763_small_avocado_id-0\n"
     ]
    },
    {
     "name": "stderr",
     "output_type": "stream",
     "text": [
      "C:\\Users\\willi\\AppData\\Local\\Temp\\ipykernel_10196\\592521529.py:147: SettingWithCopyWarning: \n",
      "A value is trying to be set on a copy of a slice from a DataFrame\n",
      "\n",
      "See the caveats in the documentation: https://pandas.pydata.org/pandas-docs/stable/user_guide/indexing.html#returning-a-view-versus-a-copy\n",
      "  move['subtask'].iloc[-1] = grasp_task\n"
     ]
    },
    {
     "name": "stdout",
     "output_type": "stream",
     "text": [
      "Empty DataFrame\n",
      "Columns: [timestamp, q0, q1, q2, q3, q4, q5, x, y, z, rx, ry, rz, dx, dy, dz, drx, dry, drz, aperture, d_aperture, applied_force, d_applied_force, contact_force, subtask, task, img, wrist_img]\n",
      "Index: []\n",
      "\n",
      "[0 rows x 28 columns]\n",
      "Empty DataFrame\n",
      "Columns: [timestamp, q0, q1, q2, q3, q4, q5, x, y, z, rx, ry, rz, dx, dy, dz, drx, dry, drz, aperture, d_aperture, applied_force, d_applied_force, contact_force, subtask, task, img, wrist_img]\n",
      "Index: []\n",
      "\n",
      "[0 rows x 28 columns]\n",
      "trajectories/1727391090.9184191_raspberry_id-0\n"
     ]
    },
    {
     "name": "stderr",
     "output_type": "stream",
     "text": [
      "C:\\Users\\willi\\AppData\\Local\\Temp\\ipykernel_10196\\592521529.py:147: SettingWithCopyWarning: \n",
      "A value is trying to be set on a copy of a slice from a DataFrame\n",
      "\n",
      "See the caveats in the documentation: https://pandas.pydata.org/pandas-docs/stable/user_guide/indexing.html#returning-a-view-versus-a-copy\n",
      "  move['subtask'].iloc[-1] = grasp_task\n"
     ]
    },
    {
     "name": "stdout",
     "output_type": "stream",
     "text": [
      "Empty DataFrame\n",
      "Columns: [timestamp, q0, q1, q2, q3, q4, q5, x, y, z, rx, ry, rz, dx, dy, dz, drx, dry, drz, aperture, d_aperture, applied_force, d_applied_force, contact_force, subtask, task, img, wrist_img]\n",
      "Index: []\n",
      "\n",
      "[0 rows x 28 columns]\n",
      "Empty DataFrame\n",
      "Columns: [timestamp, q0, q1, q2, q3, q4, q5, x, y, z, rx, ry, rz, dx, dy, dz, drx, dry, drz, aperture, d_aperture, applied_force, d_applied_force, contact_force, subtask, task, img, wrist_img]\n",
      "Index: []\n",
      "\n",
      "[0 rows x 28 columns]\n",
      "trajectories/1727391355.867747_raspberry_id-0\n"
     ]
    },
    {
     "name": "stderr",
     "output_type": "stream",
     "text": [
      "C:\\Users\\willi\\AppData\\Local\\Temp\\ipykernel_10196\\592521529.py:147: SettingWithCopyWarning: \n",
      "A value is trying to be set on a copy of a slice from a DataFrame\n",
      "\n",
      "See the caveats in the documentation: https://pandas.pydata.org/pandas-docs/stable/user_guide/indexing.html#returning-a-view-versus-a-copy\n",
      "  move['subtask'].iloc[-1] = grasp_task\n"
     ]
    },
    {
     "name": "stdout",
     "output_type": "stream",
     "text": [
      "Empty DataFrame\n",
      "Columns: [timestamp, q0, q1, q2, q3, q4, q5, x, y, z, rx, ry, rz, dx, dy, dz, drx, dry, drz, aperture, d_aperture, applied_force, d_applied_force, contact_force, subtask, task, img, wrist_img]\n",
      "Index: []\n",
      "\n",
      "[0 rows x 28 columns]\n",
      "Empty DataFrame\n",
      "Columns: [timestamp, q0, q1, q2, q3, q4, q5, x, y, z, rx, ry, rz, dx, dy, dz, drx, dry, drz, aperture, d_aperture, applied_force, d_applied_force, contact_force, subtask, task, img, wrist_img]\n",
      "Index: []\n",
      "\n",
      "[0 rows x 28 columns]\n",
      "trajectories/1727391417.434813_raspberry_id-0\n"
     ]
    },
    {
     "name": "stderr",
     "output_type": "stream",
     "text": [
      "C:\\Users\\willi\\AppData\\Local\\Temp\\ipykernel_10196\\592521529.py:147: SettingWithCopyWarning: \n",
      "A value is trying to be set on a copy of a slice from a DataFrame\n",
      "\n",
      "See the caveats in the documentation: https://pandas.pydata.org/pandas-docs/stable/user_guide/indexing.html#returning-a-view-versus-a-copy\n",
      "  move['subtask'].iloc[-1] = grasp_task\n"
     ]
    },
    {
     "name": "stdout",
     "output_type": "stream",
     "text": [
      "Empty DataFrame\n",
      "Columns: [timestamp, q0, q1, q2, q3, q4, q5, x, y, z, rx, ry, rz, dx, dy, dz, drx, dry, drz, aperture, d_aperture, applied_force, d_applied_force, contact_force, subtask, task, img, wrist_img]\n",
      "Index: []\n",
      "\n",
      "[0 rows x 28 columns]\n",
      "Empty DataFrame\n",
      "Columns: [timestamp, q0, q1, q2, q3, q4, q5, x, y, z, rx, ry, rz, dx, dy, dz, drx, dry, drz, aperture, d_aperture, applied_force, d_applied_force, contact_force, subtask, task, img, wrist_img]\n",
      "Index: []\n",
      "\n",
      "[0 rows x 28 columns]\n",
      "trajectories/1727391485.8978627_raspberry_id-0\n"
     ]
    },
    {
     "name": "stderr",
     "output_type": "stream",
     "text": [
      "C:\\Users\\willi\\AppData\\Local\\Temp\\ipykernel_10196\\592521529.py:147: SettingWithCopyWarning: \n",
      "A value is trying to be set on a copy of a slice from a DataFrame\n",
      "\n",
      "See the caveats in the documentation: https://pandas.pydata.org/pandas-docs/stable/user_guide/indexing.html#returning-a-view-versus-a-copy\n",
      "  move['subtask'].iloc[-1] = grasp_task\n"
     ]
    },
    {
     "name": "stdout",
     "output_type": "stream",
     "text": [
      "Empty DataFrame\n",
      "Columns: [timestamp, q0, q1, q2, q3, q4, q5, x, y, z, rx, ry, rz, dx, dy, dz, drx, dry, drz, aperture, d_aperture, applied_force, d_applied_force, contact_force, subtask, task, img, wrist_img]\n",
      "Index: []\n",
      "\n",
      "[0 rows x 28 columns]\n",
      "Empty DataFrame\n",
      "Columns: [timestamp, q0, q1, q2, q3, q4, q5, x, y, z, rx, ry, rz, dx, dy, dz, drx, dry, drz, aperture, d_aperture, applied_force, d_applied_force, contact_force, subtask, task, img, wrist_img]\n",
      "Index: []\n",
      "\n",
      "[0 rows x 28 columns]\n",
      "trajectories/1727391572.180253_raspberry_id-0\n"
     ]
    },
    {
     "name": "stderr",
     "output_type": "stream",
     "text": [
      "C:\\Users\\willi\\AppData\\Local\\Temp\\ipykernel_10196\\592521529.py:147: SettingWithCopyWarning: \n",
      "A value is trying to be set on a copy of a slice from a DataFrame\n",
      "\n",
      "See the caveats in the documentation: https://pandas.pydata.org/pandas-docs/stable/user_guide/indexing.html#returning-a-view-versus-a-copy\n",
      "  move['subtask'].iloc[-1] = grasp_task\n"
     ]
    },
    {
     "name": "stdout",
     "output_type": "stream",
     "text": [
      "Empty DataFrame\n",
      "Columns: [timestamp, q0, q1, q2, q3, q4, q5, x, y, z, rx, ry, rz, dx, dy, dz, drx, dry, drz, aperture, d_aperture, applied_force, d_applied_force, contact_force, subtask, task, img, wrist_img]\n",
      "Index: []\n",
      "\n",
      "[0 rows x 28 columns]\n",
      "Empty DataFrame\n",
      "Columns: [timestamp, q0, q1, q2, q3, q4, q5, x, y, z, rx, ry, rz, dx, dy, dz, drx, dry, drz, aperture, d_aperture, applied_force, d_applied_force, contact_force, subtask, task, img, wrist_img]\n",
      "Index: []\n",
      "\n",
      "[0 rows x 28 columns]\n",
      "trajectories/1727391687.7294388_raspberry_id-0\n"
     ]
    },
    {
     "name": "stderr",
     "output_type": "stream",
     "text": [
      "C:\\Users\\willi\\AppData\\Local\\Temp\\ipykernel_10196\\592521529.py:147: SettingWithCopyWarning: \n",
      "A value is trying to be set on a copy of a slice from a DataFrame\n",
      "\n",
      "See the caveats in the documentation: https://pandas.pydata.org/pandas-docs/stable/user_guide/indexing.html#returning-a-view-versus-a-copy\n",
      "  move['subtask'].iloc[-1] = grasp_task\n"
     ]
    },
    {
     "name": "stdout",
     "output_type": "stream",
     "text": [
      "Empty DataFrame\n",
      "Columns: [timestamp, q0, q1, q2, q3, q4, q5, x, y, z, rx, ry, rz, dx, dy, dz, drx, dry, drz, aperture, d_aperture, applied_force, d_applied_force, contact_force, subtask, task, img, wrist_img]\n",
      "Index: []\n",
      "\n",
      "[0 rows x 28 columns]\n",
      "Empty DataFrame\n",
      "Columns: [timestamp, q0, q1, q2, q3, q4, q5, x, y, z, rx, ry, rz, dx, dy, dz, drx, dry, drz, aperture, d_aperture, applied_force, d_applied_force, contact_force, subtask, task, img, wrist_img]\n",
      "Index: []\n",
      "\n",
      "[0 rows x 28 columns]\n",
      "trajectories/1727392176.8294675_cherry_tomato_id-0\n"
     ]
    },
    {
     "name": "stderr",
     "output_type": "stream",
     "text": [
      "C:\\Users\\willi\\AppData\\Local\\Temp\\ipykernel_10196\\592521529.py:147: SettingWithCopyWarning: \n",
      "A value is trying to be set on a copy of a slice from a DataFrame\n",
      "\n",
      "See the caveats in the documentation: https://pandas.pydata.org/pandas-docs/stable/user_guide/indexing.html#returning-a-view-versus-a-copy\n",
      "  move['subtask'].iloc[-1] = grasp_task\n"
     ]
    },
    {
     "name": "stdout",
     "output_type": "stream",
     "text": [
      "Empty DataFrame\n",
      "Columns: [timestamp, q0, q1, q2, q3, q4, q5, x, y, z, rx, ry, rz, dx, dy, dz, drx, dry, drz, aperture, d_aperture, applied_force, d_applied_force, contact_force, subtask, task, img, wrist_img]\n",
      "Index: []\n",
      "\n",
      "[0 rows x 28 columns]\n",
      "Empty DataFrame\n",
      "Columns: [timestamp, q0, q1, q2, q3, q4, q5, x, y, z, rx, ry, rz, dx, dy, dz, drx, dry, drz, aperture, d_aperture, applied_force, d_applied_force, contact_force, subtask, task, img, wrist_img]\n",
      "Index: []\n",
      "\n",
      "[0 rows x 28 columns]\n",
      "trajectories/1727392323.9958258_cherry_tomato_id-0\n"
     ]
    },
    {
     "name": "stderr",
     "output_type": "stream",
     "text": [
      "C:\\Users\\willi\\AppData\\Local\\Temp\\ipykernel_10196\\592521529.py:147: SettingWithCopyWarning: \n",
      "A value is trying to be set on a copy of a slice from a DataFrame\n",
      "\n",
      "See the caveats in the documentation: https://pandas.pydata.org/pandas-docs/stable/user_guide/indexing.html#returning-a-view-versus-a-copy\n",
      "  move['subtask'].iloc[-1] = grasp_task\n"
     ]
    },
    {
     "name": "stdout",
     "output_type": "stream",
     "text": [
      "Empty DataFrame\n",
      "Columns: [timestamp, q0, q1, q2, q3, q4, q5, x, y, z, rx, ry, rz, dx, dy, dz, drx, dry, drz, aperture, d_aperture, applied_force, d_applied_force, contact_force, subtask, task, img, wrist_img]\n",
      "Index: []\n",
      "\n",
      "[0 rows x 28 columns]\n",
      "Empty DataFrame\n",
      "Columns: [timestamp, q0, q1, q2, q3, q4, q5, x, y, z, rx, ry, rz, dx, dy, dz, drx, dry, drz, aperture, d_aperture, applied_force, d_applied_force, contact_force, subtask, task, img, wrist_img]\n",
      "Index: []\n",
      "\n",
      "[0 rows x 28 columns]\n",
      "trajectories/1727392378.4581475_cherry_tomato_id-0\n"
     ]
    },
    {
     "name": "stderr",
     "output_type": "stream",
     "text": [
      "C:\\Users\\willi\\AppData\\Local\\Temp\\ipykernel_10196\\592521529.py:147: SettingWithCopyWarning: \n",
      "A value is trying to be set on a copy of a slice from a DataFrame\n",
      "\n",
      "See the caveats in the documentation: https://pandas.pydata.org/pandas-docs/stable/user_guide/indexing.html#returning-a-view-versus-a-copy\n",
      "  move['subtask'].iloc[-1] = grasp_task\n",
      "C:\\Users\\willi\\AppData\\Local\\Temp\\ipykernel_10196\\592521529.py:147: SettingWithCopyWarning: \n",
      "A value is trying to be set on a copy of a slice from a DataFrame\n",
      "\n",
      "See the caveats in the documentation: https://pandas.pydata.org/pandas-docs/stable/user_guide/indexing.html#returning-a-view-versus-a-copy\n",
      "  move['subtask'].iloc[-1] = grasp_task\n"
     ]
    },
    {
     "name": "stdout",
     "output_type": "stream",
     "text": [
      "Empty DataFrame\n",
      "Columns: [timestamp, q0, q1, q2, q3, q4, q5, x, y, z, rx, ry, rz, dx, dy, dz, drx, dry, drz, aperture, d_aperture, applied_force, d_applied_force, contact_force, subtask, task, img, wrist_img]\n",
      "Index: []\n",
      "\n",
      "[0 rows x 28 columns]\n",
      "Empty DataFrame\n",
      "Columns: [timestamp, q0, q1, q2, q3, q4, q5, x, y, z, rx, ry, rz, dx, dy, dz, drx, dry, drz, aperture, d_aperture, applied_force, d_applied_force, contact_force, subtask, task, img, wrist_img]\n",
      "Index: []\n",
      "\n",
      "[0 rows x 28 columns]\n",
      "trajectories/1727392485.9284844_cherry_tomato_id-0\n",
      "Empty DataFrame\n",
      "Columns: [timestamp, q0, q1, q2, q3, q4, q5, x, y, z, rx, ry, rz, dx, dy, dz, drx, dry, drz, aperture, d_aperture, applied_force, d_applied_force, contact_force, subtask, task, img, wrist_img]\n",
      "Index: []\n",
      "\n",
      "[0 rows x 28 columns]\n",
      "Empty DataFrame\n",
      "Columns: [timestamp, q0, q1, q2, q3, q4, q5, x, y, z, rx, ry, rz, dx, dy, dz, drx, dry, drz, aperture, d_aperture, applied_force, d_applied_force, contact_force, subtask, task, img, wrist_img]\n",
      "Index: []\n",
      "\n",
      "[0 rows x 28 columns]\n",
      "trajectories/1727392521.5757682_cherry_tomato_id-0\n"
     ]
    },
    {
     "name": "stderr",
     "output_type": "stream",
     "text": [
      "C:\\Users\\willi\\AppData\\Local\\Temp\\ipykernel_10196\\592521529.py:147: SettingWithCopyWarning: \n",
      "A value is trying to be set on a copy of a slice from a DataFrame\n",
      "\n",
      "See the caveats in the documentation: https://pandas.pydata.org/pandas-docs/stable/user_guide/indexing.html#returning-a-view-versus-a-copy\n",
      "  move['subtask'].iloc[-1] = grasp_task\n"
     ]
    },
    {
     "name": "stdout",
     "output_type": "stream",
     "text": [
      "Empty DataFrame\n",
      "Columns: [timestamp, q0, q1, q2, q3, q4, q5, x, y, z, rx, ry, rz, dx, dy, dz, drx, dry, drz, aperture, d_aperture, applied_force, d_applied_force, contact_force, subtask, task, img, wrist_img]\n",
      "Index: []\n",
      "\n",
      "[0 rows x 28 columns]\n",
      "Empty DataFrame\n",
      "Columns: [timestamp, q0, q1, q2, q3, q4, q5, x, y, z, rx, ry, rz, dx, dy, dz, drx, dry, drz, aperture, d_aperture, applied_force, d_applied_force, contact_force, subtask, task, img, wrist_img]\n",
      "Index: []\n",
      "\n",
      "[0 rows x 28 columns]\n",
      "trajectories/1727392592.6718605_cherry_tomato_id-0\n"
     ]
    },
    {
     "name": "stderr",
     "output_type": "stream",
     "text": [
      "C:\\Users\\willi\\AppData\\Local\\Temp\\ipykernel_10196\\592521529.py:147: SettingWithCopyWarning: \n",
      "A value is trying to be set on a copy of a slice from a DataFrame\n",
      "\n",
      "See the caveats in the documentation: https://pandas.pydata.org/pandas-docs/stable/user_guide/indexing.html#returning-a-view-versus-a-copy\n",
      "  move['subtask'].iloc[-1] = grasp_task\n",
      "C:\\Users\\willi\\AppData\\Local\\Temp\\ipykernel_10196\\592521529.py:147: SettingWithCopyWarning: \n",
      "A value is trying to be set on a copy of a slice from a DataFrame\n",
      "\n",
      "See the caveats in the documentation: https://pandas.pydata.org/pandas-docs/stable/user_guide/indexing.html#returning-a-view-versus-a-copy\n",
      "  move['subtask'].iloc[-1] = grasp_task\n"
     ]
    },
    {
     "name": "stdout",
     "output_type": "stream",
     "text": [
      "Empty DataFrame\n",
      "Columns: [timestamp, q0, q1, q2, q3, q4, q5, x, y, z, rx, ry, rz, dx, dy, dz, drx, dry, drz, aperture, d_aperture, applied_force, d_applied_force, contact_force, subtask, task, img, wrist_img]\n",
      "Index: []\n",
      "\n",
      "[0 rows x 28 columns]\n",
      "Empty DataFrame\n",
      "Columns: [timestamp, q0, q1, q2, q3, q4, q5, x, y, z, rx, ry, rz, dx, dy, dz, drx, dry, drz, aperture, d_aperture, applied_force, d_applied_force, contact_force, subtask, task, img, wrist_img]\n",
      "Index: []\n",
      "\n",
      "[0 rows x 28 columns]\n",
      "trajectories/1727392685.5587604_strawberry_id-0\n",
      "Empty DataFrame\n",
      "Columns: [timestamp, q0, q1, q2, q3, q4, q5, x, y, z, rx, ry, rz, dx, dy, dz, drx, dry, drz, aperture, d_aperture, applied_force, d_applied_force, contact_force, subtask, task, img, wrist_img]\n",
      "Index: []\n",
      "\n",
      "[0 rows x 28 columns]\n",
      "Empty DataFrame\n",
      "Columns: [timestamp, q0, q1, q2, q3, q4, q5, x, y, z, rx, ry, rz, dx, dy, dz, drx, dry, drz, aperture, d_aperture, applied_force, d_applied_force, contact_force, subtask, task, img, wrist_img]\n",
      "Index: []\n",
      "\n",
      "[0 rows x 28 columns]\n",
      "trajectories/1727392884.6524196_strawberry_id-0\n",
      "Empty DataFrame\n",
      "Columns: [timestamp, q0, q1, q2, q3, q4, q5, x, y, z, rx, ry, rz, dx, dy, dz, drx, dry, drz, aperture, d_aperture, applied_force, d_applied_force, contact_force, subtask, task, img, wrist_img]\n",
      "Index: []\n",
      "\n",
      "[0 rows x 28 columns]\n",
      "Empty DataFrame\n",
      "Columns: [timestamp, q0, q1, q2, q3, q4, q5, x, y, z, rx, ry, rz, dx, dy, dz, drx, dry, drz, aperture, d_aperture, applied_force, d_applied_force, contact_force, subtask, task, img, wrist_img]\n",
      "Index: []\n",
      "\n",
      "[0 rows x 28 columns]\n"
     ]
    },
    {
     "name": "stderr",
     "output_type": "stream",
     "text": [
      "C:\\Users\\willi\\AppData\\Local\\Temp\\ipykernel_10196\\592521529.py:147: SettingWithCopyWarning: \n",
      "A value is trying to be set on a copy of a slice from a DataFrame\n",
      "\n",
      "See the caveats in the documentation: https://pandas.pydata.org/pandas-docs/stable/user_guide/indexing.html#returning-a-view-versus-a-copy\n",
      "  move['subtask'].iloc[-1] = grasp_task\n",
      "C:\\Users\\willi\\AppData\\Local\\Temp\\ipykernel_10196\\592521529.py:147: SettingWithCopyWarning: \n",
      "A value is trying to be set on a copy of a slice from a DataFrame\n",
      "\n",
      "See the caveats in the documentation: https://pandas.pydata.org/pandas-docs/stable/user_guide/indexing.html#returning-a-view-versus-a-copy\n",
      "  move['subtask'].iloc[-1] = grasp_task\n"
     ]
    },
    {
     "name": "stdout",
     "output_type": "stream",
     "text": [
      "trajectories/1727392936.5365632_strawberry_id-0\n",
      "Empty DataFrame\n",
      "Columns: [timestamp, q0, q1, q2, q3, q4, q5, x, y, z, rx, ry, rz, dx, dy, dz, drx, dry, drz, aperture, d_aperture, applied_force, d_applied_force, contact_force, subtask, task, img, wrist_img]\n",
      "Index: []\n",
      "\n",
      "[0 rows x 28 columns]\n",
      "Empty DataFrame\n",
      "Columns: [timestamp, q0, q1, q2, q3, q4, q5, x, y, z, rx, ry, rz, dx, dy, dz, drx, dry, drz, aperture, d_aperture, applied_force, d_applied_force, contact_force, subtask, task, img, wrist_img]\n",
      "Index: []\n",
      "\n",
      "[0 rows x 28 columns]\n",
      "trajectories/1727392992.552722_strawberry_id-0\n",
      "Empty DataFrame\n",
      "Columns: [timestamp, q0, q1, q2, q3, q4, q5, x, y, z, rx, ry, rz, dx, dy, dz, drx, dry, drz, aperture, d_aperture, applied_force, d_applied_force, contact_force, subtask, task, img, wrist_img]\n",
      "Index: []\n",
      "\n",
      "[0 rows x 28 columns]\n",
      "Empty DataFrame\n",
      "Columns: [timestamp, q0, q1, q2, q3, q4, q5, x, y, z, rx, ry, rz, dx, dy, dz, drx, dry, drz, aperture, d_aperture, applied_force, d_applied_force, contact_force, subtask, task, img, wrist_img]\n",
      "Index: []\n",
      "\n",
      "[0 rows x 28 columns]\n",
      "trajectories/1727393069.8211646_strawberry\n"
     ]
    },
    {
     "name": "stderr",
     "output_type": "stream",
     "text": [
      "C:\\Users\\willi\\AppData\\Local\\Temp\\ipykernel_10196\\592521529.py:147: SettingWithCopyWarning: \n",
      "A value is trying to be set on a copy of a slice from a DataFrame\n",
      "\n",
      "See the caveats in the documentation: https://pandas.pydata.org/pandas-docs/stable/user_guide/indexing.html#returning-a-view-versus-a-copy\n",
      "  move['subtask'].iloc[-1] = grasp_task\n",
      "C:\\Users\\willi\\AppData\\Local\\Temp\\ipykernel_10196\\592521529.py:147: SettingWithCopyWarning: \n",
      "A value is trying to be set on a copy of a slice from a DataFrame\n",
      "\n",
      "See the caveats in the documentation: https://pandas.pydata.org/pandas-docs/stable/user_guide/indexing.html#returning-a-view-versus-a-copy\n",
      "  move['subtask'].iloc[-1] = grasp_task\n"
     ]
    },
    {
     "name": "stdout",
     "output_type": "stream",
     "text": [
      "Empty DataFrame\n",
      "Columns: [timestamp, q0, q1, q2, q3, q4, q5, x, y, z, rx, ry, rz, dx, dy, dz, drx, dry, drz, aperture, d_aperture, applied_force, d_applied_force, contact_force, subtask, task, img, wrist_img]\n",
      "Index: []\n",
      "\n",
      "[0 rows x 28 columns]\n",
      "Empty DataFrame\n",
      "Columns: [timestamp, q0, q1, q2, q3, q4, q5, x, y, z, rx, ry, rz, dx, dy, dz, drx, dry, drz, aperture, d_aperture, applied_force, d_applied_force, contact_force, subtask, task, img, wrist_img]\n",
      "Index: []\n",
      "\n",
      "[0 rows x 28 columns]\n",
      "trajectories/1727393117.1195748_strawberry\n",
      "Empty DataFrame\n",
      "Columns: [timestamp, q0, q1, q2, q3, q4, q5, x, y, z, rx, ry, rz, dx, dy, dz, drx, dry, drz, aperture, d_aperture, applied_force, d_applied_force, contact_force, subtask, task, img, wrist_img]\n",
      "Index: []\n",
      "\n",
      "[0 rows x 28 columns]\n",
      "Empty DataFrame\n",
      "Columns: [timestamp, q0, q1, q2, q3, q4, q5, x, y, z, rx, ry, rz, dx, dy, dz, drx, dry, drz, aperture, d_aperture, applied_force, d_applied_force, contact_force, subtask, task, img, wrist_img]\n",
      "Index: []\n",
      "\n",
      "[0 rows x 28 columns]\n"
     ]
    },
    {
     "name": "stderr",
     "output_type": "stream",
     "text": [
      "C:\\Users\\willi\\AppData\\Local\\Temp\\ipykernel_10196\\592521529.py:147: SettingWithCopyWarning: \n",
      "A value is trying to be set on a copy of a slice from a DataFrame\n",
      "\n",
      "See the caveats in the documentation: https://pandas.pydata.org/pandas-docs/stable/user_guide/indexing.html#returning-a-view-versus-a-copy\n",
      "  move['subtask'].iloc[-1] = grasp_task\n",
      "C:\\Users\\willi\\AppData\\Local\\Temp\\ipykernel_10196\\592521529.py:147: SettingWithCopyWarning: \n",
      "A value is trying to be set on a copy of a slice from a DataFrame\n",
      "\n",
      "See the caveats in the documentation: https://pandas.pydata.org/pandas-docs/stable/user_guide/indexing.html#returning-a-view-versus-a-copy\n",
      "  move['subtask'].iloc[-1] = grasp_task\n"
     ]
    },
    {
     "name": "stdout",
     "output_type": "stream",
     "text": [
      "trajectories/1727393227.4508412_strawberry\n",
      "Empty DataFrame\n",
      "Columns: [timestamp, q0, q1, q2, q3, q4, q5, x, y, z, rx, ry, rz, dx, dy, dz, drx, dry, drz, aperture, d_aperture, applied_force, d_applied_force, contact_force, subtask, task, img, wrist_img]\n",
      "Index: []\n",
      "\n",
      "[0 rows x 28 columns]\n",
      "Empty DataFrame\n",
      "Columns: [timestamp, q0, q1, q2, q3, q4, q5, x, y, z, rx, ry, rz, dx, dy, dz, drx, dry, drz, aperture, d_aperture, applied_force, d_applied_force, contact_force, subtask, task, img, wrist_img]\n",
      "Index: []\n",
      "\n",
      "[0 rows x 28 columns]\n",
      "trajectories/1727393283.4501052_strawberry\n"
     ]
    },
    {
     "name": "stderr",
     "output_type": "stream",
     "text": [
      "C:\\Users\\willi\\AppData\\Local\\Temp\\ipykernel_10196\\592521529.py:147: SettingWithCopyWarning: \n",
      "A value is trying to be set on a copy of a slice from a DataFrame\n",
      "\n",
      "See the caveats in the documentation: https://pandas.pydata.org/pandas-docs/stable/user_guide/indexing.html#returning-a-view-versus-a-copy\n",
      "  move['subtask'].iloc[-1] = grasp_task\n"
     ]
    },
    {
     "name": "stdout",
     "output_type": "stream",
     "text": [
      "Empty DataFrame\n",
      "Columns: [timestamp, q0, q1, q2, q3, q4, q5, x, y, z, rx, ry, rz, dx, dy, dz, drx, dry, drz, aperture, d_aperture, applied_force, d_applied_force, contact_force, subtask, task, img, wrist_img]\n",
      "Index: []\n",
      "\n",
      "[0 rows x 28 columns]\n",
      "Empty DataFrame\n",
      "Columns: [timestamp, q0, q1, q2, q3, q4, q5, x, y, z, rx, ry, rz, dx, dy, dz, drx, dry, drz, aperture, d_aperture, applied_force, d_applied_force, contact_force, subtask, task, img, wrist_img]\n",
      "Index: []\n",
      "\n",
      "[0 rows x 28 columns]\n",
      "trajectories/1727393330.7218022_strawberry\n",
      "Empty DataFrame\n",
      "Columns: [timestamp, q0, q1, q2, q3, q4, q5, x, y, z, rx, ry, rz, dx, dy, dz, drx, dry, drz, aperture, d_aperture, applied_force, d_applied_force, contact_force, subtask, task, img, wrist_img]\n",
      "Index: []\n",
      "\n",
      "[0 rows x 28 columns]\n",
      "Empty DataFrame\n",
      "Columns: [timestamp, q0, q1, q2, q3, q4, q5, x, y, z, rx, ry, rz, dx, dy, dz, drx, dry, drz, aperture, d_aperture, applied_force, d_applied_force, contact_force, subtask, task, img, wrist_img]\n",
      "Index: []\n",
      "\n",
      "[0 rows x 28 columns]\n",
      "trajectories/1727393460.1504135_mushroom_id-0\n"
     ]
    },
    {
     "name": "stderr",
     "output_type": "stream",
     "text": [
      "C:\\Users\\willi\\AppData\\Local\\Temp\\ipykernel_10196\\592521529.py:147: SettingWithCopyWarning: \n",
      "A value is trying to be set on a copy of a slice from a DataFrame\n",
      "\n",
      "See the caveats in the documentation: https://pandas.pydata.org/pandas-docs/stable/user_guide/indexing.html#returning-a-view-versus-a-copy\n",
      "  move['subtask'].iloc[-1] = grasp_task\n",
      "C:\\Users\\willi\\AppData\\Local\\Temp\\ipykernel_10196\\592521529.py:147: SettingWithCopyWarning: \n",
      "A value is trying to be set on a copy of a slice from a DataFrame\n",
      "\n",
      "See the caveats in the documentation: https://pandas.pydata.org/pandas-docs/stable/user_guide/indexing.html#returning-a-view-versus-a-copy\n",
      "  move['subtask'].iloc[-1] = grasp_task\n"
     ]
    },
    {
     "name": "stdout",
     "output_type": "stream",
     "text": [
      "Empty DataFrame\n",
      "Columns: [timestamp, q0, q1, q2, q3, q4, q5, x, y, z, rx, ry, rz, dx, dy, dz, drx, dry, drz, aperture, d_aperture, applied_force, d_applied_force, contact_force, subtask, task, img, wrist_img]\n",
      "Index: []\n",
      "\n",
      "[0 rows x 28 columns]\n",
      "Empty DataFrame\n",
      "Columns: [timestamp, q0, q1, q2, q3, q4, q5, x, y, z, rx, ry, rz, dx, dy, dz, drx, dry, drz, aperture, d_aperture, applied_force, d_applied_force, contact_force, subtask, task, img, wrist_img]\n",
      "Index: []\n",
      "\n",
      "[0 rows x 28 columns]\n",
      "trajectories/1727393657.9157555_mushroom_id-0\n",
      "Empty DataFrame\n",
      "Columns: [timestamp, q0, q1, q2, q3, q4, q5, x, y, z, rx, ry, rz, dx, dy, dz, drx, dry, drz, aperture, d_aperture, applied_force, d_applied_force, contact_force, subtask, task, img, wrist_img]\n",
      "Index: []\n",
      "\n",
      "[0 rows x 28 columns]\n",
      "Empty DataFrame\n",
      "Columns: [timestamp, q0, q1, q2, q3, q4, q5, x, y, z, rx, ry, rz, dx, dy, dz, drx, dry, drz, aperture, d_aperture, applied_force, d_applied_force, contact_force, subtask, task, img, wrist_img]\n",
      "Index: []\n",
      "\n",
      "[0 rows x 28 columns]\n",
      "trajectories/1727393707.4474988_mushroom_id-0\n"
     ]
    },
    {
     "name": "stderr",
     "output_type": "stream",
     "text": [
      "C:\\Users\\willi\\AppData\\Local\\Temp\\ipykernel_10196\\592521529.py:147: SettingWithCopyWarning: \n",
      "A value is trying to be set on a copy of a slice from a DataFrame\n",
      "\n",
      "See the caveats in the documentation: https://pandas.pydata.org/pandas-docs/stable/user_guide/indexing.html#returning-a-view-versus-a-copy\n",
      "  move['subtask'].iloc[-1] = grasp_task\n",
      "C:\\Users\\willi\\AppData\\Local\\Temp\\ipykernel_10196\\592521529.py:147: SettingWithCopyWarning: \n",
      "A value is trying to be set on a copy of a slice from a DataFrame\n",
      "\n",
      "See the caveats in the documentation: https://pandas.pydata.org/pandas-docs/stable/user_guide/indexing.html#returning-a-view-versus-a-copy\n",
      "  move['subtask'].iloc[-1] = grasp_task\n"
     ]
    },
    {
     "name": "stdout",
     "output_type": "stream",
     "text": [
      "Empty DataFrame\n",
      "Columns: [timestamp, q0, q1, q2, q3, q4, q5, x, y, z, rx, ry, rz, dx, dy, dz, drx, dry, drz, aperture, d_aperture, applied_force, d_applied_force, contact_force, subtask, task, img, wrist_img]\n",
      "Index: []\n",
      "\n",
      "[0 rows x 28 columns]\n",
      "Empty DataFrame\n",
      "Columns: [timestamp, q0, q1, q2, q3, q4, q5, x, y, z, rx, ry, rz, dx, dy, dz, drx, dry, drz, aperture, d_aperture, applied_force, d_applied_force, contact_force, subtask, task, img, wrist_img]\n",
      "Index: []\n",
      "\n",
      "[0 rows x 28 columns]\n",
      "trajectories/1727393773.262763_mushroom_id-0\n"
     ]
    },
    {
     "name": "stderr",
     "output_type": "stream",
     "text": [
      "C:\\Users\\willi\\AppData\\Local\\Temp\\ipykernel_10196\\592521529.py:147: SettingWithCopyWarning: \n",
      "A value is trying to be set on a copy of a slice from a DataFrame\n",
      "\n",
      "See the caveats in the documentation: https://pandas.pydata.org/pandas-docs/stable/user_guide/indexing.html#returning-a-view-versus-a-copy\n",
      "  move['subtask'].iloc[-1] = grasp_task\n"
     ]
    },
    {
     "name": "stdout",
     "output_type": "stream",
     "text": [
      "Empty DataFrame\n",
      "Columns: [timestamp, q0, q1, q2, q3, q4, q5, x, y, z, rx, ry, rz, dx, dy, dz, drx, dry, drz, aperture, d_aperture, applied_force, d_applied_force, contact_force, subtask, task, img, wrist_img]\n",
      "Index: []\n",
      "\n",
      "[0 rows x 28 columns]\n",
      "Empty DataFrame\n",
      "Columns: [timestamp, q0, q1, q2, q3, q4, q5, x, y, z, rx, ry, rz, dx, dy, dz, drx, dry, drz, aperture, d_aperture, applied_force, d_applied_force, contact_force, subtask, task, img, wrist_img]\n",
      "Index: []\n",
      "\n",
      "[0 rows x 28 columns]\n",
      "trajectories/1727394047.412565_mushroom_id-0\n",
      "Empty DataFrame\n",
      "Columns: [timestamp, q0, q1, q2, q3, q4, q5, x, y, z, rx, ry, rz, dx, dy, dz, drx, dry, drz, aperture, d_aperture, applied_force, d_applied_force, contact_force, subtask, task, img, wrist_img]\n",
      "Index: []\n",
      "\n",
      "[0 rows x 28 columns]\n",
      "Empty DataFrame\n",
      "Columns: [timestamp, q0, q1, q2, q3, q4, q5, x, y, z, rx, ry, rz, dx, dy, dz, drx, dry, drz, aperture, d_aperture, applied_force, d_applied_force, contact_force, subtask, task, img, wrist_img]\n",
      "Index: []\n",
      "\n",
      "[0 rows x 28 columns]\n"
     ]
    },
    {
     "name": "stderr",
     "output_type": "stream",
     "text": [
      "C:\\Users\\willi\\AppData\\Local\\Temp\\ipykernel_10196\\592521529.py:147: SettingWithCopyWarning: \n",
      "A value is trying to be set on a copy of a slice from a DataFrame\n",
      "\n",
      "See the caveats in the documentation: https://pandas.pydata.org/pandas-docs/stable/user_guide/indexing.html#returning-a-view-versus-a-copy\n",
      "  move['subtask'].iloc[-1] = grasp_task\n",
      "C:\\Users\\willi\\AppData\\Local\\Temp\\ipykernel_10196\\592521529.py:147: SettingWithCopyWarning: \n",
      "A value is trying to be set on a copy of a slice from a DataFrame\n",
      "\n",
      "See the caveats in the documentation: https://pandas.pydata.org/pandas-docs/stable/user_guide/indexing.html#returning-a-view-versus-a-copy\n",
      "  move['subtask'].iloc[-1] = grasp_task\n"
     ]
    },
    {
     "name": "stdout",
     "output_type": "stream",
     "text": [
      "trajectories/1727394082.6110275_mushroom_id-0\n",
      "Empty DataFrame\n",
      "Columns: [timestamp, q0, q1, q2, q3, q4, q5, x, y, z, rx, ry, rz, dx, dy, dz, drx, dry, drz, aperture, d_aperture, applied_force, d_applied_force, contact_force, subtask, task, img, wrist_img]\n",
      "Index: []\n",
      "\n",
      "[0 rows x 28 columns]\n",
      "Empty DataFrame\n",
      "Columns: [timestamp, q0, q1, q2, q3, q4, q5, x, y, z, rx, ry, rz, dx, dy, dz, drx, dry, drz, aperture, d_aperture, applied_force, d_applied_force, contact_force, subtask, task, img, wrist_img]\n",
      "Index: []\n",
      "\n",
      "[0 rows x 28 columns]\n",
      "trajectories/1727394166.6190233_mushroom_id-0\n"
     ]
    },
    {
     "name": "stderr",
     "output_type": "stream",
     "text": [
      "C:\\Users\\willi\\AppData\\Local\\Temp\\ipykernel_10196\\592521529.py:147: SettingWithCopyWarning: \n",
      "A value is trying to be set on a copy of a slice from a DataFrame\n",
      "\n",
      "See the caveats in the documentation: https://pandas.pydata.org/pandas-docs/stable/user_guide/indexing.html#returning-a-view-versus-a-copy\n",
      "  move['subtask'].iloc[-1] = grasp_task\n",
      "C:\\Users\\willi\\AppData\\Local\\Temp\\ipykernel_10196\\592521529.py:147: SettingWithCopyWarning: \n",
      "A value is trying to be set on a copy of a slice from a DataFrame\n",
      "\n",
      "See the caveats in the documentation: https://pandas.pydata.org/pandas-docs/stable/user_guide/indexing.html#returning-a-view-versus-a-copy\n",
      "  move['subtask'].iloc[-1] = grasp_task\n"
     ]
    },
    {
     "name": "stdout",
     "output_type": "stream",
     "text": [
      "Empty DataFrame\n",
      "Columns: [timestamp, q0, q1, q2, q3, q4, q5, x, y, z, rx, ry, rz, dx, dy, dz, drx, dry, drz, aperture, d_aperture, applied_force, d_applied_force, contact_force, subtask, task, img, wrist_img]\n",
      "Index: []\n",
      "\n",
      "[0 rows x 28 columns]\n",
      "Empty DataFrame\n",
      "Columns: [timestamp, q0, q1, q2, q3, q4, q5, x, y, z, rx, ry, rz, dx, dy, dz, drx, dry, drz, aperture, d_aperture, applied_force, d_applied_force, contact_force, subtask, task, img, wrist_img]\n",
      "Index: []\n",
      "\n",
      "[0 rows x 28 columns]\n",
      "trajectories/1727394805.8735938_scallion_stalk_id-0\n",
      "Empty DataFrame\n",
      "Columns: [timestamp, q0, q1, q2, q3, q4, q5, x, y, z, rx, ry, rz, dx, dy, dz, drx, dry, drz, aperture, d_aperture, applied_force, d_applied_force, contact_force, subtask, task, img, wrist_img]\n",
      "Index: []\n",
      "\n",
      "[0 rows x 28 columns]\n",
      "Empty DataFrame\n",
      "Columns: [timestamp, q0, q1, q2, q3, q4, q5, x, y, z, rx, ry, rz, dx, dy, dz, drx, dry, drz, aperture, d_aperture, applied_force, d_applied_force, contact_force, subtask, task, img, wrist_img]\n",
      "Index: []\n",
      "\n",
      "[0 rows x 28 columns]\n",
      "trajectories/1727394945.473561_scallion_stalk_id-0\n"
     ]
    },
    {
     "name": "stderr",
     "output_type": "stream",
     "text": [
      "C:\\Users\\willi\\AppData\\Local\\Temp\\ipykernel_10196\\592521529.py:147: SettingWithCopyWarning: \n",
      "A value is trying to be set on a copy of a slice from a DataFrame\n",
      "\n",
      "See the caveats in the documentation: https://pandas.pydata.org/pandas-docs/stable/user_guide/indexing.html#returning-a-view-versus-a-copy\n",
      "  move['subtask'].iloc[-1] = grasp_task\n"
     ]
    },
    {
     "name": "stdout",
     "output_type": "stream",
     "text": [
      "Empty DataFrame\n",
      "Columns: [timestamp, q0, q1, q2, q3, q4, q5, x, y, z, rx, ry, rz, dx, dy, dz, drx, dry, drz, aperture, d_aperture, applied_force, d_applied_force, contact_force, subtask, task, img, wrist_img]\n",
      "Index: []\n",
      "\n",
      "[0 rows x 28 columns]\n",
      "Empty DataFrame\n",
      "Columns: [timestamp, q0, q1, q2, q3, q4, q5, x, y, z, rx, ry, rz, dx, dy, dz, drx, dry, drz, aperture, d_aperture, applied_force, d_applied_force, contact_force, subtask, task, img, wrist_img]\n",
      "Index: []\n",
      "\n",
      "[0 rows x 28 columns]\n",
      "trajectories/1727395054.7459216_scallion_stalk_id-0\n"
     ]
    },
    {
     "name": "stderr",
     "output_type": "stream",
     "text": [
      "C:\\Users\\willi\\AppData\\Local\\Temp\\ipykernel_10196\\592521529.py:147: SettingWithCopyWarning: \n",
      "A value is trying to be set on a copy of a slice from a DataFrame\n",
      "\n",
      "See the caveats in the documentation: https://pandas.pydata.org/pandas-docs/stable/user_guide/indexing.html#returning-a-view-versus-a-copy\n",
      "  move['subtask'].iloc[-1] = grasp_task\n"
     ]
    },
    {
     "name": "stdout",
     "output_type": "stream",
     "text": [
      "Empty DataFrame\n",
      "Columns: [timestamp, q0, q1, q2, q3, q4, q5, x, y, z, rx, ry, rz, dx, dy, dz, drx, dry, drz, aperture, d_aperture, applied_force, d_applied_force, contact_force, subtask, task, img, wrist_img]\n",
      "Index: []\n",
      "\n",
      "[0 rows x 28 columns]\n",
      "Empty DataFrame\n",
      "Columns: [timestamp, q0, q1, q2, q3, q4, q5, x, y, z, rx, ry, rz, dx, dy, dz, drx, dry, drz, aperture, d_aperture, applied_force, d_applied_force, contact_force, subtask, task, img, wrist_img]\n",
      "Index: []\n",
      "\n",
      "[0 rows x 28 columns]\n",
      "trajectories/1727395265.120924_scalion_stalk_id-0\n"
     ]
    },
    {
     "name": "stderr",
     "output_type": "stream",
     "text": [
      "C:\\Users\\willi\\AppData\\Local\\Temp\\ipykernel_10196\\592521529.py:147: SettingWithCopyWarning: \n",
      "A value is trying to be set on a copy of a slice from a DataFrame\n",
      "\n",
      "See the caveats in the documentation: https://pandas.pydata.org/pandas-docs/stable/user_guide/indexing.html#returning-a-view-versus-a-copy\n",
      "  move['subtask'].iloc[-1] = grasp_task\n"
     ]
    },
    {
     "name": "stdout",
     "output_type": "stream",
     "text": [
      "Empty DataFrame\n",
      "Columns: [timestamp, q0, q1, q2, q3, q4, q5, x, y, z, rx, ry, rz, dx, dy, dz, drx, dry, drz, aperture, d_aperture, applied_force, d_applied_force, contact_force, subtask, task, img, wrist_img]\n",
      "Index: []\n",
      "\n",
      "[0 rows x 28 columns]\n",
      "Empty DataFrame\n",
      "Columns: [timestamp, q0, q1, q2, q3, q4, q5, x, y, z, rx, ry, rz, dx, dy, dz, drx, dry, drz, aperture, d_aperture, applied_force, d_applied_force, contact_force, subtask, task, img, wrist_img]\n",
      "Index: []\n",
      "\n",
      "[0 rows x 28 columns]\n",
      "trajectories/1727395354.2034051_scallion_stalk_id-0\n"
     ]
    },
    {
     "name": "stderr",
     "output_type": "stream",
     "text": [
      "C:\\Users\\willi\\AppData\\Local\\Temp\\ipykernel_10196\\592521529.py:147: SettingWithCopyWarning: \n",
      "A value is trying to be set on a copy of a slice from a DataFrame\n",
      "\n",
      "See the caveats in the documentation: https://pandas.pydata.org/pandas-docs/stable/user_guide/indexing.html#returning-a-view-versus-a-copy\n",
      "  move['subtask'].iloc[-1] = grasp_task\n"
     ]
    },
    {
     "name": "stdout",
     "output_type": "stream",
     "text": [
      "Empty DataFrame\n",
      "Columns: [timestamp, q0, q1, q2, q3, q4, q5, x, y, z, rx, ry, rz, dx, dy, dz, drx, dry, drz, aperture, d_aperture, applied_force, d_applied_force, contact_force, subtask, task, img, wrist_img]\n",
      "Index: []\n",
      "\n",
      "[0 rows x 28 columns]\n",
      "Empty DataFrame\n",
      "Columns: [timestamp, q0, q1, q2, q3, q4, q5, x, y, z, rx, ry, rz, dx, dy, dz, drx, dry, drz, aperture, d_aperture, applied_force, d_applied_force, contact_force, subtask, task, img, wrist_img]\n",
      "Index: []\n",
      "\n",
      "[0 rows x 28 columns]\n",
      "trajectories/1727395413.5043073_scallion_stalk_id-0\n"
     ]
    },
    {
     "name": "stderr",
     "output_type": "stream",
     "text": [
      "C:\\Users\\willi\\AppData\\Local\\Temp\\ipykernel_10196\\592521529.py:147: SettingWithCopyWarning: \n",
      "A value is trying to be set on a copy of a slice from a DataFrame\n",
      "\n",
      "See the caveats in the documentation: https://pandas.pydata.org/pandas-docs/stable/user_guide/indexing.html#returning-a-view-versus-a-copy\n",
      "  move['subtask'].iloc[-1] = grasp_task\n"
     ]
    },
    {
     "name": "stdout",
     "output_type": "stream",
     "text": [
      "Empty DataFrame\n",
      "Columns: [timestamp, q0, q1, q2, q3, q4, q5, x, y, z, rx, ry, rz, dx, dy, dz, drx, dry, drz, aperture, d_aperture, applied_force, d_applied_force, contact_force, subtask, task, img, wrist_img]\n",
      "Index: []\n",
      "\n",
      "[0 rows x 28 columns]\n",
      "Empty DataFrame\n",
      "Columns: [timestamp, q0, q1, q2, q3, q4, q5, x, y, z, rx, ry, rz, dx, dy, dz, drx, dry, drz, aperture, d_aperture, applied_force, d_applied_force, contact_force, subtask, task, img, wrist_img]\n",
      "Index: []\n",
      "\n",
      "[0 rows x 28 columns]\n",
      "trajectories/1727395522.876958_scallion_stalk_id-0\n"
     ]
    },
    {
     "name": "stderr",
     "output_type": "stream",
     "text": [
      "C:\\Users\\willi\\AppData\\Local\\Temp\\ipykernel_10196\\592521529.py:147: SettingWithCopyWarning: \n",
      "A value is trying to be set on a copy of a slice from a DataFrame\n",
      "\n",
      "See the caveats in the documentation: https://pandas.pydata.org/pandas-docs/stable/user_guide/indexing.html#returning-a-view-versus-a-copy\n",
      "  move['subtask'].iloc[-1] = grasp_task\n"
     ]
    },
    {
     "name": "stdout",
     "output_type": "stream",
     "text": [
      "Empty DataFrame\n",
      "Columns: [timestamp, q0, q1, q2, q3, q4, q5, x, y, z, rx, ry, rz, dx, dy, dz, drx, dry, drz, aperture, d_aperture, applied_force, d_applied_force, contact_force, subtask, task, img, wrist_img]\n",
      "Index: []\n",
      "\n",
      "[0 rows x 28 columns]\n",
      "Empty DataFrame\n",
      "Columns: [timestamp, q0, q1, q2, q3, q4, q5, x, y, z, rx, ry, rz, dx, dy, dz, drx, dry, drz, aperture, d_aperture, applied_force, d_applied_force, contact_force, subtask, task, img, wrist_img]\n",
      "Index: []\n",
      "\n",
      "[0 rows x 28 columns]\n",
      "trajectories/1727395600.1698666_green_block_id-0\n"
     ]
    },
    {
     "name": "stderr",
     "output_type": "stream",
     "text": [
      "C:\\Users\\willi\\AppData\\Local\\Temp\\ipykernel_10196\\592521529.py:147: SettingWithCopyWarning: \n",
      "A value is trying to be set on a copy of a slice from a DataFrame\n",
      "\n",
      "See the caveats in the documentation: https://pandas.pydata.org/pandas-docs/stable/user_guide/indexing.html#returning-a-view-versus-a-copy\n",
      "  move['subtask'].iloc[-1] = grasp_task\n"
     ]
    },
    {
     "name": "stdout",
     "output_type": "stream",
     "text": [
      "Empty DataFrame\n",
      "Columns: [timestamp, q0, q1, q2, q3, q4, q5, x, y, z, rx, ry, rz, dx, dy, dz, drx, dry, drz, aperture, d_aperture, applied_force, d_applied_force, contact_force, subtask, task, img, wrist_img]\n",
      "Index: []\n",
      "\n",
      "[0 rows x 28 columns]\n",
      "Empty DataFrame\n",
      "Columns: [timestamp, q0, q1, q2, q3, q4, q5, x, y, z, rx, ry, rz, dx, dy, dz, drx, dry, drz, aperture, d_aperture, applied_force, d_applied_force, contact_force, subtask, task, img, wrist_img]\n",
      "Index: []\n",
      "\n",
      "[0 rows x 28 columns]\n",
      "trajectories/1727395831.471722_small_red_green_apple_id-0\n"
     ]
    },
    {
     "name": "stderr",
     "output_type": "stream",
     "text": [
      "C:\\Users\\willi\\AppData\\Local\\Temp\\ipykernel_10196\\592521529.py:147: SettingWithCopyWarning: \n",
      "A value is trying to be set on a copy of a slice from a DataFrame\n",
      "\n",
      "See the caveats in the documentation: https://pandas.pydata.org/pandas-docs/stable/user_guide/indexing.html#returning-a-view-versus-a-copy\n",
      "  move['subtask'].iloc[-1] = grasp_task\n"
     ]
    },
    {
     "name": "stdout",
     "output_type": "stream",
     "text": [
      "Empty DataFrame\n",
      "Columns: [timestamp, q0, q1, q2, q3, q4, q5, x, y, z, rx, ry, rz, dx, dy, dz, drx, dry, drz, aperture, d_aperture, applied_force, d_applied_force, contact_force, subtask, task, img, wrist_img]\n",
      "Index: []\n",
      "\n",
      "[0 rows x 28 columns]\n",
      "Empty DataFrame\n",
      "Columns: [timestamp, q0, q1, q2, q3, q4, q5, x, y, z, rx, ry, rz, dx, dy, dz, drx, dry, drz, aperture, d_aperture, applied_force, d_applied_force, contact_force, subtask, task, img, wrist_img]\n",
      "Index: []\n",
      "\n",
      "[0 rows x 28 columns]\n",
      "trajectories/1727395870.7034085_small_red_green_apple_id-0\n"
     ]
    },
    {
     "name": "stderr",
     "output_type": "stream",
     "text": [
      "C:\\Users\\willi\\AppData\\Local\\Temp\\ipykernel_10196\\592521529.py:147: SettingWithCopyWarning: \n",
      "A value is trying to be set on a copy of a slice from a DataFrame\n",
      "\n",
      "See the caveats in the documentation: https://pandas.pydata.org/pandas-docs/stable/user_guide/indexing.html#returning-a-view-versus-a-copy\n",
      "  move['subtask'].iloc[-1] = grasp_task\n"
     ]
    },
    {
     "name": "stdout",
     "output_type": "stream",
     "text": [
      "Empty DataFrame\n",
      "Columns: [timestamp, q0, q1, q2, q3, q4, q5, x, y, z, rx, ry, rz, dx, dy, dz, drx, dry, drz, aperture, d_aperture, applied_force, d_applied_force, contact_force, subtask, task, img, wrist_img]\n",
      "Index: []\n",
      "\n",
      "[0 rows x 28 columns]\n",
      "Empty DataFrame\n",
      "Columns: [timestamp, q0, q1, q2, q3, q4, q5, x, y, z, rx, ry, rz, dx, dy, dz, drx, dry, drz, aperture, d_aperture, applied_force, d_applied_force, contact_force, subtask, task, img, wrist_img]\n",
      "Index: []\n",
      "\n",
      "[0 rows x 28 columns]\n",
      "trajectories/1727395908.6002579_small_red_green_apple_id-0\n"
     ]
    },
    {
     "name": "stderr",
     "output_type": "stream",
     "text": [
      "C:\\Users\\willi\\AppData\\Local\\Temp\\ipykernel_10196\\592521529.py:147: SettingWithCopyWarning: \n",
      "A value is trying to be set on a copy of a slice from a DataFrame\n",
      "\n",
      "See the caveats in the documentation: https://pandas.pydata.org/pandas-docs/stable/user_guide/indexing.html#returning-a-view-versus-a-copy\n",
      "  move['subtask'].iloc[-1] = grasp_task\n"
     ]
    },
    {
     "name": "stdout",
     "output_type": "stream",
     "text": [
      "Empty DataFrame\n",
      "Columns: [timestamp, q0, q1, q2, q3, q4, q5, x, y, z, rx, ry, rz, dx, dy, dz, drx, dry, drz, aperture, d_aperture, applied_force, d_applied_force, contact_force, subtask, task, img, wrist_img]\n",
      "Index: []\n",
      "\n",
      "[0 rows x 28 columns]\n",
      "Empty DataFrame\n",
      "Columns: [timestamp, q0, q1, q2, q3, q4, q5, x, y, z, rx, ry, rz, dx, dy, dz, drx, dry, drz, aperture, d_aperture, applied_force, d_applied_force, contact_force, subtask, task, img, wrist_img]\n",
      "Index: []\n",
      "\n",
      "[0 rows x 28 columns]\n",
      "trajectories/1727395940.40597_small_red_green_apple_id-0\n"
     ]
    },
    {
     "name": "stderr",
     "output_type": "stream",
     "text": [
      "C:\\Users\\willi\\AppData\\Local\\Temp\\ipykernel_10196\\592521529.py:147: SettingWithCopyWarning: \n",
      "A value is trying to be set on a copy of a slice from a DataFrame\n",
      "\n",
      "See the caveats in the documentation: https://pandas.pydata.org/pandas-docs/stable/user_guide/indexing.html#returning-a-view-versus-a-copy\n",
      "  move['subtask'].iloc[-1] = grasp_task\n"
     ]
    },
    {
     "name": "stdout",
     "output_type": "stream",
     "text": [
      "Empty DataFrame\n",
      "Columns: [timestamp, q0, q1, q2, q3, q4, q5, x, y, z, rx, ry, rz, dx, dy, dz, drx, dry, drz, aperture, d_aperture, applied_force, d_applied_force, contact_force, subtask, task, img, wrist_img]\n",
      "Index: []\n",
      "\n",
      "[0 rows x 28 columns]\n",
      "Empty DataFrame\n",
      "Columns: [timestamp, q0, q1, q2, q3, q4, q5, x, y, z, rx, ry, rz, dx, dy, dz, drx, dry, drz, aperture, d_aperture, applied_force, d_applied_force, contact_force, subtask, task, img, wrist_img]\n",
      "Index: []\n",
      "\n",
      "[0 rows x 28 columns]\n",
      "trajectories/1727395974.9333289_small_red_green_apple_id-0\n"
     ]
    },
    {
     "name": "stderr",
     "output_type": "stream",
     "text": [
      "C:\\Users\\willi\\AppData\\Local\\Temp\\ipykernel_10196\\592521529.py:147: SettingWithCopyWarning: \n",
      "A value is trying to be set on a copy of a slice from a DataFrame\n",
      "\n",
      "See the caveats in the documentation: https://pandas.pydata.org/pandas-docs/stable/user_guide/indexing.html#returning-a-view-versus-a-copy\n",
      "  move['subtask'].iloc[-1] = grasp_task\n"
     ]
    },
    {
     "name": "stdout",
     "output_type": "stream",
     "text": [
      "Empty DataFrame\n",
      "Columns: [timestamp, q0, q1, q2, q3, q4, q5, x, y, z, rx, ry, rz, dx, dy, dz, drx, dry, drz, aperture, d_aperture, applied_force, d_applied_force, contact_force, subtask, task, img, wrist_img]\n",
      "Index: []\n",
      "\n",
      "[0 rows x 28 columns]\n",
      "Empty DataFrame\n",
      "Columns: [timestamp, q0, q1, q2, q3, q4, q5, x, y, z, rx, ry, rz, dx, dy, dz, drx, dry, drz, aperture, d_aperture, applied_force, d_applied_force, contact_force, subtask, task, img, wrist_img]\n",
      "Index: []\n",
      "\n",
      "[0 rows x 28 columns]\n",
      "trajectories/1727396155.6677184_garlic_bulb_id-0\n"
     ]
    },
    {
     "name": "stderr",
     "output_type": "stream",
     "text": [
      "C:\\Users\\willi\\AppData\\Local\\Temp\\ipykernel_10196\\592521529.py:147: SettingWithCopyWarning: \n",
      "A value is trying to be set on a copy of a slice from a DataFrame\n",
      "\n",
      "See the caveats in the documentation: https://pandas.pydata.org/pandas-docs/stable/user_guide/indexing.html#returning-a-view-versus-a-copy\n",
      "  move['subtask'].iloc[-1] = grasp_task\n"
     ]
    },
    {
     "name": "stdout",
     "output_type": "stream",
     "text": [
      "Empty DataFrame\n",
      "Columns: [timestamp, q0, q1, q2, q3, q4, q5, x, y, z, rx, ry, rz, dx, dy, dz, drx, dry, drz, aperture, d_aperture, applied_force, d_applied_force, contact_force, subtask, task, img, wrist_img]\n",
      "Index: []\n",
      "\n",
      "[0 rows x 28 columns]\n",
      "Empty DataFrame\n",
      "Columns: [timestamp, q0, q1, q2, q3, q4, q5, x, y, z, rx, ry, rz, dx, dy, dz, drx, dry, drz, aperture, d_aperture, applied_force, d_applied_force, contact_force, subtask, task, img, wrist_img]\n",
      "Index: []\n",
      "\n",
      "[0 rows x 28 columns]\n",
      "trajectories/1727396328.9842877_garlic_bulb_id-0\n"
     ]
    },
    {
     "name": "stderr",
     "output_type": "stream",
     "text": [
      "C:\\Users\\willi\\AppData\\Local\\Temp\\ipykernel_10196\\592521529.py:147: SettingWithCopyWarning: \n",
      "A value is trying to be set on a copy of a slice from a DataFrame\n",
      "\n",
      "See the caveats in the documentation: https://pandas.pydata.org/pandas-docs/stable/user_guide/indexing.html#returning-a-view-versus-a-copy\n",
      "  move['subtask'].iloc[-1] = grasp_task\n"
     ]
    },
    {
     "name": "stdout",
     "output_type": "stream",
     "text": [
      "Empty DataFrame\n",
      "Columns: [timestamp, q0, q1, q2, q3, q4, q5, x, y, z, rx, ry, rz, dx, dy, dz, drx, dry, drz, aperture, d_aperture, applied_force, d_applied_force, contact_force, subtask, task, img, wrist_img]\n",
      "Index: []\n",
      "\n",
      "[0 rows x 28 columns]\n",
      "Empty DataFrame\n",
      "Columns: [timestamp, q0, q1, q2, q3, q4, q5, x, y, z, rx, ry, rz, dx, dy, dz, drx, dry, drz, aperture, d_aperture, applied_force, d_applied_force, contact_force, subtask, task, img, wrist_img]\n",
      "Index: []\n",
      "\n",
      "[0 rows x 28 columns]\n",
      "trajectories/1727396398.7032871_garlic_bulb_id-0\n"
     ]
    },
    {
     "name": "stderr",
     "output_type": "stream",
     "text": [
      "C:\\Users\\willi\\AppData\\Local\\Temp\\ipykernel_10196\\592521529.py:147: SettingWithCopyWarning: \n",
      "A value is trying to be set on a copy of a slice from a DataFrame\n",
      "\n",
      "See the caveats in the documentation: https://pandas.pydata.org/pandas-docs/stable/user_guide/indexing.html#returning-a-view-versus-a-copy\n",
      "  move['subtask'].iloc[-1] = grasp_task\n"
     ]
    },
    {
     "name": "stdout",
     "output_type": "stream",
     "text": [
      "Empty DataFrame\n",
      "Columns: [timestamp, q0, q1, q2, q3, q4, q5, x, y, z, rx, ry, rz, dx, dy, dz, drx, dry, drz, aperture, d_aperture, applied_force, d_applied_force, contact_force, subtask, task, img, wrist_img]\n",
      "Index: []\n",
      "\n",
      "[0 rows x 28 columns]\n",
      "Empty DataFrame\n",
      "Columns: [timestamp, q0, q1, q2, q3, q4, q5, x, y, z, rx, ry, rz, dx, dy, dz, drx, dry, drz, aperture, d_aperture, applied_force, d_applied_force, contact_force, subtask, task, img, wrist_img]\n",
      "Index: []\n",
      "\n",
      "[0 rows x 28 columns]\n",
      "trajectories/1727396483.6299527_garlic_bulb_id-0\n"
     ]
    },
    {
     "name": "stderr",
     "output_type": "stream",
     "text": [
      "C:\\Users\\willi\\AppData\\Local\\Temp\\ipykernel_10196\\592521529.py:147: SettingWithCopyWarning: \n",
      "A value is trying to be set on a copy of a slice from a DataFrame\n",
      "\n",
      "See the caveats in the documentation: https://pandas.pydata.org/pandas-docs/stable/user_guide/indexing.html#returning-a-view-versus-a-copy\n",
      "  move['subtask'].iloc[-1] = grasp_task\n"
     ]
    },
    {
     "name": "stdout",
     "output_type": "stream",
     "text": [
      "Empty DataFrame\n",
      "Columns: [timestamp, q0, q1, q2, q3, q4, q5, x, y, z, rx, ry, rz, dx, dy, dz, drx, dry, drz, aperture, d_aperture, applied_force, d_applied_force, contact_force, subtask, task, img, wrist_img]\n",
      "Index: []\n",
      "\n",
      "[0 rows x 28 columns]\n",
      "Empty DataFrame\n",
      "Columns: [timestamp, q0, q1, q2, q3, q4, q5, x, y, z, rx, ry, rz, dx, dy, dz, drx, dry, drz, aperture, d_aperture, applied_force, d_applied_force, contact_force, subtask, task, img, wrist_img]\n",
      "Index: []\n",
      "\n",
      "[0 rows x 28 columns]\n",
      "trajectories/1727396601.0638444_garlic_bulb_id-0\n"
     ]
    },
    {
     "name": "stderr",
     "output_type": "stream",
     "text": [
      "C:\\Users\\willi\\AppData\\Local\\Temp\\ipykernel_10196\\592521529.py:147: SettingWithCopyWarning: \n",
      "A value is trying to be set on a copy of a slice from a DataFrame\n",
      "\n",
      "See the caveats in the documentation: https://pandas.pydata.org/pandas-docs/stable/user_guide/indexing.html#returning-a-view-versus-a-copy\n",
      "  move['subtask'].iloc[-1] = grasp_task\n"
     ]
    },
    {
     "name": "stdout",
     "output_type": "stream",
     "text": [
      "Empty DataFrame\n",
      "Columns: [timestamp, q0, q1, q2, q3, q4, q5, x, y, z, rx, ry, rz, dx, dy, dz, drx, dry, drz, aperture, d_aperture, applied_force, d_applied_force, contact_force, subtask, task, img, wrist_img]\n",
      "Index: []\n",
      "\n",
      "[0 rows x 28 columns]\n",
      "Empty DataFrame\n",
      "Columns: [timestamp, q0, q1, q2, q3, q4, q5, x, y, z, rx, ry, rz, dx, dy, dz, drx, dry, drz, aperture, d_aperture, applied_force, d_applied_force, contact_force, subtask, task, img, wrist_img]\n",
      "Index: []\n",
      "\n",
      "[0 rows x 28 columns]\n",
      "trajectories/1727396650.3955832_garlic_bulb_id-0\n"
     ]
    },
    {
     "name": "stderr",
     "output_type": "stream",
     "text": [
      "C:\\Users\\willi\\AppData\\Local\\Temp\\ipykernel_10196\\592521529.py:147: SettingWithCopyWarning: \n",
      "A value is trying to be set on a copy of a slice from a DataFrame\n",
      "\n",
      "See the caveats in the documentation: https://pandas.pydata.org/pandas-docs/stable/user_guide/indexing.html#returning-a-view-versus-a-copy\n",
      "  move['subtask'].iloc[-1] = grasp_task\n"
     ]
    },
    {
     "name": "stdout",
     "output_type": "stream",
     "text": [
      "Empty DataFrame\n",
      "Columns: [timestamp, q0, q1, q2, q3, q4, q5, x, y, z, rx, ry, rz, dx, dy, dz, drx, dry, drz, aperture, d_aperture, applied_force, d_applied_force, contact_force, subtask, task, img, wrist_img]\n",
      "Index: []\n",
      "\n",
      "[0 rows x 28 columns]\n",
      "Empty DataFrame\n",
      "Columns: [timestamp, q0, q1, q2, q3, q4, q5, x, y, z, rx, ry, rz, dx, dy, dz, drx, dry, drz, aperture, d_aperture, applied_force, d_applied_force, contact_force, subtask, task, img, wrist_img]\n",
      "Index: []\n",
      "\n",
      "[0 rows x 28 columns]\n",
      "trajectories/1727396710.0122855_garlic_clove_id-0\n"
     ]
    },
    {
     "name": "stderr",
     "output_type": "stream",
     "text": [
      "C:\\Users\\willi\\AppData\\Local\\Temp\\ipykernel_10196\\592521529.py:147: SettingWithCopyWarning: \n",
      "A value is trying to be set on a copy of a slice from a DataFrame\n",
      "\n",
      "See the caveats in the documentation: https://pandas.pydata.org/pandas-docs/stable/user_guide/indexing.html#returning-a-view-versus-a-copy\n",
      "  move['subtask'].iloc[-1] = grasp_task\n"
     ]
    },
    {
     "name": "stdout",
     "output_type": "stream",
     "text": [
      "Empty DataFrame\n",
      "Columns: [timestamp, q0, q1, q2, q3, q4, q5, x, y, z, rx, ry, rz, dx, dy, dz, drx, dry, drz, aperture, d_aperture, applied_force, d_applied_force, contact_force, subtask, task, img, wrist_img]\n",
      "Index: []\n",
      "\n",
      "[0 rows x 28 columns]\n",
      "Empty DataFrame\n",
      "Columns: [timestamp, q0, q1, q2, q3, q4, q5, x, y, z, rx, ry, rz, dx, dy, dz, drx, dry, drz, aperture, d_aperture, applied_force, d_applied_force, contact_force, subtask, task, img, wrist_img]\n",
      "Index: []\n",
      "\n",
      "[0 rows x 28 columns]\n",
      "trajectories/1727396765.4617167_garlic_clove_id-0\n",
      "Empty DataFrame\n",
      "Columns: [timestamp, q0, q1, q2, q3, q4, q5, x, y, z, rx, ry, rz, dx, dy, dz, drx, dry, drz, aperture, d_aperture, applied_force, d_applied_force, contact_force, subtask, task, img, wrist_img]\n",
      "Index: []\n",
      "\n",
      "[0 rows x 28 columns]\n",
      "Empty DataFrame\n",
      "Columns: [timestamp, q0, q1, q2, q3, q4, q5, x, y, z, rx, ry, rz, dx, dy, dz, drx, dry, drz, aperture, d_aperture, applied_force, d_applied_force, contact_force, subtask, task, img, wrist_img]\n",
      "Index: []\n",
      "\n",
      "[0 rows x 28 columns]\n"
     ]
    },
    {
     "name": "stderr",
     "output_type": "stream",
     "text": [
      "C:\\Users\\willi\\AppData\\Local\\Temp\\ipykernel_10196\\592521529.py:147: SettingWithCopyWarning: \n",
      "A value is trying to be set on a copy of a slice from a DataFrame\n",
      "\n",
      "See the caveats in the documentation: https://pandas.pydata.org/pandas-docs/stable/user_guide/indexing.html#returning-a-view-versus-a-copy\n",
      "  move['subtask'].iloc[-1] = grasp_task\n",
      "C:\\Users\\willi\\AppData\\Local\\Temp\\ipykernel_10196\\592521529.py:147: SettingWithCopyWarning: \n",
      "A value is trying to be set on a copy of a slice from a DataFrame\n",
      "\n",
      "See the caveats in the documentation: https://pandas.pydata.org/pandas-docs/stable/user_guide/indexing.html#returning-a-view-versus-a-copy\n",
      "  move['subtask'].iloc[-1] = grasp_task\n"
     ]
    },
    {
     "name": "stdout",
     "output_type": "stream",
     "text": [
      "trajectories/1727396983.4945786_garlic_clove_id-0\n",
      "Empty DataFrame\n",
      "Columns: [timestamp, q0, q1, q2, q3, q4, q5, x, y, z, rx, ry, rz, dx, dy, dz, drx, dry, drz, aperture, d_aperture, applied_force, d_applied_force, contact_force, subtask, task, img, wrist_img]\n",
      "Index: []\n",
      "\n",
      "[0 rows x 28 columns]\n",
      "Empty DataFrame\n",
      "Columns: [timestamp, q0, q1, q2, q3, q4, q5, x, y, z, rx, ry, rz, dx, dy, dz, drx, dry, drz, aperture, d_aperture, applied_force, d_applied_force, contact_force, subtask, task, img, wrist_img]\n",
      "Index: []\n",
      "\n",
      "[0 rows x 28 columns]\n",
      "trajectories/1727397034.6282146_garlic_clove_id-0\n"
     ]
    },
    {
     "name": "stderr",
     "output_type": "stream",
     "text": [
      "C:\\Users\\willi\\AppData\\Local\\Temp\\ipykernel_10196\\592521529.py:147: SettingWithCopyWarning: \n",
      "A value is trying to be set on a copy of a slice from a DataFrame\n",
      "\n",
      "See the caveats in the documentation: https://pandas.pydata.org/pandas-docs/stable/user_guide/indexing.html#returning-a-view-versus-a-copy\n",
      "  move['subtask'].iloc[-1] = grasp_task\n"
     ]
    },
    {
     "name": "stdout",
     "output_type": "stream",
     "text": [
      "Empty DataFrame\n",
      "Columns: [timestamp, q0, q1, q2, q3, q4, q5, x, y, z, rx, ry, rz, dx, dy, dz, drx, dry, drz, aperture, d_aperture, applied_force, d_applied_force, contact_force, subtask, task, img, wrist_img]\n",
      "Index: []\n",
      "\n",
      "[0 rows x 28 columns]\n",
      "Empty DataFrame\n",
      "Columns: [timestamp, q0, q1, q2, q3, q4, q5, x, y, z, rx, ry, rz, dx, dy, dz, drx, dry, drz, aperture, d_aperture, applied_force, d_applied_force, contact_force, subtask, task, img, wrist_img]\n",
      "Index: []\n",
      "\n",
      "[0 rows x 28 columns]\n",
      "trajectories/1727397260.0246449_garlic_clove_id-0\n"
     ]
    },
    {
     "name": "stderr",
     "output_type": "stream",
     "text": [
      "C:\\Users\\willi\\AppData\\Local\\Temp\\ipykernel_10196\\592521529.py:147: SettingWithCopyWarning: \n",
      "A value is trying to be set on a copy of a slice from a DataFrame\n",
      "\n",
      "See the caveats in the documentation: https://pandas.pydata.org/pandas-docs/stable/user_guide/indexing.html#returning-a-view-versus-a-copy\n",
      "  move['subtask'].iloc[-1] = grasp_task\n"
     ]
    },
    {
     "name": "stdout",
     "output_type": "stream",
     "text": [
      "Empty DataFrame\n",
      "Columns: [timestamp, q0, q1, q2, q3, q4, q5, x, y, z, rx, ry, rz, dx, dy, dz, drx, dry, drz, aperture, d_aperture, applied_force, d_applied_force, contact_force, subtask, task, img, wrist_img]\n",
      "Index: []\n",
      "\n",
      "[0 rows x 28 columns]\n",
      "Empty DataFrame\n",
      "Columns: [timestamp, q0, q1, q2, q3, q4, q5, x, y, z, rx, ry, rz, dx, dy, dz, drx, dry, drz, aperture, d_aperture, applied_force, d_applied_force, contact_force, subtask, task, img, wrist_img]\n",
      "Index: []\n",
      "\n",
      "[0 rows x 28 columns]\n",
      "trajectories/1727397385.9107418_garlic_clove_id-0\n"
     ]
    },
    {
     "name": "stderr",
     "output_type": "stream",
     "text": [
      "C:\\Users\\willi\\AppData\\Local\\Temp\\ipykernel_10196\\592521529.py:147: SettingWithCopyWarning: \n",
      "A value is trying to be set on a copy of a slice from a DataFrame\n",
      "\n",
      "See the caveats in the documentation: https://pandas.pydata.org/pandas-docs/stable/user_guide/indexing.html#returning-a-view-versus-a-copy\n",
      "  move['subtask'].iloc[-1] = grasp_task\n"
     ]
    },
    {
     "name": "stdout",
     "output_type": "stream",
     "text": [
      "Empty DataFrame\n",
      "Columns: [timestamp, q0, q1, q2, q3, q4, q5, x, y, z, rx, ry, rz, dx, dy, dz, drx, dry, drz, aperture, d_aperture, applied_force, d_applied_force, contact_force, subtask, task, img, wrist_img]\n",
      "Index: []\n",
      "\n",
      "[0 rows x 28 columns]\n",
      "Empty DataFrame\n",
      "Columns: [timestamp, q0, q1, q2, q3, q4, q5, x, y, z, rx, ry, rz, dx, dy, dz, drx, dry, drz, aperture, d_aperture, applied_force, d_applied_force, contact_force, subtask, task, img, wrist_img]\n",
      "Index: []\n",
      "\n",
      "[0 rows x 28 columns]\n",
      "trajectories/1727397599.525318_peeled_garlic_clove_id-0\n"
     ]
    },
    {
     "name": "stderr",
     "output_type": "stream",
     "text": [
      "C:\\Users\\willi\\AppData\\Local\\Temp\\ipykernel_10196\\592521529.py:147: SettingWithCopyWarning: \n",
      "A value is trying to be set on a copy of a slice from a DataFrame\n",
      "\n",
      "See the caveats in the documentation: https://pandas.pydata.org/pandas-docs/stable/user_guide/indexing.html#returning-a-view-versus-a-copy\n",
      "  move['subtask'].iloc[-1] = grasp_task\n"
     ]
    },
    {
     "name": "stdout",
     "output_type": "stream",
     "text": [
      "Empty DataFrame\n",
      "Columns: [timestamp, q0, q1, q2, q3, q4, q5, x, y, z, rx, ry, rz, dx, dy, dz, drx, dry, drz, aperture, d_aperture, applied_force, d_applied_force, contact_force, subtask, task, img, wrist_img]\n",
      "Index: []\n",
      "\n",
      "[0 rows x 28 columns]\n",
      "Empty DataFrame\n",
      "Columns: [timestamp, q0, q1, q2, q3, q4, q5, x, y, z, rx, ry, rz, dx, dy, dz, drx, dry, drz, aperture, d_aperture, applied_force, d_applied_force, contact_force, subtask, task, img, wrist_img]\n",
      "Index: []\n",
      "\n",
      "[0 rows x 28 columns]\n",
      "trajectories/1727397653.7724648_peeled_garlic_clove_id-0\n"
     ]
    },
    {
     "name": "stderr",
     "output_type": "stream",
     "text": [
      "C:\\Users\\willi\\AppData\\Local\\Temp\\ipykernel_10196\\592521529.py:147: SettingWithCopyWarning: \n",
      "A value is trying to be set on a copy of a slice from a DataFrame\n",
      "\n",
      "See the caveats in the documentation: https://pandas.pydata.org/pandas-docs/stable/user_guide/indexing.html#returning-a-view-versus-a-copy\n",
      "  move['subtask'].iloc[-1] = grasp_task\n"
     ]
    },
    {
     "name": "stdout",
     "output_type": "stream",
     "text": [
      "Empty DataFrame\n",
      "Columns: [timestamp, q0, q1, q2, q3, q4, q5, x, y, z, rx, ry, rz, dx, dy, dz, drx, dry, drz, aperture, d_aperture, applied_force, d_applied_force, contact_force, subtask, task, img, wrist_img]\n",
      "Index: []\n",
      "\n",
      "[0 rows x 28 columns]\n",
      "Empty DataFrame\n",
      "Columns: [timestamp, q0, q1, q2, q3, q4, q5, x, y, z, rx, ry, rz, dx, dy, dz, drx, dry, drz, aperture, d_aperture, applied_force, d_applied_force, contact_force, subtask, task, img, wrist_img]\n",
      "Index: []\n",
      "\n",
      "[0 rows x 28 columns]\n",
      "trajectories/1727397704.7786145_peeled_garlic_clove_id-0\n"
     ]
    },
    {
     "name": "stderr",
     "output_type": "stream",
     "text": [
      "C:\\Users\\willi\\AppData\\Local\\Temp\\ipykernel_10196\\592521529.py:147: SettingWithCopyWarning: \n",
      "A value is trying to be set on a copy of a slice from a DataFrame\n",
      "\n",
      "See the caveats in the documentation: https://pandas.pydata.org/pandas-docs/stable/user_guide/indexing.html#returning-a-view-versus-a-copy\n",
      "  move['subtask'].iloc[-1] = grasp_task\n"
     ]
    },
    {
     "name": "stdout",
     "output_type": "stream",
     "text": [
      "Empty DataFrame\n",
      "Columns: [timestamp, q0, q1, q2, q3, q4, q5, x, y, z, rx, ry, rz, dx, dy, dz, drx, dry, drz, aperture, d_aperture, applied_force, d_applied_force, contact_force, subtask, task, img, wrist_img]\n",
      "Index: []\n",
      "\n",
      "[0 rows x 28 columns]\n",
      "Empty DataFrame\n",
      "Columns: [timestamp, q0, q1, q2, q3, q4, q5, x, y, z, rx, ry, rz, dx, dy, dz, drx, dry, drz, aperture, d_aperture, applied_force, d_applied_force, contact_force, subtask, task, img, wrist_img]\n",
      "Index: []\n",
      "\n",
      "[0 rows x 28 columns]\n",
      "trajectories/1727397763.004805_peeled_garlic_clove_id-0\n"
     ]
    },
    {
     "name": "stderr",
     "output_type": "stream",
     "text": [
      "C:\\Users\\willi\\AppData\\Local\\Temp\\ipykernel_10196\\592521529.py:147: SettingWithCopyWarning: \n",
      "A value is trying to be set on a copy of a slice from a DataFrame\n",
      "\n",
      "See the caveats in the documentation: https://pandas.pydata.org/pandas-docs/stable/user_guide/indexing.html#returning-a-view-versus-a-copy\n",
      "  move['subtask'].iloc[-1] = grasp_task\n"
     ]
    },
    {
     "name": "stdout",
     "output_type": "stream",
     "text": [
      "Empty DataFrame\n",
      "Columns: [timestamp, q0, q1, q2, q3, q4, q5, x, y, z, rx, ry, rz, dx, dy, dz, drx, dry, drz, aperture, d_aperture, applied_force, d_applied_force, contact_force, subtask, task, img, wrist_img]\n",
      "Index: []\n",
      "\n",
      "[0 rows x 28 columns]\n",
      "Empty DataFrame\n",
      "Columns: [timestamp, q0, q1, q2, q3, q4, q5, x, y, z, rx, ry, rz, dx, dy, dz, drx, dry, drz, aperture, d_aperture, applied_force, d_applied_force, contact_force, subtask, task, img, wrist_img]\n",
      "Index: []\n",
      "\n",
      "[0 rows x 28 columns]\n",
      "trajectories/1727456090.1296086_paper_cup_with_water_id-0\n"
     ]
    },
    {
     "name": "stderr",
     "output_type": "stream",
     "text": [
      "C:\\Users\\willi\\AppData\\Local\\Temp\\ipykernel_10196\\592521529.py:147: SettingWithCopyWarning: \n",
      "A value is trying to be set on a copy of a slice from a DataFrame\n",
      "\n",
      "See the caveats in the documentation: https://pandas.pydata.org/pandas-docs/stable/user_guide/indexing.html#returning-a-view-versus-a-copy\n",
      "  move['subtask'].iloc[-1] = grasp_task\n"
     ]
    },
    {
     "name": "stdout",
     "output_type": "stream",
     "text": [
      "Empty DataFrame\n",
      "Columns: [timestamp, q0, q1, q2, q3, q4, q5, x, y, z, rx, ry, rz, dx, dy, dz, drx, dry, drz, aperture, d_aperture, applied_force, d_applied_force, contact_force, subtask, task, img, wrist_img]\n",
      "Index: []\n",
      "\n",
      "[0 rows x 28 columns]\n",
      "Empty DataFrame\n",
      "Columns: [timestamp, q0, q1, q2, q3, q4, q5, x, y, z, rx, ry, rz, dx, dy, dz, drx, dry, drz, aperture, d_aperture, applied_force, d_applied_force, contact_force, subtask, task, img, wrist_img]\n",
      "Index: []\n",
      "\n",
      "[0 rows x 28 columns]\n",
      "trajectories/1727456159.525705_paper_cup_with_water_id-0\n"
     ]
    },
    {
     "name": "stderr",
     "output_type": "stream",
     "text": [
      "C:\\Users\\willi\\AppData\\Local\\Temp\\ipykernel_10196\\592521529.py:147: SettingWithCopyWarning: \n",
      "A value is trying to be set on a copy of a slice from a DataFrame\n",
      "\n",
      "See the caveats in the documentation: https://pandas.pydata.org/pandas-docs/stable/user_guide/indexing.html#returning-a-view-versus-a-copy\n",
      "  move['subtask'].iloc[-1] = grasp_task\n"
     ]
    },
    {
     "name": "stdout",
     "output_type": "stream",
     "text": [
      "Empty DataFrame\n",
      "Columns: [timestamp, q0, q1, q2, q3, q4, q5, x, y, z, rx, ry, rz, dx, dy, dz, drx, dry, drz, aperture, d_aperture, applied_force, d_applied_force, contact_force, subtask, task, img, wrist_img]\n",
      "Index: []\n",
      "\n",
      "[0 rows x 28 columns]\n",
      "Empty DataFrame\n",
      "Columns: [timestamp, q0, q1, q2, q3, q4, q5, x, y, z, rx, ry, rz, dx, dy, dz, drx, dry, drz, aperture, d_aperture, applied_force, d_applied_force, contact_force, subtask, task, img, wrist_img]\n",
      "Index: []\n",
      "\n",
      "[0 rows x 28 columns]\n",
      "trajectories/1727456904.4483047_paper_cup_with_water_id-0\n"
     ]
    },
    {
     "name": "stderr",
     "output_type": "stream",
     "text": [
      "C:\\Users\\willi\\AppData\\Local\\Temp\\ipykernel_10196\\592521529.py:147: SettingWithCopyWarning: \n",
      "A value is trying to be set on a copy of a slice from a DataFrame\n",
      "\n",
      "See the caveats in the documentation: https://pandas.pydata.org/pandas-docs/stable/user_guide/indexing.html#returning-a-view-versus-a-copy\n",
      "  move['subtask'].iloc[-1] = grasp_task\n"
     ]
    },
    {
     "name": "stdout",
     "output_type": "stream",
     "text": [
      "Empty DataFrame\n",
      "Columns: [timestamp, q0, q1, q2, q3, q4, q5, x, y, z, rx, ry, rz, dx, dy, dz, drx, dry, drz, aperture, d_aperture, applied_force, d_applied_force, contact_force, subtask, task, img, wrist_img]\n",
      "Index: []\n",
      "\n",
      "[0 rows x 28 columns]\n",
      "Empty DataFrame\n",
      "Columns: [timestamp, q0, q1, q2, q3, q4, q5, x, y, z, rx, ry, rz, dx, dy, dz, drx, dry, drz, aperture, d_aperture, applied_force, d_applied_force, contact_force, subtask, task, img, wrist_img]\n",
      "Index: []\n",
      "\n",
      "[0 rows x 28 columns]\n",
      "trajectories/1727457147.6772294_paper_cup_with_water_id-0\n"
     ]
    },
    {
     "name": "stderr",
     "output_type": "stream",
     "text": [
      "C:\\Users\\willi\\AppData\\Local\\Temp\\ipykernel_10196\\592521529.py:147: SettingWithCopyWarning: \n",
      "A value is trying to be set on a copy of a slice from a DataFrame\n",
      "\n",
      "See the caveats in the documentation: https://pandas.pydata.org/pandas-docs/stable/user_guide/indexing.html#returning-a-view-versus-a-copy\n",
      "  move['subtask'].iloc[-1] = grasp_task\n"
     ]
    },
    {
     "name": "stdout",
     "output_type": "stream",
     "text": [
      "Empty DataFrame\n",
      "Columns: [timestamp, q0, q1, q2, q3, q4, q5, x, y, z, rx, ry, rz, dx, dy, dz, drx, dry, drz, aperture, d_aperture, applied_force, d_applied_force, contact_force, subtask, task, img, wrist_img]\n",
      "Index: []\n",
      "\n",
      "[0 rows x 28 columns]\n",
      "Empty DataFrame\n",
      "Columns: [timestamp, q0, q1, q2, q3, q4, q5, x, y, z, rx, ry, rz, dx, dy, dz, drx, dry, drz, aperture, d_aperture, applied_force, d_applied_force, contact_force, subtask, task, img, wrist_img]\n",
      "Index: []\n",
      "\n",
      "[0 rows x 28 columns]\n",
      "trajectories/1727457211.1623206_paper_cup_with_water_id-0\n"
     ]
    },
    {
     "name": "stderr",
     "output_type": "stream",
     "text": [
      "C:\\Users\\willi\\AppData\\Local\\Temp\\ipykernel_10196\\592521529.py:147: SettingWithCopyWarning: \n",
      "A value is trying to be set on a copy of a slice from a DataFrame\n",
      "\n",
      "See the caveats in the documentation: https://pandas.pydata.org/pandas-docs/stable/user_guide/indexing.html#returning-a-view-versus-a-copy\n",
      "  move['subtask'].iloc[-1] = grasp_task\n"
     ]
    },
    {
     "name": "stdout",
     "output_type": "stream",
     "text": [
      "Empty DataFrame\n",
      "Columns: [timestamp, q0, q1, q2, q3, q4, q5, x, y, z, rx, ry, rz, dx, dy, dz, drx, dry, drz, aperture, d_aperture, applied_force, d_applied_force, contact_force, subtask, task, img, wrist_img]\n",
      "Index: []\n",
      "\n",
      "[0 rows x 28 columns]\n",
      "Empty DataFrame\n",
      "Columns: [timestamp, q0, q1, q2, q3, q4, q5, x, y, z, rx, ry, rz, dx, dy, dz, drx, dry, drz, aperture, d_aperture, applied_force, d_applied_force, contact_force, subtask, task, img, wrist_img]\n",
      "Index: []\n",
      "\n",
      "[0 rows x 28 columns]\n",
      "trajectories/1727458252.1915987_large_bearing_id-0\n",
      "Empty DataFrame\n",
      "Columns: [timestamp, q0, q1, q2, q3, q4, q5, x, y, z, rx, ry, rz, dx, dy, dz, drx, dry, drz, aperture, d_aperture, applied_force, d_applied_force, contact_force, subtask, task, img, wrist_img]\n",
      "Index: []\n",
      "\n",
      "[0 rows x 28 columns]\n",
      "Empty DataFrame\n",
      "Columns: [timestamp, q0, q1, q2, q3, q4, q5, x, y, z, rx, ry, rz, dx, dy, dz, drx, dry, drz, aperture, d_aperture, applied_force, d_applied_force, contact_force, subtask, task, img, wrist_img]\n",
      "Index: []\n",
      "\n",
      "[0 rows x 28 columns]\n"
     ]
    },
    {
     "name": "stderr",
     "output_type": "stream",
     "text": [
      "C:\\Users\\willi\\AppData\\Local\\Temp\\ipykernel_10196\\592521529.py:147: SettingWithCopyWarning: \n",
      "A value is trying to be set on a copy of a slice from a DataFrame\n",
      "\n",
      "See the caveats in the documentation: https://pandas.pydata.org/pandas-docs/stable/user_guide/indexing.html#returning-a-view-versus-a-copy\n",
      "  move['subtask'].iloc[-1] = grasp_task\n",
      "C:\\Users\\willi\\AppData\\Local\\Temp\\ipykernel_10196\\592521529.py:147: SettingWithCopyWarning: \n",
      "A value is trying to be set on a copy of a slice from a DataFrame\n",
      "\n",
      "See the caveats in the documentation: https://pandas.pydata.org/pandas-docs/stable/user_guide/indexing.html#returning-a-view-versus-a-copy\n",
      "  move['subtask'].iloc[-1] = grasp_task\n"
     ]
    },
    {
     "name": "stdout",
     "output_type": "stream",
     "text": [
      "trajectories/1727458428.6536212_large_bearing_id-0\n",
      "Empty DataFrame\n",
      "Columns: [timestamp, q0, q1, q2, q3, q4, q5, x, y, z, rx, ry, rz, dx, dy, dz, drx, dry, drz, aperture, d_aperture, applied_force, d_applied_force, contact_force, subtask, task, img, wrist_img]\n",
      "Index: []\n",
      "\n",
      "[0 rows x 28 columns]\n",
      "Empty DataFrame\n",
      "Columns: [timestamp, q0, q1, q2, q3, q4, q5, x, y, z, rx, ry, rz, dx, dy, dz, drx, dry, drz, aperture, d_aperture, applied_force, d_applied_force, contact_force, subtask, task, img, wrist_img]\n",
      "Index: []\n",
      "\n",
      "[0 rows x 28 columns]\n",
      "trajectories/1727458529.065218_large_bearing_id-0\n"
     ]
    },
    {
     "name": "stderr",
     "output_type": "stream",
     "text": [
      "C:\\Users\\willi\\AppData\\Local\\Temp\\ipykernel_10196\\592521529.py:147: SettingWithCopyWarning: \n",
      "A value is trying to be set on a copy of a slice from a DataFrame\n",
      "\n",
      "See the caveats in the documentation: https://pandas.pydata.org/pandas-docs/stable/user_guide/indexing.html#returning-a-view-versus-a-copy\n",
      "  move['subtask'].iloc[-1] = grasp_task\n",
      "C:\\Users\\willi\\AppData\\Local\\Temp\\ipykernel_10196\\592521529.py:147: SettingWithCopyWarning: \n",
      "A value is trying to be set on a copy of a slice from a DataFrame\n",
      "\n",
      "See the caveats in the documentation: https://pandas.pydata.org/pandas-docs/stable/user_guide/indexing.html#returning-a-view-versus-a-copy\n",
      "  move['subtask'].iloc[-1] = grasp_task\n"
     ]
    },
    {
     "name": "stdout",
     "output_type": "stream",
     "text": [
      "Empty DataFrame\n",
      "Columns: [timestamp, q0, q1, q2, q3, q4, q5, x, y, z, rx, ry, rz, dx, dy, dz, drx, dry, drz, aperture, d_aperture, applied_force, d_applied_force, contact_force, subtask, task, img, wrist_img]\n",
      "Index: []\n",
      "\n",
      "[0 rows x 28 columns]\n",
      "Empty DataFrame\n",
      "Columns: [timestamp, q0, q1, q2, q3, q4, q5, x, y, z, rx, ry, rz, dx, dy, dz, drx, dry, drz, aperture, d_aperture, applied_force, d_applied_force, contact_force, subtask, task, img, wrist_img]\n",
      "Index: []\n",
      "\n",
      "[0 rows x 28 columns]\n",
      "trajectories/1727458668.554735_large_bearing\n",
      "Empty DataFrame\n",
      "Columns: [timestamp, q0, q1, q2, q3, q4, q5, x, y, z, rx, ry, rz, dx, dy, dz, drx, dry, drz, aperture, d_aperture, applied_force, d_applied_force, contact_force, subtask, task, img, wrist_img]\n",
      "Index: []\n",
      "\n",
      "[0 rows x 28 columns]\n",
      "Empty DataFrame\n",
      "Columns: [timestamp, q0, q1, q2, q3, q4, q5, x, y, z, rx, ry, rz, dx, dy, dz, drx, dry, drz, aperture, d_aperture, applied_force, d_applied_force, contact_force, subtask, task, img, wrist_img]\n",
      "Index: []\n",
      "\n",
      "[0 rows x 28 columns]\n",
      "trajectories/1727458715.509142_large_bearing\n",
      "Empty DataFrame\n",
      "Columns: [timestamp, q0, q1, q2, q3, q4, q5, x, y, z, rx, ry, rz, dx, dy, dz, drx, dry, drz, aperture, d_aperture, applied_force, d_applied_force, contact_force, subtask, task, img, wrist_img]\n",
      "Index: []\n",
      "\n",
      "[0 rows x 28 columns]\n",
      "Empty DataFrame\n",
      "Columns: [timestamp, q0, q1, q2, q3, q4, q5, x, y, z, rx, ry, rz, dx, dy, dz, drx, dry, drz, aperture, d_aperture, applied_force, d_applied_force, contact_force, subtask, task, img, wrist_img]\n",
      "Index: []\n",
      "\n",
      "[0 rows x 28 columns]\n",
      "trajectories/1727458871.3699028_plastic_bottle_id-0\n"
     ]
    },
    {
     "name": "stderr",
     "output_type": "stream",
     "text": [
      "C:\\Users\\willi\\AppData\\Local\\Temp\\ipykernel_10196\\592521529.py:147: SettingWithCopyWarning: \n",
      "A value is trying to be set on a copy of a slice from a DataFrame\n",
      "\n",
      "See the caveats in the documentation: https://pandas.pydata.org/pandas-docs/stable/user_guide/indexing.html#returning-a-view-versus-a-copy\n",
      "  move['subtask'].iloc[-1] = grasp_task\n",
      "C:\\Users\\willi\\AppData\\Local\\Temp\\ipykernel_10196\\592521529.py:147: SettingWithCopyWarning: \n",
      "A value is trying to be set on a copy of a slice from a DataFrame\n",
      "\n",
      "See the caveats in the documentation: https://pandas.pydata.org/pandas-docs/stable/user_guide/indexing.html#returning-a-view-versus-a-copy\n",
      "  move['subtask'].iloc[-1] = grasp_task\n"
     ]
    },
    {
     "name": "stdout",
     "output_type": "stream",
     "text": [
      "Empty DataFrame\n",
      "Columns: [timestamp, q0, q1, q2, q3, q4, q5, x, y, z, rx, ry, rz, dx, dy, dz, drx, dry, drz, aperture, d_aperture, applied_force, d_applied_force, contact_force, subtask, task, img, wrist_img]\n",
      "Index: []\n",
      "\n",
      "[0 rows x 28 columns]\n",
      "Empty DataFrame\n",
      "Columns: [timestamp, q0, q1, q2, q3, q4, q5, x, y, z, rx, ry, rz, dx, dy, dz, drx, dry, drz, aperture, d_aperture, applied_force, d_applied_force, contact_force, subtask, task, img, wrist_img]\n",
      "Index: []\n",
      "\n",
      "[0 rows x 28 columns]\n",
      "trajectories/1727458926.4192767_plastic_bottle_id-0\n",
      "Empty DataFrame\n",
      "Columns: [timestamp, q0, q1, q2, q3, q4, q5, x, y, z, rx, ry, rz, dx, dy, dz, drx, dry, drz, aperture, d_aperture, applied_force, d_applied_force, contact_force, subtask, task, img, wrist_img]\n",
      "Index: []\n",
      "\n",
      "[0 rows x 28 columns]\n",
      "Empty DataFrame\n",
      "Columns: [timestamp, q0, q1, q2, q3, q4, q5, x, y, z, rx, ry, rz, dx, dy, dz, drx, dry, drz, aperture, d_aperture, applied_force, d_applied_force, contact_force, subtask, task, img, wrist_img]\n",
      "Index: []\n",
      "\n",
      "[0 rows x 28 columns]\n",
      "trajectories/1727458986.401326_plastic_bottle_id-0\n"
     ]
    },
    {
     "name": "stderr",
     "output_type": "stream",
     "text": [
      "C:\\Users\\willi\\AppData\\Local\\Temp\\ipykernel_10196\\592521529.py:147: SettingWithCopyWarning: \n",
      "A value is trying to be set on a copy of a slice from a DataFrame\n",
      "\n",
      "See the caveats in the documentation: https://pandas.pydata.org/pandas-docs/stable/user_guide/indexing.html#returning-a-view-versus-a-copy\n",
      "  move['subtask'].iloc[-1] = grasp_task\n",
      "C:\\Users\\willi\\AppData\\Local\\Temp\\ipykernel_10196\\592521529.py:147: SettingWithCopyWarning: \n",
      "A value is trying to be set on a copy of a slice from a DataFrame\n",
      "\n",
      "See the caveats in the documentation: https://pandas.pydata.org/pandas-docs/stable/user_guide/indexing.html#returning-a-view-versus-a-copy\n",
      "  move['subtask'].iloc[-1] = grasp_task\n"
     ]
    },
    {
     "name": "stdout",
     "output_type": "stream",
     "text": [
      "Empty DataFrame\n",
      "Columns: [timestamp, q0, q1, q2, q3, q4, q5, x, y, z, rx, ry, rz, dx, dy, dz, drx, dry, drz, aperture, d_aperture, applied_force, d_applied_force, contact_force, subtask, task, img, wrist_img]\n",
      "Index: []\n",
      "\n",
      "[0 rows x 28 columns]\n",
      "Empty DataFrame\n",
      "Columns: [timestamp, q0, q1, q2, q3, q4, q5, x, y, z, rx, ry, rz, dx, dy, dz, drx, dry, drz, aperture, d_aperture, applied_force, d_applied_force, contact_force, subtask, task, img, wrist_img]\n",
      "Index: []\n",
      "\n",
      "[0 rows x 28 columns]\n",
      "trajectories/1727459089.0012171_bottle_cap_id-0\n",
      "Empty DataFrame\n",
      "Columns: [timestamp, q0, q1, q2, q3, q4, q5, x, y, z, rx, ry, rz, dx, dy, dz, drx, dry, drz, aperture, d_aperture, applied_force, d_applied_force, contact_force, subtask, task, img, wrist_img]\n",
      "Index: []\n",
      "\n",
      "[0 rows x 28 columns]\n",
      "Empty DataFrame\n",
      "Columns: [timestamp, q0, q1, q2, q3, q4, q5, x, y, z, rx, ry, rz, dx, dy, dz, drx, dry, drz, aperture, d_aperture, applied_force, d_applied_force, contact_force, subtask, task, img, wrist_img]\n",
      "Index: []\n",
      "\n",
      "[0 rows x 28 columns]\n",
      "trajectories/1727459134.2657828_bottle_cap_id-0\n"
     ]
    },
    {
     "name": "stderr",
     "output_type": "stream",
     "text": [
      "C:\\Users\\willi\\AppData\\Local\\Temp\\ipykernel_10196\\592521529.py:147: SettingWithCopyWarning: \n",
      "A value is trying to be set on a copy of a slice from a DataFrame\n",
      "\n",
      "See the caveats in the documentation: https://pandas.pydata.org/pandas-docs/stable/user_guide/indexing.html#returning-a-view-versus-a-copy\n",
      "  move['subtask'].iloc[-1] = grasp_task\n",
      "C:\\Users\\willi\\AppData\\Local\\Temp\\ipykernel_10196\\592521529.py:147: SettingWithCopyWarning: \n",
      "A value is trying to be set on a copy of a slice from a DataFrame\n",
      "\n",
      "See the caveats in the documentation: https://pandas.pydata.org/pandas-docs/stable/user_guide/indexing.html#returning-a-view-versus-a-copy\n",
      "  move['subtask'].iloc[-1] = grasp_task\n"
     ]
    },
    {
     "name": "stdout",
     "output_type": "stream",
     "text": [
      "Empty DataFrame\n",
      "Columns: [timestamp, q0, q1, q2, q3, q4, q5, x, y, z, rx, ry, rz, dx, dy, dz, drx, dry, drz, aperture, d_aperture, applied_force, d_applied_force, contact_force, subtask, task, img, wrist_img]\n",
      "Index: []\n",
      "\n",
      "[0 rows x 28 columns]\n",
      "Empty DataFrame\n",
      "Columns: [timestamp, q0, q1, q2, q3, q4, q5, x, y, z, rx, ry, rz, dx, dy, dz, drx, dry, drz, aperture, d_aperture, applied_force, d_applied_force, contact_force, subtask, task, img, wrist_img]\n",
      "Index: []\n",
      "\n",
      "[0 rows x 28 columns]\n",
      "trajectories/1727459334.0820029_plastic_bottle_id-0\n",
      "Empty DataFrame\n",
      "Columns: [timestamp, q0, q1, q2, q3, q4, q5, x, y, z, rx, ry, rz, dx, dy, dz, drx, dry, drz, aperture, d_aperture, applied_force, d_applied_force, contact_force, subtask, task, img, wrist_img]\n",
      "Index: []\n",
      "\n",
      "[0 rows x 28 columns]\n",
      "Empty DataFrame\n",
      "Columns: [timestamp, q0, q1, q2, q3, q4, q5, x, y, z, rx, ry, rz, dx, dy, dz, drx, dry, drz, aperture, d_aperture, applied_force, d_applied_force, contact_force, subtask, task, img, wrist_img]\n",
      "Index: []\n",
      "\n",
      "[0 rows x 28 columns]\n",
      "trajectories/1727459396.568788_bottle_cap_id-0\n"
     ]
    },
    {
     "name": "stderr",
     "output_type": "stream",
     "text": [
      "C:\\Users\\willi\\AppData\\Local\\Temp\\ipykernel_10196\\592521529.py:147: SettingWithCopyWarning: \n",
      "A value is trying to be set on a copy of a slice from a DataFrame\n",
      "\n",
      "See the caveats in the documentation: https://pandas.pydata.org/pandas-docs/stable/user_guide/indexing.html#returning-a-view-versus-a-copy\n",
      "  move['subtask'].iloc[-1] = grasp_task\n",
      "C:\\Users\\willi\\AppData\\Local\\Temp\\ipykernel_10196\\592521529.py:147: SettingWithCopyWarning: \n",
      "A value is trying to be set on a copy of a slice from a DataFrame\n",
      "\n",
      "See the caveats in the documentation: https://pandas.pydata.org/pandas-docs/stable/user_guide/indexing.html#returning-a-view-versus-a-copy\n",
      "  move['subtask'].iloc[-1] = grasp_task\n"
     ]
    },
    {
     "name": "stdout",
     "output_type": "stream",
     "text": [
      "Empty DataFrame\n",
      "Columns: [timestamp, q0, q1, q2, q3, q4, q5, x, y, z, rx, ry, rz, dx, dy, dz, drx, dry, drz, aperture, d_aperture, applied_force, d_applied_force, contact_force, subtask, task, img, wrist_img]\n",
      "Index: []\n",
      "\n",
      "[0 rows x 28 columns]\n",
      "Empty DataFrame\n",
      "Columns: [timestamp, q0, q1, q2, q3, q4, q5, x, y, z, rx, ry, rz, dx, dy, dz, drx, dry, drz, aperture, d_aperture, applied_force, d_applied_force, contact_force, subtask, task, img, wrist_img]\n",
      "Index: []\n",
      "\n",
      "[0 rows x 28 columns]\n"
     ]
    }
   ],
   "source": [
    "# fdf = log_to_df(timestamp=timestamp, obj=\"FIX_test\", path=\"fix_test\")\n",
    "path = \"1726689405.2236292_red_button_id-0\"\n",
    "# path = \"1726689855.8823   204_yellow_block_id-0\"\n",
    "# iterate through all trajectory folders in path\n",
    "path = \"/home/wxie/workspace/deligrasp_dataset_builder/deligrasp_dataset/trajectories\"\n",
    "path = \"trajectories\"\n",
    "i = 0\n",
    "for folder in os.listdir(path):\n",
    "    i +=1\n",
    "    # if i > 3:\n",
    "    #     break\n",
    "    # skip if .npy file already exists in data/train\n",
    "    obj = path.split('_id-')[0].split('_')[1:]\n",
    "    obj = ' '.join(obj)\n",
    "    timestamp = path.split('_')[0].split('/')[-1]\n",
    "    if os.path.exists(f\"data/train/episode_{obj}_{timestamp}.npy\"):\n",
    "        continue\n",
    "    if os.path.isdir(f\"{path}/{folder}\"):\n",
    "        print(f\"{path}/{folder}\")\n",
    "        # move, grasp_log, home = log_to_df(path=f\"{path}/{folder}\", grasp_only=True)\n",
    "        move, grasp_log, home = log_to_df(path=f\"{path}/{folder}\")\n",
    "        # grasp_debug(path=f\"{path}/{folder}\")\n",
    "        # print(move, grasp_log, home)\n",
    "        # break\n",
    "# m,g,h = log_to_df(path=path)"
   ]
  },
  {
   "cell_type": "code",
   "execution_count": 17,
   "metadata": {},
   "outputs": [
    {
     "data": {
      "text/plain": [
       "<module 'deligrasp_dataset_dataset_builder' from 'c:\\\\workspace\\\\deligrasp_dataset_builder\\\\deligrasp_dataset\\\\deligrasp_dataset_dataset_builder.py'>"
      ]
     },
     "execution_count": 17,
     "metadata": {},
     "output_type": "execute_result"
    }
   ],
   "source": [
    "import importlib\n",
    "importlib.reload(deligrasp_dataset_dataset_builder)"
   ]
  },
  {
   "cell_type": "code",
   "execution_count": 6,
   "metadata": {},
   "outputs": [
    {
     "name": "stdout",
     "output_type": "stream",
     "text": [
      "WARNING:tensorflow:From C:\\Users\\willi\\AppData\\Roaming\\Python\\Python311\\site-packages\\tf_keras\\src\\losses.py:2976: The name tf.losses.sparse_softmax_cross_entropy is deprecated. Please use tf.compat.v1.losses.sparse_softmax_cross_entropy instead.\n",
      "\n",
      "WARNING:tensorflow:From C:\\Users\\willi\\AppData\\Roaming\\Python\\Python311\\site-packages\\tensorflow_hub\\resolver.py:120: The name tf.gfile.MakeDirs is deprecated. Please use tf.io.gfile.makedirs instead.\n",
      "\n"
     ]
    },
    {
     "name": "stderr",
     "output_type": "stream",
     "text": [
      "WARNING:tensorflow:From C:\\Users\\willi\\AppData\\Roaming\\Python\\Python311\\site-packages\\tensorflow_hub\\resolver.py:120: The name tf.gfile.MakeDirs is deprecated. Please use tf.io.gfile.makedirs instead.\n",
      "\n"
     ]
    },
    {
     "name": "stdout",
     "output_type": "stream",
     "text": [
      "WARNING:tensorflow:From C:\\Users\\willi\\AppData\\Roaming\\Python\\Python311\\site-packages\\tensorflow_hub\\module_v2.py:126: The name tf.saved_model.load_v2 is deprecated. Please use tf.compat.v2.saved_model.load instead.\n",
      "\n"
     ]
    },
    {
     "name": "stderr",
     "output_type": "stream",
     "text": [
      "WARNING:tensorflow:From C:\\Users\\willi\\AppData\\Roaming\\Python\\Python311\\site-packages\\tensorflow_hub\\module_v2.py:126: The name tf.saved_model.load_v2 is deprecated. Please use tf.compat.v2.saved_model.load instead.\n",
      "\n"
     ]
    },
    {
     "name": "stdout",
     "output_type": "stream",
     "text": [
      "\u001b[1mDownloading and preparing dataset Unknown size (download: Unknown size, generated: Unknown size, total: Unknown size) to C:\\Users\\willi\\tensorflow_datasets\\deligrasp_dataset\\1.0.0...\u001b[0m\n"
     ]
    },
    {
     "data": {
      "application/vnd.jupyter.widget-view+json": {
       "model_id": "07ed8cbcca294a419f4125810a70a737",
       "version_major": 2,
       "version_minor": 0
      },
      "text/plain": [
       "Generating splits...:   0%|          | 0/1 [00:00<?, ? splits/s]"
      ]
     },
     "metadata": {},
     "output_type": "display_data"
    },
    {
     "data": {
      "application/vnd.jupyter.widget-view+json": {
       "model_id": "8ea70b2d6d914c0395d986c98fa4e5dc",
       "version_major": 2,
       "version_minor": 0
      },
      "text/plain": [
       "Generating train examples...: 0 examples [00:00, ? examples/s]"
      ]
     },
     "metadata": {},
     "output_type": "display_data"
    },
    {
     "data": {
      "application/vnd.jupyter.widget-view+json": {
       "model_id": "3b02a4850d12438a8b7378e7eb0c7007",
       "version_major": 2,
       "version_minor": 0
      },
      "text/plain": [
       "Shuffling C:\\Users\\willi\\tensorflow_datasets\\deligrasp_dataset\\incomplete.7KBVXI_1.0.0\\deligrasp_dataset-train…"
      ]
     },
     "metadata": {},
     "output_type": "display_data"
    },
    {
     "name": "stdout",
     "output_type": "stream",
     "text": [
      "\u001b[1mDataset deligrasp_dataset downloaded and prepared to C:\\Users\\willi\\tensorflow_datasets\\deligrasp_dataset\\1.0.0. Subsequent calls will reuse this data.\u001b[0m\n",
      "{'train': <_PrefetchDataset element_spec={'episode_metadata': {'file_path': TensorSpec(shape=(), dtype=tf.string, name=None)}, 'steps': DatasetSpec({'action': TensorSpec(shape=(9,), dtype=tf.float64, name=None), 'action_dict': {'cartesian_position': TensorSpec(shape=(6,), dtype=tf.float64, name=None), 'gripper_force': TensorSpec(shape=(1,), dtype=tf.float64, name=None), 'gripper_position': TensorSpec(shape=(1,), dtype=tf.float64, name=None), 'rotation': TensorSpec(shape=(3,), dtype=tf.float64, name=None), 'translation': TensorSpec(shape=(3,), dtype=tf.float64, name=None)}, 'discount': TensorSpec(shape=(), dtype=tf.float32, name=None), 'is_first': TensorSpec(shape=(), dtype=tf.bool, name=None), 'is_last': TensorSpec(shape=(), dtype=tf.bool, name=None), 'is_terminal': TensorSpec(shape=(), dtype=tf.bool, name=None), 'language_embedding': TensorSpec(shape=(512,), dtype=tf.float32, name=None), 'language_instruction': TensorSpec(shape=(), dtype=tf.string, name=None), 'observation': {'applied_force': TensorSpec(shape=(1,), dtype=tf.float64, name=None), 'cartesian_position': TensorSpec(shape=(6,), dtype=tf.float64, name=None), 'contact_force': TensorSpec(shape=(1,), dtype=tf.float64, name=None), 'gripper_position': TensorSpec(shape=(1,), dtype=tf.float64, name=None), 'image': TensorSpec(shape=(480, 640, 3), dtype=tf.uint8, name=None), 'joint_position': TensorSpec(shape=(6,), dtype=tf.float64, name=None), 'state': TensorSpec(shape=(16,), dtype=tf.float64, name=None), 'wrist_image': TensorSpec(shape=(480, 640, 3), dtype=tf.uint8, name=None)}, 'reward': TensorSpec(shape=(), dtype=tf.float32, name=None), 'subtask': TensorSpec(shape=(), dtype=tf.string, name=None), 'timestep_pad_mask': TensorSpec(shape=(), dtype=tf.bool, name=None)}, TensorShape([]))}>}\n"
     ]
    }
   ],
   "source": [
    "# build datasets\n",
    "import tensorflow_datasets as tfds\n",
    "\n",
    "# Import your custom dataset builder class\n",
    "import deligrasp_dataset_dataset_builder\n",
    "\n",
    "# Instantiate and build the dataset\n",
    "builder = tfds.builder('DeligraspDataset')  # 'my_dataset' should match the class name in the Python file\n",
    "builder.download_and_prepare()  # Builds the dataset, as tfds build would do via CLI\n",
    "\n",
    "# Load the dataset\n",
    "ds = builder.as_dataset()\n",
    "\n",
    "# You can now inspect and use the dataset\n",
    "print(ds)\n"
   ]
  },
  {
   "cell_type": "code",
   "execution_count": 82,
   "metadata": {},
   "outputs": [
    {
     "ename": "NameError",
     "evalue": "name 'move' is not defined",
     "output_type": "error",
     "traceback": [
      "\u001b[0;31m---------------------------------------------------------------------------\u001b[0m",
      "\u001b[0;31mNameError\u001b[0m                                 Traceback (most recent call last)",
      "Cell \u001b[0;32mIn[82], line 75\u001b[0m\n\u001b[1;32m     72\u001b[0m     \u001b[38;5;28;01mreturn\u001b[39;00m move_workspace_interpolated, move_wrist_interpolated, grasp_workspace_interpolated, grasp_wrist_interpolated, home_workspace_interpolated, home_wrist_interpolated\n\u001b[1;32m     74\u001b[0m \u001b[38;5;66;03m# get_last_timestamps(path)\u001b[39;00m\n\u001b[0;32m---> 75\u001b[0m \u001b[43minterpolate_timestamps\u001b[49m\u001b[43m(\u001b[49m\u001b[43mpath\u001b[49m\u001b[43m)\u001b[49m\n",
      "Cell \u001b[0;32mIn[82], line 65\u001b[0m, in \u001b[0;36minterpolate_timestamps\u001b[0;34m(path)\u001b[0m\n\u001b[1;32m     62\u001b[0m     home_wrist_interpolated\u001b[38;5;241m.\u001b[39mappend(timestamp_to_filename(\u001b[38;5;28mmin\u001b[39m(home_wrist_img, key\u001b[38;5;241m=\u001b[39m\u001b[38;5;28;01mlambda\u001b[39;00m x:\u001b[38;5;28mabs\u001b[39m(x\u001b[38;5;241m-\u001b[39mh)), \u001b[38;5;241m2\u001b[39m))\n\u001b[1;32m     64\u001b[0m \u001b[38;5;66;03m# make new columns in dataframes\u001b[39;00m\n\u001b[0;32m---> 65\u001b[0m \u001b[43mmove\u001b[49m[\u001b[38;5;124m'\u001b[39m\u001b[38;5;124mimg\u001b[39m\u001b[38;5;124m'\u001b[39m] \u001b[38;5;241m=\u001b[39m move_workspace_interpolated\n\u001b[1;32m     66\u001b[0m move[\u001b[38;5;124m'\u001b[39m\u001b[38;5;124mwrist_img\u001b[39m\u001b[38;5;124m'\u001b[39m] \u001b[38;5;241m=\u001b[39m move_wrist_interpolated\n\u001b[1;32m     67\u001b[0m grasp[\u001b[38;5;124m'\u001b[39m\u001b[38;5;124mimg\u001b[39m\u001b[38;5;124m'\u001b[39m] \u001b[38;5;241m=\u001b[39m grasp_workspace_interpolated\n",
      "\u001b[0;31mNameError\u001b[0m: name 'move' is not defined"
     ]
    }
   ],
   "source": [
    "def extract_timestamp(filename):\n",
    "    # extracting the float\n",
    "    img = filename.split('_')[1].split('.')[:2]\n",
    "    return float(f\"{img[0]}.{img[1]}\")\n",
    "\n",
    "def timestamp_to_filename(timestamp, index):\n",
    "    # converting the float to a string\n",
    "    return f\"{index}_{str(timestamp)}.jpeg\"\n",
    "\n",
    "def get_last_timestamps(path=\"\"):\n",
    "    # we're gonna retrieve timestamps from the image file names in the workspace_img and wrist_img folders\n",
    "    # image filenames are structured as: <0,1,2>_<epoch_timestamp>.jpeg, 0,1,2 correspond to move, grasp, home respectively\n",
    "    # we're gonna use the last epoch timestamp from the move and home images to assign timestamps to the move and home dataframes\n",
    "    # using whichever is later, between the workspace and wrist images\n",
    "    \n",
    "    # for the move images, we're going to grab all the images from the path that begin with 0_\n",
    "    # for the home images, we're going to grab all the images from the path that begin with 2_\n",
    "    # we're going to sort the images in ascending order\n",
    "    # we're going to grab the last image in the list\n",
    "    # we're going to extract the epoch timestamp from the image filename\n",
    "    move_workspace_img = sorted([extract_timestamp(f) for f in os.listdir(f\"{path}/workspace_img\") if f.startswith(\"0_\")])\n",
    "    move_wrist_img = sorted([extract_timestamp(f) for f in os.listdir(f\"{path}/wrist_img\") if f.startswith(\"0_\")])\n",
    "    last_move_workspace_img = move_workspace_img[-1]\n",
    "    last_move_wrist_img = move_wrist_img[-1]\n",
    "    last_move = max(last_move_workspace_img, last_move_wrist_img)\n",
    "\n",
    "    home_workspace_img = sorted([extract_timestamp(f) for f in os.listdir(f\"{path}/workspace_img\") if f.startswith(\"2_\")])\n",
    "    home_wrist_img = sorted([extract_timestamp(f) for f in os.listdir(f\"{path}/wrist_img\") if f.startswith(\"2_\")])\n",
    "    last_home_workspace_img = home_workspace_img[-1]\n",
    "    last_home_wrist_img = home_wrist_img[-1]\n",
    "    last_home = max(last_home_workspace_img, last_home_wrist_img)\n",
    "\n",
    "    return last_move, last_home\n",
    "\n",
    "def interpolate_timestamps(path):\n",
    "    # we are going to find the img timestamp that is closest to each row's timestamp\n",
    "    move_timestamps = pd.read_csv(f\"{path}/0.csv\")['timestamp']\n",
    "    grasp_timestamps = pd.read_csv(f\"{path}/1.csv\")['timestamp']\n",
    "    home_timestamps = pd.read_csv(f\"{path}/2.csv\")['timestamp']\n",
    "    move_workspace_img = sorted([extract_timestamp(f) for f in os.listdir(f\"{path}/workspace_img\") if f.startswith(\"0_\")])\n",
    "    move_wrist_img = sorted([extract_timestamp(f) for f in os.listdir(f\"{path}/wrist_img\") if f.startswith(\"0_\")])\n",
    "    home_workspace_img = sorted([extract_timestamp(f) for f in os.listdir(f\"{path}/workspace_img\") if f.startswith(\"2_\")])\n",
    "    home_wrist_img = sorted([extract_timestamp(f) for f in os.listdir(f\"{path}/wrist_img\") if f.startswith(\"2_\")])\n",
    "    grasp_workspace_img = sorted([extract_timestamp(f) for f in os.listdir(f\"{path}/workspace_img\") if f.startswith(\"1_\")])\n",
    "    grasp_wrist_img = sorted([extract_timestamp(f) for f in os.listdir(f\"{path}/wrist_img\") if f.startswith(\"1_\")])\n",
    "    move_workspace_interpolated = []\n",
    "    grasp_workspace_interpolated = []\n",
    "    home_workspace_interpolated = []\n",
    "    move_wrist_interpolated = []\n",
    "    grasp_wrist_interpolated = []\n",
    "    home_wrist_interpolated = []\n",
    "    # go thropugh each timestamp in move, grasp, and home\n",
    "    # find the closest img timestamp and append to move_interpolated, grasp_interpolated, and home_interpolated\n",
    "    for m in move_timestamps:\n",
    "        move_workspace_interpolated.append(timestamp_to_filename(min(move_workspace_img, key=lambda x:abs(x-m)), 0))\n",
    "        move_wrist_interpolated.append(timestamp_to_filename(min(move_wrist_img, key=lambda x:abs(x-m)), 0))\n",
    "    for g in grasp_timestamps:\n",
    "        grasp_workspace_interpolated.append(timestamp_to_filename(min(grasp_workspace_img, key=lambda x:abs(x-g)), 1))\n",
    "        grasp_wrist_interpolated.append(timestamp_to_filename(min(grasp_wrist_img, key=lambda x:abs(x-g)), 1))\n",
    "    for h in home_timestamps:\n",
    "        home_workspace_interpolated.append(timestamp_to_filename(min(home_workspace_img, key=lambda x:abs(x-h)), 2))\n",
    "        home_wrist_interpolated.append(timestamp_to_filename(min(home_wrist_img, key=lambda x:abs(x-h)), 2))\n",
    "\n",
    "    # make new columns in dataframes\n",
    "    move['img'] = move_workspace_interpolated\n",
    "    move['wrist_img'] = move_wrist_interpolated\n",
    "    grasp['img'] = grasp_workspace_interpolated\n",
    "    grasp['wrist_img'] = grasp_wrist_interpolated\n",
    "    home['img'] = home_workspace_interpolated\n",
    "    home['wrist_img'] = home_wrist_interpolated\n",
    "\n",
    "    return move_workspace_interpolated, move_wrist_interpolated, grasp_workspace_interpolated, grasp_wrist_interpolated, home_workspace_interpolated, home_wrist_interpolated\n",
    "\n",
    "# get_last_timestamps(path)\n",
    "interpolate_timestamps(path)\n",
    "\n",
    "    "
   ]
  },
  {
   "cell_type": "code",
   "execution_count": 69,
   "metadata": {},
   "outputs": [
    {
     "ename": "TypeError",
     "evalue": "string indices must be integers, not 'str'",
     "output_type": "error",
     "traceback": [
      "\u001b[0;31m---------------------------------------------------------------------------\u001b[0m",
      "\u001b[0;31mTypeError\u001b[0m                                 Traceback (most recent call last)",
      "Cell \u001b[0;32mIn[69], line 11\u001b[0m\n\u001b[1;32m      7\u001b[0m episode \u001b[38;5;241m=\u001b[39m \u001b[38;5;28mnext\u001b[39m(\u001b[38;5;28miter\u001b[39m(d))\n\u001b[1;32m      8\u001b[0m \u001b[38;5;66;03m# images = [step['observation']['image'] for step in episode['steps']]\u001b[39;00m\n\u001b[1;32m      9\u001b[0m \u001b[38;5;66;03m# images = [Image.fromarray(image.numpy()) for image in images]\u001b[39;00m\n\u001b[1;32m     10\u001b[0m \u001b[38;5;66;03m# display.Image(as_gif(images))\u001b[39;00m\n\u001b[0;32m---> 11\u001b[0m \u001b[38;5;28;01mfor\u001b[39;00m step \u001b[38;5;129;01min\u001b[39;00m \u001b[43mepisode\u001b[49m\u001b[43m[\u001b[49m\u001b[38;5;124;43m'\u001b[39;49m\u001b[38;5;124;43msteps\u001b[39;49m\u001b[38;5;124;43m'\u001b[39;49m\u001b[43m]\u001b[49m:\n\u001b[1;32m     12\u001b[0m     \u001b[38;5;28mprint\u001b[39m(step[\u001b[38;5;124m'\u001b[39m\u001b[38;5;124mtimestamp\u001b[39m\u001b[38;5;124m'\u001b[39m])\n\u001b[1;32m     13\u001b[0m     \u001b[38;5;28mprint\u001b[39m(step[\u001b[38;5;124m'\u001b[39m\u001b[38;5;124maction\u001b[39m\u001b[38;5;124m'\u001b[39m])\n",
      "\u001b[0;31mTypeError\u001b[0m: string indices must be integers, not 'str'"
     ]
    }
   ],
   "source": [
    "def as_gif(images, path='temp.gif'):\n",
    "  # Render the images as the gif:\n",
    "  images[0].save(path, save_all=True, append_images=images[1:], duration=1000, loop=0)\n",
    "  gif_bytes = open(path,'rb').read()\n",
    "  return gif_bytes\n",
    "\n",
    "# images = [step['observation']['image'] for step in episode['steps']]\n",
    "# images = [Image.fromarray(image.numpy()) for image in images]\n",
    "# display.Image(as_gif(images))\n",
    "for step in episode['steps']:\n",
    "    print(step['timestamp'])\n",
    "    print(step['action'])\n",
    "    print(step['observation'])\n",
    "    print(step['language_instruction'])\n",
    "    print(step['reward'])\n",
    "    print(step['is_terminal'])\n",
    "    print(step['is_first'])\n",
    "    print(step['is_last'])\n",
    "    print(\"\\n\")"
   ]
  }
 ],
 "metadata": {
  "kernelspec": {
   "display_name": "Python 3",
   "language": "python",
   "name": "python3"
  },
  "language_info": {
   "codemirror_mode": {
    "name": "ipython",
    "version": 3
   },
   "file_extension": ".py",
   "mimetype": "text/x-python",
   "name": "python",
   "nbconvert_exporter": "python",
   "pygments_lexer": "ipython3",
   "version": "3.11.3"
  }
 },
 "nbformat": 4,
 "nbformat_minor": 2
}
